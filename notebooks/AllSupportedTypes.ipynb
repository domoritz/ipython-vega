{
 "cells": [
  {
   "cell_type": "code",
   "execution_count": 5,
   "id": "688a1886",
   "metadata": {},
   "outputs": [
    {
     "data": {
      "application/vnd.jupyter.widget-view+json": {
       "model_id": "3699af337d4441ab99f2e4433d8a29cd",
       "version_major": 2,
       "version_minor": 0
      },
      "text/plain": [
       "VegaWidget()"
      ]
     },
     "metadata": {},
     "output_type": "display_data"
    },
    {
     "name": "stdout",
     "output_type": "stream",
     "text": [
      "CPU times: user 21 µs, sys: 21 µs, total: 42 µs\n",
      "Wall time: 49.1 µs\n"
     ]
    }
   ],
   "source": [
    "spec_no_data = {\n",
    "  \"$schema\": \"https://vega.github.io/schema/vega-lite/v5.json\",\n",
    "  \"data\": {\"name\": \"data\"},\n",
    "  \"mark\": \"bar\",\n",
    "  \"encoding\": {\n",
    "    \"x\": {\"aggregate\": \"sum\", \"field\": \"yield\"},\n",
    "    \"y\": {\"field\": \"variety\"},\n",
    "    \"color\": {\"field\": \"site\"}\n",
    "  }\n",
    "}\n",
    "from vega.widget import VegaWidget\n",
    "import requests\n",
    "import json\n",
    "req = requests.get(\"https://raw.githubusercontent.com/vega/vega/master/docs/data/barley.json\")\n",
    "values = json.loads(req.text)\n",
    "#data\n",
    "widget = VegaWidget(spec=spec_no_data)\n",
    "display(widget)\n",
    "%time widget.update('data', insert=values)\n"
   ]
  },
  {
   "cell_type": "code",
   "execution_count": 6,
   "id": "7d0f4bf0",
   "metadata": {},
   "outputs": [
    {
     "data": {
      "application/vnd.jupyter.widget-view+json": {
       "model_id": "cad38824530d4a8bb90960dc194bbb53",
       "version_major": 2,
       "version_minor": 0
      },
      "text/plain": [
       "VegaWidget()"
      ]
     },
     "metadata": {},
     "output_type": "display_data"
    },
    {
     "name": "stdout",
     "output_type": "stream",
     "text": [
      "CPU times: user 4.39 ms, sys: 172 µs, total: 4.56 ms\n",
      "Wall time: 4.11 ms\n"
     ]
    }
   ],
   "source": [
    "import pandas as pd\n",
    "URL = \"https://forge.scilab.org/index.php/p/rdataset/source/file/368b19abcb4292c56e4f21079f750eb76b325907/csv/lattice/barley.csv\"\n",
    "df = pd.read_csv(URL)\n",
    "widget = VegaWidget(spec=spec_no_data)\n",
    "display(widget)\n",
    "%time widget.update_dataframe(df)"
   ]
  },
  {
   "cell_type": "code",
   "execution_count": 7,
   "id": "a13d013c",
   "metadata": {},
   "outputs": [
    {
     "data": {
      "application/vnd.jupyter.widget-view+json": {
       "model_id": "32f76c5acacf481a8fcf3b9cbfc1fcce",
       "version_major": 2,
       "version_minor": 0
      },
      "text/plain": [
       "VegaWidget()"
      ]
     },
     "metadata": {},
     "output_type": "display_data"
    },
    {
     "name": "stdout",
     "output_type": "stream",
     "text": [
      "CPU times: user 4.52 ms, sys: 290 µs, total: 4.81 ms\n",
      "Wall time: 4.35 ms\n"
     ]
    }
   ],
   "source": [
    "import pandas as pd\n",
    "from vega.dataframes.compressors import ZLibCompressor\n",
    "URL = \"https://forge.scilab.org/index.php/p/rdataset/source/file/368b19abcb4292c56e4f21079f750eb76b325907/csv/lattice/barley.csv\"\n",
    "df = pd.read_csv(URL)\n",
    "widget = VegaWidget(spec=spec_no_data)\n",
    "widget.compression = ZLibCompressor(2)\n",
    "display(widget)\n",
    "%time widget.update_dataframe(df)"
   ]
  },
  {
   "cell_type": "code",
   "execution_count": 8,
   "id": "6792044d",
   "metadata": {},
   "outputs": [
    {
     "data": {
      "application/vnd.jupyter.widget-view+json": {
       "model_id": "e2561abac98b470db72ba11a5340b65f",
       "version_major": 2,
       "version_minor": 0
      },
      "text/plain": [
       "VegaWidget()"
      ]
     },
     "metadata": {},
     "output_type": "display_data"
    },
    {
     "name": "stdout",
     "output_type": "stream",
     "text": [
      "CPU times: user 4.77 ms, sys: 478 µs, total: 5.25 ms\n",
      "Wall time: 4.77 ms\n"
     ]
    }
   ],
   "source": [
    "import pandas as pd\n",
    "from vega.dataframes.compressors import LZ4Compressor\n",
    "URL = \"https://forge.scilab.org/index.php/p/rdataset/source/file/368b19abcb4292c56e4f21079f750eb76b325907/csv/lattice/barley.csv\"\n",
    "df = pd.read_csv(URL)\n",
    "widget = VegaWidget(spec=spec_no_data)\n",
    "widget.compression = LZ4Compressor(2)\n",
    "display(widget)\n",
    "%time widget.update_dataframe(df)"
   ]
  },
  {
   "cell_type": "code",
   "execution_count": null,
   "id": "7a6f7b68",
   "metadata": {},
   "outputs": [],
   "source": []
  }
 ],
 "metadata": {
  "kernelspec": {
   "display_name": "Python 3",
   "language": "python",
   "name": "python3"
  },
  "language_info": {
   "codemirror_mode": {
    "name": "ipython",
    "version": 3
   },
   "file_extension": ".py",
   "mimetype": "text/x-python",
   "name": "python",
   "nbconvert_exporter": "python",
   "pygments_lexer": "ipython3",
   "version": "3.9.4"
  }
 },
 "nbformat": 4,
 "nbformat_minor": 5
}
