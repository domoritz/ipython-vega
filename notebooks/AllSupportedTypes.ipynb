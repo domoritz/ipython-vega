{
 "cells": [
  {
   "cell_type": "code",
   "execution_count": 1,
   "id": "688a1886",
   "metadata": {},
   "outputs": [
    {
     "data": {
      "application/vnd.jupyter.widget-view+json": {
       "model_id": "8307e220272a400282e072b0af100694",
       "version_major": 2,
       "version_minor": 0
      },
      "text/plain": [
       "VegaWidget()"
      ]
     },
     "metadata": {},
     "output_type": "display_data"
    }
   ],
   "source": [
    "spec_no_data = {\n",
    "  \"$schema\": \"https://vega.github.io/schema/vega-lite/v5.json\",\n",
    "  \"data\": {\"name\": \"data\"},\n",
    "  \"mark\": \"bar\",\n",
    "  \"encoding\": {\n",
    "    \"x\": {\"aggregate\": \"sum\", \"field\": \"yield\"},\n",
    "    \"y\": {\"field\": \"variety\"},\n",
    "    \"color\": {\"field\": \"site\"}\n",
    "  }\n",
    "}\n",
    "from vega.widget import VegaWidget\n",
    "import requests\n",
    "import json\n",
    "req = requests.get(\"https://raw.githubusercontent.com/vega/vega/master/docs/data/barley.json\")\n",
    "values = json.loads(req.text)\n",
    "#data\n",
    "widget = VegaWidget(spec=spec_no_data)\n",
    "display(widget)\n",
    "widget.update('data', insert=values)\n"
   ]
  },
  {
   "cell_type": "code",
   "execution_count": 3,
   "id": "7d0f4bf0",
   "metadata": {},
   "outputs": [
    {
     "data": {
      "application/vnd.jupyter.widget-view+json": {
       "model_id": "210a2c64d94d408ab052857c73cfd8d6",
       "version_major": 2,
       "version_minor": 0
      },
      "text/plain": [
       "VegaWidget()"
      ]
     },
     "metadata": {},
     "output_type": "display_data"
    }
   ],
   "source": [
    "import pandas as pd\n",
    "URL = \"https://forge.scilab.org/index.php/p/rdataset/source/file/368b19abcb4292c56e4f21079f750eb76b325907/csv/lattice/barley.csv\"\n",
    "df = pd.read_csv(URL)\n",
    "widget = VegaWidget(spec=spec_no_data)\n",
    "display(widget)\n",
    "widget.update_dataframe(df)"
   ]
  }
 ],
 "metadata": {
  "kernelspec": {
   "display_name": "Python 3",
   "language": "python",
   "name": "python3"
  },
  "language_info": {
   "codemirror_mode": {
    "name": "ipython",
    "version": 3
   },
   "file_extension": ".py",
   "mimetype": "text/x-python",
   "name": "python",
   "nbconvert_exporter": "python",
   "pygments_lexer": "ipython3",
   "version": "3.9.5"
  }
 },
 "nbformat": 4,
 "nbformat_minor": 5
}
