{
 "cells": [
  {
   "cell_type": "code",
   "execution_count": 1,
   "id": "688a1886",
   "metadata": {},
   "outputs": [
    {
     "data": {
      "application/vnd.jupyter.widget-view+json": {
       "model_id": "9d42bf00e5214027bb141ee6e91f7978",
       "version_major": 2,
       "version_minor": 0
      },
      "text/plain": [
       "VegaWidget()"
      ]
     },
     "metadata": {},
     "output_type": "display_data"
    },
    {
     "name": "stdout",
     "output_type": "stream",
     "text": [
      "CPU times: user 15 µs, sys: 6 µs, total: 21 µs\n",
      "Wall time: 33.4 µs\n"
     ]
    }
   ],
   "source": [
    "spec_no_data = {\n",
    "  \"$schema\": \"https://vega.github.io/schema/vega-lite/v5.json\",\n",
    "  \"data\": {\"name\": \"data\"},\n",
    "  \"mark\": \"bar\",\n",
    "  \"encoding\": {\n",
    "    \"x\": {\"aggregate\": \"sum\", \"field\": \"yield\"},\n",
    "    \"y\": {\"field\": \"variety\"},\n",
    "    \"color\": {\"field\": \"site\"}\n",
    "  }\n",
    "}\n",
    "from vega.widget import VegaWidget\n",
    "import requests\n",
    "import json\n",
    "req = requests.get(\"https://raw.githubusercontent.com/vega/vega/master/docs/data/barley.json\")\n",
    "values = json.loads(req.text)\n",
    "#data\n",
    "widget = VegaWidget(spec=spec_no_data)\n",
    "display(widget)\n",
    "%time widget.update('data', insert=values)\n"
   ]
  },
  {
   "cell_type": "code",
   "execution_count": 3,
   "id": "7d0f4bf0",
   "metadata": {},
   "outputs": [
    {
     "data": {
      "application/vnd.jupyter.widget-view+json": {
       "model_id": "61d2cec9afe14f4f95602bcf9c07c4f3",
       "version_major": 2,
       "version_minor": 0
      },
      "text/plain": [
       "VegaWidget()"
      ]
     },
     "metadata": {},
     "output_type": "display_data"
    },
    {
     "name": "stdout",
     "output_type": "stream",
     "text": [
      "CPU times: user 8.37 ms, sys: 89 µs, total: 8.46 ms\n",
      "Wall time: 12.2 ms\n"
     ]
    }
   ],
   "source": [
    "import pandas as pd\n",
    "URL = \"https://forge.scilab.org/index.php/p/rdataset/source/file/368b19abcb4292c56e4f21079f750eb76b325907/csv/lattice/barley.csv\"\n",
    "df = pd.read_csv(URL)\n",
    "widget = VegaWidget(spec=spec_no_data)\n",
    "display(widget)\n",
    "%time widget.update_dataframe(\"data\", df)"
   ]
  },
  {
   "cell_type": "code",
   "execution_count": 12,
   "id": "a13d013c",
   "metadata": {},
   "outputs": [
    {
     "data": {
      "application/vnd.jupyter.widget-view+json": {
       "model_id": "d936cb7b939d4977ba527f6c1ec80c8d",
       "version_major": 2,
       "version_minor": 0
      },
      "text/plain": [
       "VegaWidget()"
      ]
     },
     "metadata": {},
     "output_type": "display_data"
    },
    {
     "name": "stdout",
     "output_type": "stream",
     "text": [
      "CPU times: user 2.45 ms, sys: 0 ns, total: 2.45 ms\n",
      "Wall time: 2.12 ms\n"
     ]
    }
   ],
   "source": [
    "import pandas as pd\n",
    "URL = \"https://forge.scilab.org/index.php/p/rdataset/source/file/368b19abcb4292c56e4f21079f750eb76b325907/csv/lattice/barley.csv\"\n",
    "df = pd.read_csv(URL)\n",
    "widget = VegaWidget(spec=spec_no_data)\n",
    "widget.compression = 'zlib'\n",
    "display(widget)\n",
    "%time widget.update_dataframe('data', df)"
   ]
  },
  {
   "cell_type": "code",
   "execution_count": 13,
   "id": "6792044d",
   "metadata": {},
   "outputs": [
    {
     "data": {
      "application/vnd.jupyter.widget-view+json": {
       "model_id": "3df4af5229bf44d4aa8bad0f187f481b",
       "version_major": 2,
       "version_minor": 0
      },
      "text/plain": [
       "VegaWidget()"
      ]
     },
     "metadata": {},
     "output_type": "display_data"
    },
    {
     "name": "stdout",
     "output_type": "stream",
     "text": [
      "CPU times: user 5.97 ms, sys: 0 ns, total: 5.97 ms\n",
      "Wall time: 5.04 ms\n"
     ]
    }
   ],
   "source": [
    "import pandas as pd\n",
    "from vega.dataframes.compressors import LZ4Compressor\n",
    "URL = \"https://forge.scilab.org/index.php/p/rdataset/source/file/368b19abcb4292c56e4f21079f750eb76b325907/csv/lattice/barley.csv\"\n",
    "df = pd.read_csv(URL)\n",
    "widget = VegaWidget(spec=spec_no_data)\n",
    "widget.compression = LZ4Compressor(2)\n",
    "display(widget)\n",
    "%time widget.update_dataframe('data', df)"
   ]
  },
  {
   "cell_type": "code",
   "execution_count": null,
   "id": "7a6f7b68",
   "metadata": {},
   "outputs": [],
   "source": []
  }
 ],
 "metadata": {
  "kernelspec": {
   "display_name": "Python 3",
   "language": "python",
   "name": "python3"
  },
  "language_info": {
   "codemirror_mode": {
    "name": "ipython",
    "version": 3
   },
   "file_extension": ".py",
   "mimetype": "text/x-python",
   "name": "python",
   "nbconvert_exporter": "python",
   "pygments_lexer": "ipython3",
   "version": "3.9.5"
  }
 },
 "nbformat": 4,
 "nbformat_minor": 5
}
