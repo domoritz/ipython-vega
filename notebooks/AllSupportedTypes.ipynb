{
 "cells": [
  {
   "cell_type": "code",
   "execution_count": 2,
   "id": "688a1886",
   "metadata": {},
   "outputs": [
    {
     "data": {
      "application/vnd.jupyter.widget-view+json": {
       "model_id": "8e884674cb534f18abbb5abe6ce8f5f3",
       "version_major": 2,
       "version_minor": 0
      },
      "text/plain": [
       "VegaWidget()"
      ]
     },
     "metadata": {},
     "output_type": "display_data"
    },
    {
     "name": "stdout",
     "output_type": "stream",
     "text": [
      "CPU times: user 12 µs, sys: 7 µs, total: 19 µs\n",
      "Wall time: 39.3 µs\n"
     ]
    }
   ],
   "source": [
    "spec_no_data = {\n",
    "  \"$schema\": \"https://vega.github.io/schema/vega-lite/v5.json\",\n",
    "  \"data\": {\"name\": \"data\"},\n",
    "  \"mark\": \"bar\",\n",
    "  \"encoding\": {\n",
    "    \"x\": {\"aggregate\": \"sum\", \"field\": \"yield\"},\n",
    "    \"y\": {\"field\": \"variety\"},\n",
    "    \"color\": {\"field\": \"site\"}\n",
    "  }\n",
    "}\n",
    "from vega.widget import VegaWidget\n",
    "import requests\n",
    "import json\n",
    "req = requests.get(\"https://raw.githubusercontent.com/vega/vega/master/docs/data/barley.json\")\n",
    "values = json.loads(req.text)\n",
    "#data\n",
    "widget = VegaWidget(spec=spec_no_data)\n",
    "display(widget)\n",
    "%time widget.update('data', insert=values)"
   ]
  },
  {
   "cell_type": "code",
   "execution_count": 3,
   "id": "7d0f4bf0",
   "metadata": {},
   "outputs": [
    {
     "data": {
      "application/vnd.jupyter.widget-view+json": {
       "model_id": "6d5ec440a3124b019fcdb53707dbf393",
       "version_major": 2,
       "version_minor": 0
      },
      "text/plain": [
       "VegaWidget()"
      ]
     },
     "metadata": {},
     "output_type": "display_data"
    },
    {
     "name": "stdout",
     "output_type": "stream",
     "text": [
      "CPU times: user 3.84 ms, sys: 0 ns, total: 3.84 ms\n",
      "Wall time: 6.53 ms\n"
     ]
    }
   ],
   "source": [
    "import pandas as pd\n",
    "URL = \"https://forge.scilab.org/index.php/p/rdataset/source/file/368b19abcb4292c56e4f21079f750eb76b325907/csv/lattice/barley.csv\"\n",
    "df = pd.read_csv(URL)\n",
    "widget = VegaWidget(spec=spec_no_data)\n",
    "display(widget)\n",
    "%time widget.update_dataframe(\"data\", df)"
   ]
  },
  {
   "cell_type": "code",
   "execution_count": 4,
   "id": "a13d013c",
   "metadata": {},
   "outputs": [
    {
     "data": {
      "application/vnd.jupyter.widget-view+json": {
       "model_id": "b61aaddacf2542cd9dfee9fe980b0e44",
       "version_major": 2,
       "version_minor": 0
      },
      "text/plain": [
       "VegaWidget()"
      ]
     },
     "metadata": {},
     "output_type": "display_data"
    },
    {
     "name": "stdout",
     "output_type": "stream",
     "text": [
      "CPU times: user 8.08 ms, sys: 64 µs, total: 8.14 ms\n",
      "Wall time: 7.46 ms\n"
     ]
    }
   ],
   "source": [
    "import pandas as pd\n",
    "URL = \"https://forge.scilab.org/index.php/p/rdataset/source/file/368b19abcb4292c56e4f21079f750eb76b325907/csv/lattice/barley.csv\"\n",
    "df = pd.read_csv(URL)\n",
    "widget = VegaWidget(spec=spec_no_data)\n",
    "widget.compression = 'zlib'\n",
    "display(widget)\n",
    "%time widget.update_dataframe('data', df)"
   ]
  },
  {
   "cell_type": "code",
   "execution_count": 5,
   "id": "6792044d",
   "metadata": {},
   "outputs": [
    {
     "data": {
      "application/vnd.jupyter.widget-view+json": {
       "model_id": "9e89e163b2b04d3bb886c9f3374d390b",
       "version_major": 2,
       "version_minor": 0
      },
      "text/plain": [
       "VegaWidget()"
      ]
     },
     "metadata": {},
     "output_type": "display_data"
    },
    {
     "name": "stdout",
     "output_type": "stream",
     "text": [
      "CPU times: user 3.85 ms, sys: 0 ns, total: 3.85 ms\n",
      "Wall time: 3.49 ms\n"
     ]
    }
   ],
   "source": [
    "import pandas as pd\n",
    "from ipytablewidgets import LZ4Compressor\n",
    "URL = \"https://forge.scilab.org/index.php/p/rdataset/source/file/368b19abcb4292c56e4f21079f750eb76b325907/csv/lattice/barley.csv\"\n",
    "df = pd.read_csv(URL)\n",
    "widget = VegaWidget(spec=spec_no_data)\n",
    "widget.compression = LZ4Compressor(2)\n",
    "display(widget)\n",
    "%time widget.update_dataframe('data', df)"
   ]
  },
  {
   "cell_type": "code",
   "execution_count": null,
   "id": "7a6f7b68",
   "metadata": {},
   "outputs": [],
   "source": []
  }
 ],
 "metadata": {
  "kernelspec": {
   "display_name": "Python 3",
   "language": "python",
   "name": "python3"
  },
  "language_info": {
   "codemirror_mode": {
    "name": "ipython",
    "version": 3
   },
   "file_extension": ".py",
   "mimetype": "text/x-python",
   "name": "python",
   "nbconvert_exporter": "python",
   "pygments_lexer": "ipython3",
   "version": "3.9.5"
  }
 },
 "nbformat": 4,
 "nbformat_minor": 5
}
