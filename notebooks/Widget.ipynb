{
 "cells": [
  {
   "cell_type": "code",
   "execution_count": 5,
   "metadata": {},
   "outputs": [],
   "source": [
    "import random\n",
    "import time\n",
    "random.seed(42)"
   ]
  },
  {
   "cell_type": "code",
   "execution_count": 6,
   "metadata": {},
   "outputs": [],
   "source": [
    "spec_no_data = {\n",
    "    \"$schema\": \"https://vega.github.io/schema/vega-lite/v4.json\",\n",
    "    \"mark\": \"point\",\n",
    "    \"data\": {\n",
    "        \"name\": \"data\"\n",
    "    },\n",
    "    \"encoding\": {\n",
    "        \"x\": {\"type\": \"quantitative\", \"field\": \"x\"},\n",
    "        \"y\": {\"type\": \"quantitative\", \"field\": \"y\"},\n",
    "    }\n",
    "}\n",
    "\n",
    "spec_with_data = spec_no_data.copy()\n",
    "spec_with_data[\"data\"] = {\n",
    "    \"name\": \"data\",\n",
    "    \"values\": [\n",
    "        {\"x\": random.gauss(0, 1), \"y\": random.gauss(0, 1), \"t\": t}\n",
    "        for t in range(5)\n",
    "    ],\n",
    "}"
   ]
  },
  {
   "cell_type": "markdown",
   "metadata": {},
   "source": [
    "# Static Vega Plot\n",
    "\n",
    "## Using VegaLite"
   ]
  },
  {
   "cell_type": "code",
   "execution_count": 7,
   "metadata": {},
   "outputs": [
    {
     "data": {
      "application/javascript": [
       "const spec = {\"$schema\": \"https://vega.github.io/schema/vega-lite/v4.json\", \"mark\": \"point\", \"data\": {\"name\": \"data\", \"values\": [{\"x\": -0.14409032957792836, \"y\": -0.1729036003315193, \"t\": 0}, {\"x\": -0.11131586156766246, \"y\": 0.7019837250988631, \"t\": 1}, {\"x\": -0.12758828378288709, \"y\": -1.4973534143409575, \"t\": 2}, {\"x\": 0.33231834406771527, \"y\": -0.2673374784971682, \"t\": 3}, {\"x\": -0.216958684145195, \"y\": 0.11588478670085507, \"t\": 4}]}, \"encoding\": {\"x\": {\"type\": \"quantitative\", \"field\": \"x\"}, \"y\": {\"type\": \"quantitative\", \"field\": \"y\"}}};\n",
       "const opt = {};\n",
       "const type = \"vega-lite\";\n",
       "const id = \"a040e9f6-0022-4438-b2d0-ce59f6f6aab7\";\n",
       "\n",
       "const output_area = this;\n",
       "\n",
       "require([\"jupyter-vega\"], function(vega) {\n",
       "  const target = document.createElement(\"div\");\n",
       "  target.id = id;\n",
       "  target.className = \"vega-embed\";\n",
       "\n",
       "  const style = document.createElement(\"style\");\n",
       "  style.textContent = [\n",
       "    \".vega-embed .error p {\",\n",
       "    \"  color: firebrick;\",\n",
       "    \"  font-size: 14px;\",\n",
       "    \"}\",\n",
       "  ].join(\"\\\\n\");\n",
       "\n",
       "  // element is a jQuery wrapped DOM element inside the output area\n",
       "  // see http://ipython.readthedocs.io/en/stable/api/generated/\\\n",
       "  // IPython.display.html#IPython.display.Javascript.__init__\n",
       "  element[0].appendChild(target);\n",
       "  element[0].appendChild(style);\n",
       "  vega.render(`#${id}`, spec, type, opt, output_area);\n",
       "}, function (err) {\n",
       "  if (err.requireType !== \"scripterror\") {\n",
       "    throw(err);\n",
       "  }\n",
       "});\n"
      ],
      "text/plain": [
       "<vega.vegalite.VegaLite at 0x7f5f40636e00>"
      ]
     },
     "execution_count": 7,
     "metadata": {
      "jupyter-vega": "#a040e9f6-0022-4438-b2d0-ce59f6f6aab7"
     },
     "output_type": "execute_result"
    },
    {
     "data": {
      "image/png": "[encoded data removed]"
     },
     "metadata": {
      "jupyter-vega": "#a040e9f6-0022-4438-b2d0-ce59f6f6aab7"
     },
     "output_type": "display_data"
    }
   ],
   "source": [
    "from vega import VegaLite\n",
    "VegaLite(spec=spec_with_data)"
   ]
  },
  {
   "cell_type": "markdown",
   "metadata": {},
   "source": [
    "## Using VegaWidget"
   ]
  },
  {
   "cell_type": "code",
   "execution_count": 8,
   "metadata": {},
   "outputs": [
    {
     "data": {
      "application/vnd.jupyter.widget-view+json": {
       "model_id": "8c43b23c88d34be381812fe34c4a6bea",
       "version_major": 2,
       "version_minor": 0
      },
      "text/plain": [
       "VegaWidget()"
      ]
     },
     "metadata": {},
     "output_type": "display_data"
    }
   ],
   "source": [
    "from vega.widget import VegaWidget\n",
    "VegaWidget(spec=spec_with_data)"
   ]
  },
  {
   "cell_type": "markdown",
   "metadata": {},
   "source": [
    "# Vega Plot with dynamic updates\n",
    "\n",
    "The widget allows to update the plot after it has been displayed. To do so, the widget offers the `update` method that allows to add or remove data from the plot."
   ]
  },
  {
   "cell_type": "code",
   "execution_count": 9,
   "metadata": {},
   "outputs": [
    {
     "data": {
      "application/vnd.jupyter.widget-view+json": {
       "model_id": "88b08026c55f429cbb6621e11a671bc1",
       "version_major": 2,
       "version_minor": 0
      },
      "text/plain": [
       "VegaWidget()"
      ]
     },
     "metadata": {},
     "output_type": "display_data"
    }
   ],
   "source": [
    "from vega.widget import VegaWidget\n",
    "\n",
    "widget = VegaWidget(spec=spec_no_data)\n",
    "\n",
    "\n",
    "values = [\n",
    "    dict(\n",
    "        x=random.gauss(0.0, 1.0),\n",
    "        y=random.gauss(0.0, 1.0),\n",
    "        t=0,\n",
    "    )\n",
    "    for _ in range(10)\n",
    "]\n",
    "display(widget)\n",
    "widget.update('data', insert=values)"
   ]
  },
  {
   "cell_type": "markdown",
   "metadata": {},
   "source": [
    "## Dynamic updates with a Pandas DataFrame"
   ]
  },
  {
   "cell_type": "code",
   "execution_count": 10,
   "metadata": {},
   "outputs": [
    {
     "data": {
      "application/vnd.jupyter.widget-view+json": {
       "model_id": "51e2093ca10b4d338662179d379dc9cc",
       "version_major": 2,
       "version_minor": 0
      },
      "text/plain": [
       "VegaWidget()"
      ]
     },
     "metadata": {},
     "output_type": "display_data"
    }
   ],
   "source": [
    "import pandas as pd\n",
    "from vega.widget import VegaWidget\n",
    "\n",
    "widget = VegaWidget(spec=spec_no_data)\n",
    "xcol = [d['x'] for d in values]\n",
    "ycol = [d['y'] for d in values]\n",
    "df = pd.DataFrame(dict(x=xcol, y=ycol), dtype='float32')\n",
    "display(widget)\n",
    "widget.update('data', insert=df)"
   ]
  },
  {
   "cell_type": "code",
   "execution_count": 11,
   "metadata": {},
   "outputs": [],
   "source": [
    "# The spec can be updated after the widget has been displayed. However, any \n",
    "# data is inserted via update is lost and needs to be re-inserted.\n",
    "widget.spec = dict(spec_no_data, mark=\"line\")\n",
    "widget.update(\"data\", insert=values)"
   ]
  },
  {
   "cell_type": "code",
   "execution_count": 13,
   "metadata": {},
   "outputs": [],
   "source": [
    "# Similarly the options can be updated after the widget has been displayed. \n",
    "# Again, any data is inserted via update is lost and needs to be re-inserted.\n",
    "widget.opt = {\"theme\": \"dark\"}\n",
    "widget.update(\"data\", insert=values)"
   ]
  },
  {
   "cell_type": "code",
   "execution_count": 14,
   "metadata": {},
   "outputs": [
    {
     "name": "stdout",
     "output_type": "stream",
     "text": [
      "the current spec: {'$schema': 'https://vega.github.io/schema/vega-lite/v4.json', 'mark': 'line', 'data': {'name': 'data'}, 'encoding': {'x': {'type': 'quantitative', 'field': 'x'}, 'y': {'type': 'quantitative', 'field': 'y'}}}\n",
      "options: {'theme': 'dark'}\n"
     ]
    }
   ],
   "source": [
    "print(\"the current spec:\", widget.spec)\n",
    "print(\"options:\", widget.opt)"
   ]
  },
  {
   "cell_type": "markdown",
   "metadata": {},
   "source": [
    "The VegaWidget can also be embedded into larger ipywidgets layout and use interactive features, such as buttons or similar interactive elements."
   ]
  },
  {
   "cell_type": "code",
   "execution_count": 15,
   "metadata": {},
   "outputs": [],
   "source": [
    "from ipywidgets import VBox, Label, Button"
   ]
  },
  {
   "cell_type": "code",
   "execution_count": 16,
   "metadata": {},
   "outputs": [
    {
     "data": {
      "application/vnd.jupyter.widget-view+json": {
       "model_id": "453e04b253704e58bdb0b767649d802e",
       "version_major": 2,
       "version_minor": 0
      },
      "text/plain": [
       "VBox(children=(Label(value='Vega plot embedded in another widget'), VegaWidget(), Button(description='Add new …"
      ]
     },
     "metadata": {},
     "output_type": "display_data"
    }
   ],
   "source": [
    "plot = VegaWidget(spec=spec_with_data)\n",
    "button = Button(description=\"Add new data point\")\n",
    "\n",
    "t = 5\n",
    "\n",
    "@button.on_click\n",
    "def on_click_handler(*_):\n",
    "    global t\n",
    "    \n",
    "    value = dict(\n",
    "        x=random.gauss(0.0, 1.0),\n",
    "        y=random.gauss(0.0, 1.0),\n",
    "        t=t,\n",
    "    )\n",
    "    plot.update('data', insert=[value], remove=f'datum.t <= {t - 5}')\n",
    "    t += 1\n",
    "\n",
    "VBox([Label(\"Vega plot embedded in another widget\"), plot, button])"
   ]
  },
  {
   "cell_type": "markdown",
   "metadata": {},
   "source": [
    "# Errors\n",
    "Updating a non-existent dataset raises an error"
   ]
  },
  {
   "cell_type": "code",
   "execution_count": 17,
   "metadata": {
    "scrolled": true
   },
   "outputs": [
    {
     "data": {
      "application/vnd.jupyter.widget-view+json": {
       "model_id": "ddbee625b34b4766832e0c7f01b48c10",
       "version_major": 2,
       "version_minor": 0
      },
      "text/plain": [
       "VegaWidget()"
      ]
     },
     "metadata": {},
     "output_type": "display_data"
    }
   ],
   "source": [
    "from vega.widget import VegaWidget\n",
    "\n",
    "widget = VegaWidget(spec=spec_no_data)\n",
    "\n",
    "\n",
    "values = [\n",
    "    dict(\n",
    "        x=random.gauss(0.0, 1.0),\n",
    "        y=random.gauss(0.0, 1.0),\n",
    "        t=0,\n",
    "    )\n",
    "    for _ in range(10)\n",
    "]\n",
    "\n",
    "display(widget)\n",
    "widget.update('non_existing', insert=values)"
   ]
  },
  {
   "cell_type": "markdown",
   "metadata": {},
   "source": [
    "# Fixing the Error\n",
    "Updating it later still works, the widget in the previous cell will be updated."
   ]
  },
  {
   "cell_type": "code",
   "execution_count": 18,
   "metadata": {},
   "outputs": [],
   "source": [
    "import pandas as pd\n",
    "df = pd.DataFrame(dict(a=[1,2], b=[3,4], x=[1.1,2.2],  y=[3.3,4.4]))\n",
    "widget.update('data', insert=df)"
   ]
  },
  {
   "cell_type": "code",
   "execution_count": 19,
   "metadata": {},
   "outputs": [],
   "source": [
    "cars = pd.read_json(\"cars.json\")\n",
    "USA = cars[cars.Origin==\"USA\"]\n",
    "Europe = cars[cars.Origin==\"Europe\"]\n",
    "Japan = cars[cars.Origin==\"Japan\"]"
   ]
  },
  {
   "cell_type": "code",
   "execution_count": 20,
   "metadata": {},
   "outputs": [
    {
     "data": {
      "application/vnd.jupyter.widget-view+json": {
       "model_id": "9169995efeff487791f45d540b7dbcde",
       "version_major": 2,
       "version_minor": 0
      },
      "text/plain": [
       "VegaWidget()"
      ]
     },
     "metadata": {},
     "output_type": "display_data"
    }
   ],
   "source": [
    "\n",
    "spec = {\n",
    "  \"$schema\": \"https://vega.github.io/schema/vega-lite/v5.json\",\n",
    "  \"description\": \"A vertical box plot showing median and lower and upper quartiles of the distribution of body mass of penguins.\",\n",
    "  \"data\": {\"name\": \"data\"},\n",
    "  \"mark\": \"boxplot\",\n",
    "  \"encoding\": {\n",
    "    \"x\": {\"field\": \"Origin\", \"type\": \"nominal\", \"sort\": \"-y\"},\n",
    "    \"color\": {\"field\": \"Origin\", \"type\": \"nominal\", \"legend\": None},\n",
    "    \"y\": {\n",
    "      \"field\": \"Acceleration\",\n",
    "      \"type\": \"quantitative\",\n",
    "      \"scale\": {\"zero\": False}\n",
    "    }\n",
    "  }\n",
    "}\n",
    "\n",
    "widget = VegaWidget(spec=spec)\n",
    "display(widget)"
   ]
  },
  {
   "cell_type": "code",
   "execution_count": 21,
   "metadata": {},
   "outputs": [],
   "source": [
    "widget.update('data', insert=Japan)"
   ]
  },
  {
   "cell_type": "code",
   "execution_count": 22,
   "metadata": {},
   "outputs": [],
   "source": [
    "widget.update('data', insert=Europe)"
   ]
  },
  {
   "cell_type": "code",
   "execution_count": 23,
   "metadata": {},
   "outputs": [],
   "source": [
    "widget.update('data', insert=USA)"
   ]
  }
 ],
 "metadata": {
  "hide_input": false,
  "kernelspec": {
   "display_name": "Python 3 (ipykernel)",
   "language": "python",
   "name": "python3"
  },
  "language_info": {
   "codemirror_mode": {
    "name": "ipython",
    "version": 3
   },
   "file_extension": ".py",
   "mimetype": "text/x-python",
   "name": "python",
   "nbconvert_exporter": "python",
   "pygments_lexer": "ipython3",
   "version": "3.10.8"
  },
  "toc": {
   "base_numbering": 1,
   "nav_menu": {},
   "number_sections": true,
   "sideBar": true,
   "skip_h1_title": false,
   "title_cell": "Table of Contents",
   "title_sidebar": "Contents",
   "toc_cell": true,
   "toc_position": {},
   "toc_section_display": true,
   "toc_window_display": false
  },
  "widgets": {
   "application/vnd.jupyter.widget-state+json": {
    "state": {
     "01f479ba04db4bea83007e6090c18e2e": {
      "model_module": "@jupyter-widgets/base",
      "model_module_version": "1.2.0",
      "model_name": "LayoutModel",
      "state": {}
     },
     "0ac0524f7b374355b567c89a18a88392": {
      "model_module": "jupyter-vega",
      "model_module_version": "^3.6.0",
      "model_name": "VegaWidgetModel",
      "state": {
       "_df": null,
       "_img_url": "null",
       "_model_module": "jupyter-vega",
       "_model_module_version": "^3.6.0",
       "_opt_source": "null",
       "_spec_source": "{\"$schema\": \"https://vega.github.io/schema/vega-lite/v4.json\", \"mark\": \"point\", \"data\": {\"name\": \"data\"}, \"encoding\": {\"x\": {\"type\": \"quantitative\", \"field\": \"x\"}, \"y\": {\"type\": \"quantitative\", \"field\": \"y\"}}}",
       "_view_module": "jupyter-vega",
       "_view_module_version": "^3.6.0",
       "layout": "IPY_MODEL_4810124b8793411dad8d016fe2fe3a0f"
      }
     },
     "0b0b87de7415490c89e3ce1704df648b": {
      "model_module": "@jupyter-widgets/base",
      "model_module_version": "1.2.0",
      "model_name": "LayoutModel",
      "state": {}
     },
     "0f64157e291e44c3b3ae7570abce4864": {
      "model_module": "jupyter-vega",
      "model_module_version": "^3.6.0",
      "model_name": "VegaWidgetModel",
      "state": {
       "_df": null,
       "_img_url": "null",
       "_model_module": "jupyter-vega",
       "_model_module_version": "^3.6.0",
       "_opt_source": "null",
       "_spec_source": "{\"$schema\": \"https://vega.github.io/schema/vega-lite/v5.json\", \"description\": \"A vertical box plot showing median and lower and upper quartiles of the distribution of body mass of penguins.\", \"data\": {\"name\": \"data\"}, \"mark\": \"boxplot\", \"encoding\": {\"x\": {\"field\": \"Origin\", \"type\": \"nominal\", \"sort\": \"-y\"}, \"color\": {\"field\": \"Origin\", \"type\": \"nominal\", \"legend\": null}, \"y\": {\"field\": \"Acceleration\", \"type\": \"quantitative\", \"scale\": {\"zero\": false}}}}",
       "_view_module": "jupyter-vega",
       "_view_module_version": "^3.6.0",
       "layout": "IPY_MODEL_01f479ba04db4bea83007e6090c18e2e"
      }
     },
     "110e29a5d24d4668a6e7332fbd02a3d8": {
      "model_module": "@jupyter-widgets/controls",
      "model_module_version": "1.5.0",
      "model_name": "ButtonModel",
      "state": {
       "description": "Add new data point",
       "layout": "IPY_MODEL_6528b5b0fb2a4664be973dfafefcac95",
       "style": "IPY_MODEL_b77f19a2ab7f43808ef2384043455ca4"
      }
     },
     "129623fc98084c209f54a94cf624c6a6": {
      "model_module": "@jupyter-widgets/base",
      "model_module_version": "1.2.0",
      "model_name": "LayoutModel",
      "state": {}
     },
     "15117f528ecb4c5288d6a41457dc768e": {
      "model_module": "@jupyter-widgets/base",
      "model_module_version": "1.2.0",
      "model_name": "LayoutModel",
      "state": {}
     },
     "1a6f41fd33464eaeb33929838d8e2edf": {
      "model_module": "@jupyter-widgets/base",
      "model_module_version": "1.2.0",
      "model_name": "LayoutModel",
      "state": {}
     },
     "1ab16e8dfb8f48169c64e6b6e135569f": {
      "model_module": "@jupyter-widgets/controls",
      "model_module_version": "1.5.0",
      "model_name": "VBoxModel",
      "state": {
       "children": [
        "IPY_MODEL_1be5e2eb25ce4b19b9e9ea4412212b3f",
        "IPY_MODEL_cf9b31e4c85b427dbebdd0a83311798a",
        "IPY_MODEL_4fe90839b3e14fceaea5307d059f8b6e"
       ],
       "layout": "IPY_MODEL_d33a9d1fc02d4197a73383f4d3c33465"
      }
     },
     "1be5e2eb25ce4b19b9e9ea4412212b3f": {
      "model_module": "@jupyter-widgets/controls",
      "model_module_version": "1.5.0",
      "model_name": "LabelModel",
      "state": {
       "layout": "IPY_MODEL_4ffc2b5346b7421fab80f9268f185f29",
       "style": "IPY_MODEL_c923ab83b8b740eab9063c75670db46f",
       "value": "Vega plot embedded in another widget"
      }
     },
     "1ef69ccf96404288a5869cc573d9a2e1": {
      "model_module": "@jupyter-widgets/base",
      "model_module_version": "1.2.0",
      "model_name": "LayoutModel",
      "state": {}
     },
     "1ff33b29d9034c8b82a53cf3f210df3f": {
      "model_module": "@jupyter-widgets/base",
      "model_module_version": "1.2.0",
      "model_name": "LayoutModel",
      "state": {}
     },
     "200458e6148e456aa9ab3d0720180825": {
      "model_module": "@jupyter-widgets/base",
      "model_module_version": "1.2.0",
      "model_name": "LayoutModel",
      "state": {}
     },
     "208ed04e2e3b467f982e1d5540cce582": {
      "model_module": "@jupyter-widgets/base",
      "model_module_version": "1.2.0",
      "model_name": "LayoutModel",
      "state": {}
     },
     "21cbcbe1007e42338fe437e41c91ff98": {
      "model_module": "@jupyter-widgets/controls",
      "model_module_version": "1.5.0",
      "model_name": "ButtonModel",
      "state": {
       "description": "Add new data point",
       "layout": "IPY_MODEL_224b2c34b6784e48b8cabb25b35a666c",
       "style": "IPY_MODEL_5f3a2b15f29543048323a71da8678ccc"
      }
     },
     "224b2c34b6784e48b8cabb25b35a666c": {
      "model_module": "@jupyter-widgets/base",
      "model_module_version": "1.2.0",
      "model_name": "LayoutModel",
      "state": {}
     },
     "25a0b3e846094e47ad5a92bca1310718": {
      "model_module": "@jupyter-widgets/base",
      "model_module_version": "1.2.0",
      "model_name": "LayoutModel",
      "state": {}
     },
     "25cddcc33ca8407ba6a70d63ac84dcda": {
      "model_module": "@jupyter-widgets/base",
      "model_module_version": "1.2.0",
      "model_name": "LayoutModel",
      "state": {}
     },
     "26b87d9a28b742c9b204967b3295965d": {
      "model_module": "jupyter-vega",
      "model_module_version": "^3.6.0",
      "model_name": "VegaWidgetModel",
      "state": {
       "_df": null,
       "_img_url": "null",
       "_model_module": "jupyter-vega",
       "_model_module_version": "^3.6.0",
       "_opt_source": "null",
       "_spec_source": "{\"$schema\": \"https://vega.github.io/schema/vega-lite/v4.json\", \"mark\": \"point\", \"data\": {\"name\": \"data\"}, \"encoding\": {\"x\": {\"type\": \"quantitative\", \"field\": \"x\"}, \"y\": {\"type\": \"quantitative\", \"field\": \"y\"}}}",
       "_view_module": "jupyter-vega",
       "_view_module_version": "^3.6.0",
       "layout": "IPY_MODEL_129623fc98084c209f54a94cf624c6a6"
      }
     },
     "276c93c1165f4ee28748f9475ce7cea4": {
      "model_module": "@jupyter-widgets/base",
      "model_module_version": "1.2.0",
      "model_name": "LayoutModel",
      "state": {}
     },
     "27c1b42d13f44b26875c31f3d183b0ad": {
      "model_module": "@jupyter-widgets/controls",
      "model_module_version": "1.5.0",
      "model_name": "ButtonModel",
      "state": {
       "description": "Add new data point",
       "layout": "IPY_MODEL_7bbcb034a1f545088b09a1374f77eaf4",
       "style": "IPY_MODEL_cef95200890e4331a784792b8286ea34"
      }
     },
     "2b28c891683f4b38b996f92e68ba3405": {
      "model_module": "jupyter-vega",
      "model_module_version": "^3.6.0",
      "model_name": "VegaWidgetModel",
      "state": {
       "_df": null,
       "_img_url": "null",
       "_model_module": "jupyter-vega",
       "_model_module_version": "^3.6.0",
       "_opt_source": "null",
       "_spec_source": "{\"$schema\": \"https://vega.github.io/schema/vega-lite/v5.json\", \"description\": \"A vertical box plot showing median and lower and upper quartiles of the distribution of body mass of penguins.\", \"data\": {\"name\": \"data\"}, \"mark\": \"boxplot\", \"encoding\": {\"x\": {\"field\": \"Origin\", \"type\": \"nominal\", \"sort\": \"-y\"}, \"color\": {\"field\": \"Origin\", \"type\": \"nominal\", \"legend\": null}, \"y\": {\"field\": \"Acceleration\", \"type\": \"quantitative\", \"scale\": {\"zero\": false}}}}",
       "_view_module": "jupyter-vega",
       "_view_module_version": "^3.6.0",
       "layout": "IPY_MODEL_475b47c92dcf4ec483b1884bfc9f5d30"
      }
     },
     "2bea52cacae3492eaea7b60427dcaef1": {
      "model_module": "@jupyter-widgets/base",
      "model_module_version": "1.2.0",
      "model_name": "LayoutModel",
      "state": {}
     },
     "2da67cef501b467c90bc2e8fa744e5c0": {
      "model_module": "@jupyter-widgets/base",
      "model_module_version": "1.2.0",
      "model_name": "LayoutModel",
      "state": {}
     },
     "31f27aa1892640c29e351fddbfa6ba5b": {
      "model_module": "@jupyter-widgets/controls",
      "model_module_version": "1.5.0",
      "model_name": "VBoxModel",
      "state": {
       "children": [
        "IPY_MODEL_e347415012c640109b7e923179dda932",
        "IPY_MODEL_7950835d2d9941b191414f059cd4b01f",
        "IPY_MODEL_110e29a5d24d4668a6e7332fbd02a3d8"
       ],
       "layout": "IPY_MODEL_47e26debba774c78b1ed870b2a6ed5ce"
      }
     },
     "3254908d3e514f70902e077c668b11bb": {
      "model_module": "@jupyter-widgets/controls",
      "model_module_version": "1.5.0",
      "model_name": "ButtonStyleModel",
      "state": {}
     },
     "364c6d5053c1435eb5c7df45e4b57cda": {
      "model_module": "jupyter-vega",
      "model_module_version": "^3.6.0",
      "model_name": "VegaWidgetModel",
      "state": {
       "_df": null,
       "_img_url": "null",
       "_model_module": "jupyter-vega",
       "_model_module_version": "^3.6.0",
       "_opt_source": "null",
       "_spec_source": "{\"$schema\": \"https://vega.github.io/schema/vega-lite/v5.json\", \"description\": \"A vertical box plot showing median and lower and upper quartiles of the distribution of body mass of penguins.\", \"data\": {\"name\": \"data\"}, \"mark\": \"boxplot\", \"encoding\": {\"x\": {\"field\": \"Origin\", \"type\": \"nominal\", \"sort\": \"-y\"}, \"color\": {\"field\": \"Origin\", \"type\": \"nominal\", \"legend\": null}, \"y\": {\"field\": \"Acceleration\", \"type\": \"quantitative\", \"scale\": {\"zero\": false}}}}",
       "_view_module": "jupyter-vega",
       "_view_module_version": "^3.6.0",
       "layout": "IPY_MODEL_531a19c3eb924cc1b0ba7d1287132f0d"
      }
     },
     "3ae097c1115d4d6798e35e2e1a01dd31": {
      "model_module": "@jupyter-widgets/controls",
      "model_module_version": "1.5.0",
      "model_name": "ButtonStyleModel",
      "state": {}
     },
     "3b401a1727124ddd97051c9b6aec4037": {
      "model_module": "@jupyter-widgets/base",
      "model_module_version": "1.2.0",
      "model_name": "LayoutModel",
      "state": {}
     },
     "3d6bdaec89e24e789c1acf8e75fb0ccb": {
      "model_module": "@jupyter-widgets/controls",
      "model_module_version": "1.5.0",
      "model_name": "LabelModel",
      "state": {
       "layout": "IPY_MODEL_99ae044524ff4101ac55f055d3bad5c1",
       "style": "IPY_MODEL_939cfd38cb1342328719bb9dfc92ff49",
       "value": "Vega plot embedded in another widget"
      }
     },
     "3daa4459651244258d7848675138de9a": {
      "model_module": "jupyter-vega",
      "model_module_version": "^3.6.0",
      "model_name": "VegaWidgetModel",
      "state": {
       "_df": null,
       "_img_url": "null",
       "_model_module": "jupyter-vega",
       "_model_module_version": "^3.6.0",
       "_opt_source": "null",
       "_spec_source": "{\"$schema\": \"https://vega.github.io/schema/vega-lite/v5.json\", \"description\": \"A vertical box plot showing median and lower and upper quartiles of the distribution of body mass of penguins.\", \"data\": {\"name\": \"data\"}, \"mark\": \"boxplot\", \"encoding\": {\"x\": {\"field\": \"Origin\", \"type\": \"nominal\", \"sort\": \"-y\"}, \"color\": {\"field\": \"Origin\", \"type\": \"nominal\", \"legend\": null}, \"y\": {\"field\": \"Acceleration\", \"type\": \"quantitative\", \"scale\": {\"zero\": false}}}}",
       "_view_module": "jupyter-vega",
       "_view_module_version": "^3.6.0",
       "layout": "IPY_MODEL_61e8d4ef53b74b0b99d9406f1d0fe5cd"
      }
     },
     "3db41142aba24671b12f9f910b6cc2fd": {
      "model_module": "@jupyter-widgets/controls",
      "model_module_version": "1.5.0",
      "model_name": "DescriptionStyleModel",
      "state": {
       "description_width": ""
      }
     },
     "43e6fafb616948f1bd2f8cc9c5501f84": {
      "model_module": "@jupyter-widgets/base",
      "model_module_version": "1.2.0",
      "model_name": "LayoutModel",
      "state": {}
     },
     "453e04b253704e58bdb0b767649d802e": {
      "model_module": "@jupyter-widgets/controls",
      "model_module_version": "1.5.0",
      "model_name": "VBoxModel",
      "state": {
       "children": [
        "IPY_MODEL_733083ab13114133bab972f4ef148f05",
        "IPY_MODEL_78ca7137eae241a08e1e4adcdaf14e07",
        "IPY_MODEL_48a9b585bbe94fba9a538b2a203effc7"
       ],
       "layout": "IPY_MODEL_2da67cef501b467c90bc2e8fa744e5c0"
      }
     },
     "475b47c92dcf4ec483b1884bfc9f5d30": {
      "model_module": "@jupyter-widgets/base",
      "model_module_version": "1.2.0",
      "model_name": "LayoutModel",
      "state": {}
     },
     "47ac35916ac34d4fbc1b5726b981339b": {
      "model_module": "@jupyter-widgets/base",
      "model_module_version": "1.2.0",
      "model_name": "LayoutModel",
      "state": {}
     },
     "47e26debba774c78b1ed870b2a6ed5ce": {
      "model_module": "@jupyter-widgets/base",
      "model_module_version": "1.2.0",
      "model_name": "LayoutModel",
      "state": {}
     },
     "4810124b8793411dad8d016fe2fe3a0f": {
      "model_module": "@jupyter-widgets/base",
      "model_module_version": "1.2.0",
      "model_name": "LayoutModel",
      "state": {}
     },
     "489f7a525cb34641b75bad34685d17cd": {
      "model_module": "@jupyter-widgets/base",
      "model_module_version": "1.2.0",
      "model_name": "LayoutModel",
      "state": {}
     },
     "48a9b585bbe94fba9a538b2a203effc7": {
      "model_module": "@jupyter-widgets/controls",
      "model_module_version": "1.5.0",
      "model_name": "ButtonModel",
      "state": {
       "description": "Add new data point",
       "layout": "IPY_MODEL_75b066cd99b6475e9e49242bd87abf89",
       "style": "IPY_MODEL_e407452a1b3c42719e1ff0c48c564596"
      }
     },
     "4a30b307e29147f6970a7177c35de0d3": {
      "model_module": "jupyter-vega",
      "model_module_version": "^3.6.0",
      "model_name": "VegaWidgetModel",
      "state": {
       "_df": null,
       "_img_url": "null",
       "_model_module": "jupyter-vega",
       "_model_module_version": "^3.6.0",
       "_opt_source": "{\"theme\": \"dark\"}",
       "_spec_source": "{\"$schema\": \"https://vega.github.io/schema/vega-lite/v4.json\", \"mark\": \"line\", \"data\": {\"name\": \"data\"}, \"encoding\": {\"x\": {\"type\": \"quantitative\", \"field\": \"x\"}, \"y\": {\"type\": \"quantitative\", \"field\": \"y\"}}}",
       "_view_module": "jupyter-vega",
       "_view_module_version": "^3.6.0",
       "layout": "IPY_MODEL_6caea500c9e74445a4e3b939910b95c0"
      }
     },
     "4fe90839b3e14fceaea5307d059f8b6e": {
      "model_module": "@jupyter-widgets/controls",
      "model_module_version": "1.5.0",
      "model_name": "ButtonModel",
      "state": {
       "description": "Add new data point",
       "layout": "IPY_MODEL_6d6d6ae392f244c3babd1b7e135a46e5",
       "style": "IPY_MODEL_3254908d3e514f70902e077c668b11bb"
      }
     },
     "4ffc2b5346b7421fab80f9268f185f29": {
      "model_module": "@jupyter-widgets/base",
      "model_module_version": "1.2.0",
      "model_name": "LayoutModel",
      "state": {}
     },
     "51e2093ca10b4d338662179d379dc9cc": {
      "model_module": "jupyter-vega",
      "model_module_version": "^3.6.0",
      "model_name": "VegaWidgetModel",
      "state": {
       "_df": null,
       "_img_url": "data:image/png;base64,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",
       "_model_module": "jupyter-vega",
       "_model_module_version": "^3.6.0",
       "_opt_source": "{\"theme\": \"dark\"}",
       "_spec_source": "{\"$schema\": \"https://vega.github.io/schema/vega-lite/v4.json\", \"mark\": \"line\", \"data\": {\"name\": \"data\"}, \"encoding\": {\"x\": {\"type\": \"quantitative\", \"field\": \"x\"}, \"y\": {\"type\": \"quantitative\", \"field\": \"y\"}}}",
       "_view_module": "jupyter-vega",
       "_view_module_version": "^3.6.0",
       "layout": "IPY_MODEL_6f0c1f7750364a5b869b8f6b24c917d2"
      }
     },
     "531a19c3eb924cc1b0ba7d1287132f0d": {
      "model_module": "@jupyter-widgets/base",
      "model_module_version": "1.2.0",
      "model_name": "LayoutModel",
      "state": {}
     },
     "53e64c88aa0749319963fdc0ab386a94": {
      "model_module": "@jupyter-widgets/base",
      "model_module_version": "1.2.0",
      "model_name": "LayoutModel",
      "state": {}
     },
     "5c65509b144c43c5a73384da81779dd4": {
      "model_module": "jupyter-vega",
      "model_module_version": "^3.6.0",
      "model_name": "VegaWidgetModel",
      "state": {
       "_df": null,
       "_img_url": "null",
       "_model_module": "jupyter-vega",
       "_model_module_version": "^3.6.0",
       "_opt_source": "{\"theme\": \"dark\"}",
       "_spec_source": "{\"$schema\": \"https://vega.github.io/schema/vega-lite/v4.json\", \"mark\": \"line\", \"data\": {\"name\": \"data\"}, \"encoding\": {\"x\": {\"type\": \"quantitative\", \"field\": \"x\"}, \"y\": {\"type\": \"quantitative\", \"field\": \"y\"}}}",
       "_view_module": "jupyter-vega",
       "_view_module_version": "^3.6.0",
       "layout": "IPY_MODEL_99c4375ba99d48c98001fab9a9b3dc19"
      }
     },
     "5f3a2b15f29543048323a71da8678ccc": {
      "model_module": "@jupyter-widgets/controls",
      "model_module_version": "1.5.0",
      "model_name": "ButtonStyleModel",
      "state": {}
     },
     "5f685fe6bf8849548f17b57a63b68bed": {
      "model_module": "@jupyter-widgets/controls",
      "model_module_version": "1.5.0",
      "model_name": "ButtonModel",
      "state": {
       "description": "Add new data point",
       "layout": "IPY_MODEL_489f7a525cb34641b75bad34685d17cd",
       "style": "IPY_MODEL_3ae097c1115d4d6798e35e2e1a01dd31"
      }
     },
     "619d52f04a394444ba6d60ea32c66cf8": {
      "model_module": "jupyter-vega",
      "model_module_version": "^3.6.0",
      "model_name": "VegaWidgetModel",
      "state": {
       "_df": null,
       "_img_url": "null",
       "_model_module": "jupyter-vega",
       "_model_module_version": "^3.6.0",
       "_opt_source": "null",
       "_spec_source": "{\"$schema\": \"https://vega.github.io/schema/vega-lite/v4.json\", \"mark\": \"point\", \"data\": {\"name\": \"data\", \"values\": [{\"x\": -0.14409032957792836, \"y\": -0.1729036003315193, \"t\": 0}, {\"x\": -0.11131586156766246, \"y\": 0.7019837250988631, \"t\": 1}, {\"x\": -0.12758828378288709, \"y\": -1.4973534143409575, \"t\": 2}, {\"x\": 0.33231834406771527, \"y\": -0.2673374784971682, \"t\": 3}, {\"x\": -0.216958684145195, \"y\": 0.11588478670085507, \"t\": 4}]}, \"encoding\": {\"x\": {\"type\": \"quantitative\", \"field\": \"x\"}, \"y\": {\"type\": \"quantitative\", \"field\": \"y\"}}}",
       "_view_module": "jupyter-vega",
       "_view_module_version": "^3.6.0",
       "layout": "IPY_MODEL_25cddcc33ca8407ba6a70d63ac84dcda"
      }
     },
     "61e8d4ef53b74b0b99d9406f1d0fe5cd": {
      "model_module": "@jupyter-widgets/base",
      "model_module_version": "1.2.0",
      "model_name": "LayoutModel",
      "state": {}
     },
     "6528b5b0fb2a4664be973dfafefcac95": {
      "model_module": "@jupyter-widgets/base",
      "model_module_version": "1.2.0",
      "model_name": "LayoutModel",
      "state": {}
     },
     "65543ca44bc14ad8b450428658e9ed34": {
      "model_module": "jupyter-vega",
      "model_module_version": "^3.6.0",
      "model_name": "VegaWidgetModel",
      "state": {
       "_df": null,
       "_img_url": "null",
       "_model_module": "jupyter-vega",
       "_model_module_version": "^3.6.0",
       "_opt_source": "null",
       "_spec_source": "{\"$schema\": \"https://vega.github.io/schema/vega-lite/v4.json\", \"mark\": \"point\", \"data\": {\"name\": \"data\"}, \"encoding\": {\"x\": {\"type\": \"quantitative\", \"field\": \"x\"}, \"y\": {\"type\": \"quantitative\", \"field\": \"y\"}}}",
       "_view_module": "jupyter-vega",
       "_view_module_version": "^3.6.0",
       "layout": "IPY_MODEL_47ac35916ac34d4fbc1b5726b981339b"
      }
     },
     "6caea500c9e74445a4e3b939910b95c0": {
      "model_module": "@jupyter-widgets/base",
      "model_module_version": "1.2.0",
      "model_name": "LayoutModel",
      "state": {}
     },
     "6d6d6ae392f244c3babd1b7e135a46e5": {
      "model_module": "@jupyter-widgets/base",
      "model_module_version": "1.2.0",
      "model_name": "LayoutModel",
      "state": {}
     },
     "6f0c1f7750364a5b869b8f6b24c917d2": {
      "model_module": "@jupyter-widgets/base",
      "model_module_version": "1.2.0",
      "model_name": "LayoutModel",
      "state": {}
     },
     "71befa288e4944a8a00d06d816893944": {
      "model_module": "jupyter-vega",
      "model_module_version": "^3.6.0",
      "model_name": "VegaWidgetModel",
      "state": {
       "_df": null,
       "_img_url": "null",
       "_model_module": "jupyter-vega",
       "_model_module_version": "^3.6.0",
       "_opt_source": "null",
       "_spec_source": "{\"$schema\": \"https://vega.github.io/schema/vega-lite/v4.json\", \"mark\": \"point\", \"data\": {\"name\": \"data\", \"values\": [{\"x\": -0.14409032957792836, \"y\": -0.1729036003315193, \"t\": 0}, {\"x\": -0.11131586156766246, \"y\": 0.7019837250988631, \"t\": 1}, {\"x\": -0.12758828378288709, \"y\": -1.4973534143409575, \"t\": 2}, {\"x\": 0.33231834406771527, \"y\": -0.2673374784971682, \"t\": 3}, {\"x\": -0.216958684145195, \"y\": 0.11588478670085507, \"t\": 4}]}, \"encoding\": {\"x\": {\"type\": \"quantitative\", \"field\": \"x\"}, \"y\": {\"type\": \"quantitative\", \"field\": \"y\"}}}",
       "_view_module": "jupyter-vega",
       "_view_module_version": "^3.6.0",
       "layout": "IPY_MODEL_1ff33b29d9034c8b82a53cf3f210df3f"
      }
     },
     "71f381054e144172b1de3574a4136c03": {
      "model_module": "@jupyter-widgets/base",
      "model_module_version": "1.2.0",
      "model_name": "LayoutModel",
      "state": {}
     },
     "733083ab13114133bab972f4ef148f05": {
      "model_module": "@jupyter-widgets/controls",
      "model_module_version": "1.5.0",
      "model_name": "LabelModel",
      "state": {
       "layout": "IPY_MODEL_ca8aad84067f421c83da7021fbb7517a",
       "style": "IPY_MODEL_cbff17b3828540b89f2ff6ea91cae262",
       "value": "Vega plot embedded in another widget"
      }
     },
     "7441919aeaf54cac9abd6ed691013bae": {
      "model_module": "jupyter-vega",
      "model_module_version": "^3.6.0",
      "model_name": "VegaWidgetModel",
      "state": {
       "_df": null,
       "_img_url": "null",
       "_model_module": "jupyter-vega",
       "_model_module_version": "^3.6.0",
       "_opt_source": "null",
       "_spec_source": "{\"$schema\": \"https://vega.github.io/schema/vega-lite/v4.json\", \"mark\": \"point\", \"data\": {\"name\": \"data\"}, \"encoding\": {\"x\": {\"type\": \"quantitative\", \"field\": \"x\"}, \"y\": {\"type\": \"quantitative\", \"field\": \"y\"}}}",
       "_view_module": "jupyter-vega",
       "_view_module_version": "^3.6.0",
       "layout": "IPY_MODEL_da7f6aec75524cdda77a156a4a806be9"
      }
     },
     "75b066cd99b6475e9e49242bd87abf89": {
      "model_module": "@jupyter-widgets/base",
      "model_module_version": "1.2.0",
      "model_name": "LayoutModel",
      "state": {}
     },
     "76a324dbbb7b4285a0212d1bd9d05673": {
      "model_module": "jupyter-vega",
      "model_module_version": "^3.6.0",
      "model_name": "VegaWidgetModel",
      "state": {
       "_df": null,
       "_img_url": "null",
       "_model_module": "jupyter-vega",
       "_model_module_version": "^3.6.0",
       "_opt_source": "null",
       "_spec_source": "{\"$schema\": \"https://vega.github.io/schema/vega-lite/v4.json\", \"mark\": \"point\", \"data\": {\"name\": \"data\", \"values\": [{\"x\": -0.14409032957792836, \"y\": -0.1729036003315193, \"t\": 0}, {\"x\": -0.11131586156766246, \"y\": 0.7019837250988631, \"t\": 1}, {\"x\": -0.12758828378288709, \"y\": -1.4973534143409575, \"t\": 2}, {\"x\": 0.33231834406771527, \"y\": -0.2673374784971682, \"t\": 3}, {\"x\": -0.216958684145195, \"y\": 0.11588478670085507, \"t\": 4}]}, \"encoding\": {\"x\": {\"type\": \"quantitative\", \"field\": \"x\"}, \"y\": {\"type\": \"quantitative\", \"field\": \"y\"}}}",
       "_view_module": "jupyter-vega",
       "_view_module_version": "^3.6.0",
       "layout": "IPY_MODEL_e5d6ce62bd2d473babb458d2c4d2fb35"
      }
     },
     "781293c8662a4244937fe84af455bfe7": {
      "model_module": "jupyter-vega",
      "model_module_version": "^3.6.0",
      "model_name": "VegaWidgetModel",
      "state": {
       "_df": null,
       "_img_url": "null",
       "_model_module": "jupyter-vega",
       "_model_module_version": "^3.6.0",
       "_opt_source": "null",
       "_spec_source": "{\"$schema\": \"https://vega.github.io/schema/vega-lite/v4.json\", \"mark\": \"point\", \"data\": {\"name\": \"data\", \"values\": [{\"x\": -0.14409032957792836, \"y\": -0.1729036003315193, \"t\": 0}, {\"x\": -0.11131586156766246, \"y\": 0.7019837250988631, \"t\": 1}, {\"x\": -0.12758828378288709, \"y\": -1.4973534143409575, \"t\": 2}, {\"x\": 0.33231834406771527, \"y\": -0.2673374784971682, \"t\": 3}, {\"x\": -0.216958684145195, \"y\": 0.11588478670085507, \"t\": 4}]}, \"encoding\": {\"x\": {\"type\": \"quantitative\", \"field\": \"x\"}, \"y\": {\"type\": \"quantitative\", \"field\": \"y\"}}}",
       "_view_module": "jupyter-vega",
       "_view_module_version": "^3.6.0",
       "layout": "IPY_MODEL_3b401a1727124ddd97051c9b6aec4037"
      }
     },
     "78ca7137eae241a08e1e4adcdaf14e07": {
      "model_module": "jupyter-vega",
      "model_module_version": "^3.6.0",
      "model_name": "VegaWidgetModel",
      "state": {
       "_df": null,
       "_img_url": "data:image/png;base64,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",
       "_model_module": "jupyter-vega",
       "_model_module_version": "^3.6.0",
       "_opt_source": "null",
       "_spec_source": "{\"$schema\": \"https://vega.github.io/schema/vega-lite/v4.json\", \"mark\": \"point\", \"data\": {\"name\": \"data\", \"values\": [{\"x\": -0.14409032957792836, \"y\": -0.1729036003315193, \"t\": 0}, {\"x\": -0.11131586156766246, \"y\": 0.7019837250988631, \"t\": 1}, {\"x\": -0.12758828378288709, \"y\": -1.4973534143409575, \"t\": 2}, {\"x\": 0.33231834406771527, \"y\": -0.2673374784971682, \"t\": 3}, {\"x\": -0.216958684145195, \"y\": 0.11588478670085507, \"t\": 4}]}, \"encoding\": {\"x\": {\"type\": \"quantitative\", \"field\": \"x\"}, \"y\": {\"type\": \"quantitative\", \"field\": \"y\"}}}",
       "_view_module": "jupyter-vega",
       "_view_module_version": "^3.6.0",
       "layout": "IPY_MODEL_cf9468f6fed84484a42a81be85a1ccfa"
      }
     },
     "7950835d2d9941b191414f059cd4b01f": {
      "model_module": "@jupyter-widgets/base",
      "model_module_version": "1.2.0",
      "model_name": "DOMWidgetModel",
      "state": {
       "_model_name": "DOMWidgetModel",
       "_spec_source": "{\"$schema\": \"https://vega.github.io/schema/vega-lite/v3.json\", \"mark\": \"point\", \"data\": {\"name\": \"data\", \"values\": [{\"x\": -0.08464576847388305, \"y\": -2.292101726714774, \"t\": 0}, {\"x\": 0.21535122626875394, \"y\": -1.3219649666747073, \"t\": 1}, {\"x\": -0.329521137311764, \"y\": -0.27624633585615743, \"t\": 2}, {\"x\": 0.0094549488754799, \"y\": -0.04490340911971162, \"t\": 3}, {\"x\": 1.031494161239078, \"y\": -1.0452928358284574, \"t\": 4}]}, \"encoding\": {\"x\": {\"type\": \"quantitative\", \"field\": \"x\"}, \"y\": {\"type\": \"quantitative\", \"field\": \"y\"}}}",
       "_view_module": "nbextensions/jupyter-vega/index",
       "_view_module_version": "0.1.0",
       "_view_name": "VegaWidget",
       "layout": "IPY_MODEL_43e6fafb616948f1bd2f8cc9c5501f84"
      }
     },
     "7bbcb034a1f545088b09a1374f77eaf4": {
      "model_module": "@jupyter-widgets/base",
      "model_module_version": "1.2.0",
      "model_name": "LayoutModel",
      "state": {}
     },
     "7c5eba4bb6a34d2b88f81a6bdee95ca7": {
      "model_module": "@jupyter-widgets/base",
      "model_module_version": "1.2.0",
      "model_name": "LayoutModel",
      "state": {}
     },
     "7d0527d4130f4d389ebb9e77f811d4de": {
      "model_module": "jupyter-vega",
      "model_module_version": "^3.6.0",
      "model_name": "VegaWidgetModel",
      "state": {
       "_df": null,
       "_img_url": "null",
       "_model_module": "jupyter-vega",
       "_model_module_version": "^3.6.0",
       "_opt_source": "null",
       "_spec_source": "{\"$schema\": \"https://vega.github.io/schema/vega-lite/v4.json\", \"mark\": \"point\", \"data\": {\"name\": \"data\"}, \"encoding\": {\"x\": {\"type\": \"quantitative\", \"field\": \"x\"}, \"y\": {\"type\": \"quantitative\", \"field\": \"y\"}}}",
       "_view_module": "jupyter-vega",
       "_view_module_version": "^3.6.0",
       "layout": "IPY_MODEL_15117f528ecb4c5288d6a41457dc768e"
      }
     },
     "7daa1d78436d4a42a05227b4829bee3c": {
      "model_module": "@jupyter-widgets/base",
      "model_module_version": "1.2.0",
      "model_name": "LayoutModel",
      "state": {}
     },
     "7e7f3da10d7a4a8eb9c49f7abf302902": {
      "model_module": "@jupyter-widgets/base",
      "model_module_version": "1.2.0",
      "model_name": "LayoutModel",
      "state": {}
     },
     "88b08026c55f429cbb6621e11a671bc1": {
      "model_module": "jupyter-vega",
      "model_module_version": "^3.6.0",
      "model_name": "VegaWidgetModel",
      "state": {
       "_df": null,
       "_img_url": "data:image/png;base64,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",
       "_model_module": "jupyter-vega",
       "_model_module_version": "^3.6.0",
       "_opt_source": "null",
       "_spec_source": "{\"$schema\": \"https://vega.github.io/schema/vega-lite/v4.json\", \"mark\": \"point\", \"data\": {\"name\": \"data\"}, \"encoding\": {\"x\": {\"type\": \"quantitative\", \"field\": \"x\"}, \"y\": {\"type\": \"quantitative\", \"field\": \"y\"}}}",
       "_view_module": "jupyter-vega",
       "_view_module_version": "^3.6.0",
       "layout": "IPY_MODEL_d656d2001870412c85ae398da65d6b9b"
      }
     },
     "8b05a6d1971c4292b08aa3407c4fb293": {
      "model_module": "@jupyter-widgets/controls",
      "model_module_version": "1.5.0",
      "model_name": "VBoxModel",
      "state": {
       "children": [
        "IPY_MODEL_d794fedca436451d8135d2285c007c40",
        "IPY_MODEL_94d022af3bab4034b713251842b61bd9",
        "IPY_MODEL_5f685fe6bf8849548f17b57a63b68bed"
       ],
       "layout": "IPY_MODEL_200458e6148e456aa9ab3d0720180825"
      }
     },
     "8c43b23c88d34be381812fe34c4a6bea": {
      "model_module": "jupyter-vega",
      "model_module_version": "^3.6.0",
      "model_name": "VegaWidgetModel",
      "state": {
       "_df": null,
       "_img_url": "null",
       "_model_module": "jupyter-vega",
       "_model_module_version": "^3.6.0",
       "_opt_source": "null",
       "_spec_source": "{\"$schema\": \"https://vega.github.io/schema/vega-lite/v4.json\", \"mark\": \"point\", \"data\": {\"name\": \"data\", \"values\": [{\"x\": -0.14409032957792836, \"y\": -0.1729036003315193, \"t\": 0}, {\"x\": -0.11131586156766246, \"y\": 0.7019837250988631, \"t\": 1}, {\"x\": -0.12758828378288709, \"y\": -1.4973534143409575, \"t\": 2}, {\"x\": 0.33231834406771527, \"y\": -0.2673374784971682, \"t\": 3}, {\"x\": -0.216958684145195, \"y\": 0.11588478670085507, \"t\": 4}]}, \"encoding\": {\"x\": {\"type\": \"quantitative\", \"field\": \"x\"}, \"y\": {\"type\": \"quantitative\", \"field\": \"y\"}}}",
       "_view_module": "jupyter-vega",
       "_view_module_version": "^3.6.0",
       "layout": "IPY_MODEL_276c93c1165f4ee28748f9475ce7cea4"
      }
     },
     "8efa45efb0ef45ff8180d8862e1a44a4": {
      "model_module": "@jupyter-widgets/controls",
      "model_module_version": "1.5.0",
      "model_name": "VBoxModel",
      "state": {
       "children": [
        "IPY_MODEL_9ae044bc16194b279da598ff103a4a0f",
        "IPY_MODEL_d5014381221f408e85e8ef4e27e03d69",
        "IPY_MODEL_21cbcbe1007e42338fe437e41c91ff98"
       ],
       "layout": "IPY_MODEL_53e64c88aa0749319963fdc0ab386a94"
      }
     },
     "9169995efeff487791f45d540b7dbcde": {
      "model_module": "jupyter-vega",
      "model_module_version": "^3.6.0",
      "model_name": "VegaWidgetModel",
      "state": {
       "_df": null,
       "_img_url": "data:image/png;base64,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",
       "_model_module": "jupyter-vega",
       "_model_module_version": "^3.6.0",
       "_opt_source": "null",
       "_spec_source": "{\"$schema\": \"https://vega.github.io/schema/vega-lite/v5.json\", \"description\": \"A vertical box plot showing median and lower and upper quartiles of the distribution of body mass of penguins.\", \"data\": {\"name\": \"data\"}, \"mark\": \"boxplot\", \"encoding\": {\"x\": {\"field\": \"Origin\", \"type\": \"nominal\", \"sort\": \"-y\"}, \"color\": {\"field\": \"Origin\", \"type\": \"nominal\", \"legend\": null}, \"y\": {\"field\": \"Acceleration\", \"type\": \"quantitative\", \"scale\": {\"zero\": false}}}}",
       "_view_module": "jupyter-vega",
       "_view_module_version": "^3.6.0",
       "layout": "IPY_MODEL_2bea52cacae3492eaea7b60427dcaef1"
      }
     },
     "939cfd38cb1342328719bb9dfc92ff49": {
      "model_module": "@jupyter-widgets/controls",
      "model_module_version": "1.5.0",
      "model_name": "DescriptionStyleModel",
      "state": {
       "description_width": ""
      }
     },
     "94d022af3bab4034b713251842b61bd9": {
      "model_module": "jupyter-vega",
      "model_module_version": "^3.6.0",
      "model_name": "VegaWidgetModel",
      "state": {
       "_df": null,
       "_img_url": "null",
       "_model_module": "jupyter-vega",
       "_model_module_version": "^3.6.0",
       "_opt_source": "null",
       "_spec_source": "{\"$schema\": \"https://vega.github.io/schema/vega-lite/v4.json\", \"mark\": \"point\", \"data\": {\"name\": \"data\", \"values\": [{\"x\": -0.14409032957792836, \"y\": -0.1729036003315193, \"t\": 0}, {\"x\": -0.11131586156766246, \"y\": 0.7019837250988631, \"t\": 1}, {\"x\": -0.12758828378288709, \"y\": -1.4973534143409575, \"t\": 2}, {\"x\": 0.33231834406771527, \"y\": -0.2673374784971682, \"t\": 3}, {\"x\": -0.216958684145195, \"y\": 0.11588478670085507, \"t\": 4}]}, \"encoding\": {\"x\": {\"type\": \"quantitative\", \"field\": \"x\"}, \"y\": {\"type\": \"quantitative\", \"field\": \"y\"}}}",
       "_view_module": "jupyter-vega",
       "_view_module_version": "^3.6.0",
       "layout": "IPY_MODEL_1a6f41fd33464eaeb33929838d8e2edf"
      }
     },
     "99ae044524ff4101ac55f055d3bad5c1": {
      "model_module": "@jupyter-widgets/base",
      "model_module_version": "1.2.0",
      "model_name": "LayoutModel",
      "state": {}
     },
     "99c4375ba99d48c98001fab9a9b3dc19": {
      "model_module": "@jupyter-widgets/base",
      "model_module_version": "1.2.0",
      "model_name": "LayoutModel",
      "state": {}
     },
     "9ae044bc16194b279da598ff103a4a0f": {
      "model_module": "@jupyter-widgets/controls",
      "model_module_version": "1.5.0",
      "model_name": "LabelModel",
      "state": {
       "layout": "IPY_MODEL_7c5eba4bb6a34d2b88f81a6bdee95ca7",
       "style": "IPY_MODEL_3db41142aba24671b12f9f910b6cc2fd",
       "value": "Vega plot embedded in another widget"
      }
     },
     "a15c3a1d41e54a3faaaf823e183f8a1c": {
      "model_module": "@jupyter-widgets/controls",
      "model_module_version": "1.5.0",
      "model_name": "VBoxModel",
      "state": {
       "children": [
        "IPY_MODEL_3d6bdaec89e24e789c1acf8e75fb0ccb",
        "IPY_MODEL_619d52f04a394444ba6d60ea32c66cf8",
        "IPY_MODEL_27c1b42d13f44b26875c31f3d183b0ad"
       ],
       "layout": "IPY_MODEL_71f381054e144172b1de3574a4136c03"
      }
     },
     "a8c43ab69dee4e8c84ba82620d1df39e": {
      "model_module": "@jupyter-widgets/controls",
      "model_module_version": "1.5.0",
      "model_name": "DescriptionStyleModel",
      "state": {
       "description_width": ""
      }
     },
     "af1f99a778e144679606ac6bdea2a7f8": {
      "model_module": "@jupyter-widgets/base",
      "model_module_version": "1.2.0",
      "model_name": "LayoutModel",
      "state": {}
     },
     "b3677dd550cc491d8136724948806d9b": {
      "model_module": "@jupyter-widgets/base",
      "model_module_version": "1.2.0",
      "model_name": "LayoutModel",
      "state": {}
     },
     "b77f19a2ab7f43808ef2384043455ca4": {
      "model_module": "@jupyter-widgets/controls",
      "model_module_version": "1.5.0",
      "model_name": "ButtonStyleModel",
      "state": {}
     },
     "bf84984f0adf4265942958e460d495d4": {
      "model_module": "jupyter-vega",
      "model_module_version": "^3.6.0",
      "model_name": "VegaWidgetModel",
      "state": {
       "_df": null,
       "_img_url": "null",
       "_model_module": "jupyter-vega",
       "_model_module_version": "^3.6.0",
       "_opt_source": "null",
       "_spec_source": "{\"$schema\": \"https://vega.github.io/schema/vega-lite/v4.json\", \"mark\": \"point\", \"data\": {\"name\": \"data\"}, \"encoding\": {\"x\": {\"type\": \"quantitative\", \"field\": \"x\"}, \"y\": {\"type\": \"quantitative\", \"field\": \"y\"}}}",
       "_view_module": "jupyter-vega",
       "_view_module_version": "^3.6.0",
       "layout": "IPY_MODEL_b3677dd550cc491d8136724948806d9b"
      }
     },
     "c84522692efe4e49aeafd26d3aa97093": {
      "model_module": "@jupyter-widgets/base",
      "model_module_version": "1.2.0",
      "model_name": "LayoutModel",
      "state": {}
     },
     "c923ab83b8b740eab9063c75670db46f": {
      "model_module": "@jupyter-widgets/controls",
      "model_module_version": "1.5.0",
      "model_name": "DescriptionStyleModel",
      "state": {
       "description_width": ""
      }
     },
     "ca8aad84067f421c83da7021fbb7517a": {
      "model_module": "@jupyter-widgets/base",
      "model_module_version": "1.2.0",
      "model_name": "LayoutModel",
      "state": {}
     },
     "cbff17b3828540b89f2ff6ea91cae262": {
      "model_module": "@jupyter-widgets/controls",
      "model_module_version": "1.5.0",
      "model_name": "DescriptionStyleModel",
      "state": {
       "description_width": ""
      }
     },
     "cef95200890e4331a784792b8286ea34": {
      "model_module": "@jupyter-widgets/controls",
      "model_module_version": "1.5.0",
      "model_name": "ButtonStyleModel",
      "state": {}
     },
     "cf9468f6fed84484a42a81be85a1ccfa": {
      "model_module": "@jupyter-widgets/base",
      "model_module_version": "1.2.0",
      "model_name": "LayoutModel",
      "state": {}
     },
     "cf9b31e4c85b427dbebdd0a83311798a": {
      "model_module": "jupyter-vega",
      "model_module_version": "^3.6.0",
      "model_name": "VegaWidgetModel",
      "state": {
       "_df": null,
       "_img_url": "null",
       "_model_module": "jupyter-vega",
       "_model_module_version": "^3.6.0",
       "_opt_source": "null",
       "_spec_source": "{\"$schema\": \"https://vega.github.io/schema/vega-lite/v4.json\", \"mark\": \"point\", \"data\": {\"name\": \"data\", \"values\": [{\"x\": -0.14409032957792836, \"y\": -0.1729036003315193, \"t\": 0}, {\"x\": -0.11131586156766246, \"y\": 0.7019837250988631, \"t\": 1}, {\"x\": -0.12758828378288709, \"y\": -1.4973534143409575, \"t\": 2}, {\"x\": 0.33231834406771527, \"y\": -0.2673374784971682, \"t\": 3}, {\"x\": -0.216958684145195, \"y\": 0.11588478670085507, \"t\": 4}]}, \"encoding\": {\"x\": {\"type\": \"quantitative\", \"field\": \"x\"}, \"y\": {\"type\": \"quantitative\", \"field\": \"y\"}}}",
       "_view_module": "jupyter-vega",
       "_view_module_version": "^3.6.0",
       "layout": "IPY_MODEL_7daa1d78436d4a42a05227b4829bee3c"
      }
     },
     "d2d78a928ef54a26b2e903e80112595c": {
      "model_module": "jupyter-vega",
      "model_module_version": "^3.6.0",
      "model_name": "VegaWidgetModel",
      "state": {
       "_df": null,
       "_img_url": "null",
       "_model_module": "jupyter-vega",
       "_model_module_version": "^3.6.0",
       "_opt_source": "null",
       "_spec_source": "{\"$schema\": \"https://vega.github.io/schema/vega-lite/v4.json\", \"mark\": \"point\", \"data\": {\"name\": \"data\"}, \"encoding\": {\"x\": {\"type\": \"quantitative\", \"field\": \"x\"}, \"y\": {\"type\": \"quantitative\", \"field\": \"y\"}}}",
       "_view_module": "jupyter-vega",
       "_view_module_version": "^3.6.0",
       "layout": "IPY_MODEL_af1f99a778e144679606ac6bdea2a7f8"
      }
     },
     "d33a9d1fc02d4197a73383f4d3c33465": {
      "model_module": "@jupyter-widgets/base",
      "model_module_version": "1.2.0",
      "model_name": "LayoutModel",
      "state": {}
     },
     "d5014381221f408e85e8ef4e27e03d69": {
      "model_module": "jupyter-vega",
      "model_module_version": "^3.6.0",
      "model_name": "VegaWidgetModel",
      "state": {
       "_df": null,
       "_img_url": "null",
       "_model_module": "jupyter-vega",
       "_model_module_version": "^3.6.0",
       "_opt_source": "null",
       "_spec_source": "{\"$schema\": \"https://vega.github.io/schema/vega-lite/v4.json\", \"mark\": \"point\", \"data\": {\"name\": \"data\", \"values\": [{\"x\": -0.14409032957792836, \"y\": -0.1729036003315193, \"t\": 0}, {\"x\": -0.11131586156766246, \"y\": 0.7019837250988631, \"t\": 1}, {\"x\": -0.12758828378288709, \"y\": -1.4973534143409575, \"t\": 2}, {\"x\": 0.33231834406771527, \"y\": -0.2673374784971682, \"t\": 3}, {\"x\": -0.216958684145195, \"y\": 0.11588478670085507, \"t\": 4}]}, \"encoding\": {\"x\": {\"type\": \"quantitative\", \"field\": \"x\"}, \"y\": {\"type\": \"quantitative\", \"field\": \"y\"}}}",
       "_view_module": "jupyter-vega",
       "_view_module_version": "^3.6.0",
       "layout": "IPY_MODEL_7e7f3da10d7a4a8eb9c49f7abf302902"
      }
     },
     "d656d2001870412c85ae398da65d6b9b": {
      "model_module": "@jupyter-widgets/base",
      "model_module_version": "1.2.0",
      "model_name": "LayoutModel",
      "state": {}
     },
     "d6c0ab2005d849dc8aca0e2201ac7abd": {
      "model_module": "@jupyter-widgets/base",
      "model_module_version": "1.2.0",
      "model_name": "DOMWidgetModel",
      "state": {
       "_model_name": "DOMWidgetModel",
       "_spec_source": "{\"$schema\": \"https://vega.github.io/schema/vega-lite/v3.json\", \"mark\": \"point\", \"data\": {\"name\": \"data\", \"values\": []}, \"encoding\": {\"x\": {\"type\": \"quantitative\", \"field\": \"x\"}, \"y\": {\"type\": \"quantitative\", \"field\": \"y\"}}}",
       "_view_module": "nbextensions/jupyter-vega/index",
       "_view_module_version": "0.1.0",
       "_view_name": "VegaWidget",
       "layout": "IPY_MODEL_25a0b3e846094e47ad5a92bca1310718"
      }
     },
     "d794fedca436451d8135d2285c007c40": {
      "model_module": "@jupyter-widgets/controls",
      "model_module_version": "1.5.0",
      "model_name": "LabelModel",
      "state": {
       "layout": "IPY_MODEL_c84522692efe4e49aeafd26d3aa97093",
       "style": "IPY_MODEL_a8c43ab69dee4e8c84ba82620d1df39e",
       "value": "Vega plot embedded in another widget"
      }
     },
     "d98c8303019946e8a1c4418dc1567dfb": {
      "model_module": "@jupyter-widgets/base",
      "model_module_version": "1.2.0",
      "model_name": "LayoutModel",
      "state": {}
     },
     "da7f6aec75524cdda77a156a4a806be9": {
      "model_module": "@jupyter-widgets/base",
      "model_module_version": "1.2.0",
      "model_name": "LayoutModel",
      "state": {}
     },
     "dbf92a346fa34a4a8054e3cd96b4c00d": {
      "model_module": "@jupyter-widgets/base",
      "model_module_version": "1.2.0",
      "model_name": "LayoutModel",
      "state": {}
     },
     "ddbee625b34b4766832e0c7f01b48c10": {
      "model_module": "jupyter-vega",
      "model_module_version": "^3.6.0",
      "model_name": "VegaWidgetModel",
      "state": {
       "_df": null,
       "_img_url": "data:image/png;base64,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",
       "_model_module": "jupyter-vega",
       "_model_module_version": "^3.6.0",
       "_opt_source": "null",
       "_spec_source": "{\"$schema\": \"https://vega.github.io/schema/vega-lite/v4.json\", \"mark\": \"point\", \"data\": {\"name\": \"data\"}, \"encoding\": {\"x\": {\"type\": \"quantitative\", \"field\": \"x\"}, \"y\": {\"type\": \"quantitative\", \"field\": \"y\"}}}",
       "_view_module": "jupyter-vega",
       "_view_module_version": "^3.6.0",
       "layout": "IPY_MODEL_dbf92a346fa34a4a8054e3cd96b4c00d"
      }
     },
     "e347415012c640109b7e923179dda932": {
      "model_module": "@jupyter-widgets/controls",
      "model_module_version": "1.5.0",
      "model_name": "LabelModel",
      "state": {
       "layout": "IPY_MODEL_d98c8303019946e8a1c4418dc1567dfb",
       "style": "IPY_MODEL_f172b5db1e6a482981fa8c546b18164f",
       "value": "Vega plot embedded in another widget"
      }
     },
     "e407452a1b3c42719e1ff0c48c564596": {
      "model_module": "@jupyter-widgets/controls",
      "model_module_version": "1.5.0",
      "model_name": "ButtonStyleModel",
      "state": {}
     },
     "e5d6ce62bd2d473babb458d2c4d2fb35": {
      "model_module": "@jupyter-widgets/base",
      "model_module_version": "1.2.0",
      "model_name": "LayoutModel",
      "state": {}
     },
     "f0d310634c71480db242ecec80286f6d": {
      "model_module": "@jupyter-widgets/base",
      "model_module_version": "1.2.0",
      "model_name": "LayoutModel",
      "state": {}
     },
     "f172b5db1e6a482981fa8c546b18164f": {
      "model_module": "@jupyter-widgets/controls",
      "model_module_version": "1.5.0",
      "model_name": "DescriptionStyleModel",
      "state": {
       "description_width": ""
      }
     },
     "f1d79460aee6493cbce32d8d2e72e038": {
      "model_module": "jupyter-vega",
      "model_module_version": "^3.6.0",
      "model_name": "VegaWidgetModel",
      "state": {
       "_df": null,
       "_img_url": "null",
       "_model_module": "jupyter-vega",
       "_model_module_version": "^3.6.0",
       "_opt_source": "null",
       "_spec_source": "{\"$schema\": \"https://vega.github.io/schema/vega-lite/v4.json\", \"mark\": \"point\", \"data\": {\"name\": \"data\", \"values\": [{\"x\": -0.14409032957792836, \"y\": -0.1729036003315193, \"t\": 0}, {\"x\": -0.11131586156766246, \"y\": 0.7019837250988631, \"t\": 1}, {\"x\": -0.12758828378288709, \"y\": -1.4973534143409575, \"t\": 2}, {\"x\": 0.33231834406771527, \"y\": -0.2673374784971682, \"t\": 3}, {\"x\": -0.216958684145195, \"y\": 0.11588478670085507, \"t\": 4}]}, \"encoding\": {\"x\": {\"type\": \"quantitative\", \"field\": \"x\"}, \"y\": {\"type\": \"quantitative\", \"field\": \"y\"}}}",
       "_view_module": "jupyter-vega",
       "_view_module_version": "^3.6.0",
       "layout": "IPY_MODEL_0b0b87de7415490c89e3ce1704df648b"
      }
     },
     "faf119ac652e42b7a2408413ff08c871": {
      "model_module": "jupyter-vega",
      "model_module_version": "^3.6.0",
      "model_name": "VegaWidgetModel",
      "state": {
       "_df": null,
       "_img_url": "null",
       "_model_module": "jupyter-vega",
       "_model_module_version": "^3.6.0",
       "_opt_source": "null",
       "_spec_source": "{\"$schema\": \"https://vega.github.io/schema/vega-lite/v4.json\", \"mark\": \"point\", \"data\": {\"name\": \"data\"}, \"encoding\": {\"x\": {\"type\": \"quantitative\", \"field\": \"x\"}, \"y\": {\"type\": \"quantitative\", \"field\": \"y\"}}}",
       "_view_module": "jupyter-vega",
       "_view_module_version": "^3.6.0",
       "layout": "IPY_MODEL_f0d310634c71480db242ecec80286f6d"
      }
     },
     "fc3c424aa84347889a1586019267b6b7": {
      "model_module": "jupyter-vega",
      "model_module_version": "^3.6.0",
      "model_name": "VegaWidgetModel",
      "state": {
       "_df": null,
       "_img_url": "null",
       "_model_module": "jupyter-vega",
       "_model_module_version": "^3.6.0",
       "_opt_source": "{\"theme\": \"dark\"}",
       "_spec_source": "{\"$schema\": \"https://vega.github.io/schema/vega-lite/v4.json\", \"mark\": \"line\", \"data\": {\"name\": \"data\"}, \"encoding\": {\"x\": {\"type\": \"quantitative\", \"field\": \"x\"}, \"y\": {\"type\": \"quantitative\", \"field\": \"y\"}}}",
       "_view_module": "jupyter-vega",
       "_view_module_version": "^3.6.0",
       "layout": "IPY_MODEL_1ef69ccf96404288a5869cc573d9a2e1"
      }
     },
     "fe26d65f4a8f4498873841a0c3eed722": {
      "model_module": "jupyter-vega",
      "model_module_version": "^3.6.0",
      "model_name": "VegaWidgetModel",
      "state": {
       "_df": null,
       "_img_url": "null",
       "_model_module": "jupyter-vega",
       "_model_module_version": "^3.6.0",
       "_opt_source": "{\"theme\": \"dark\"}",
       "_spec_source": "{\"$schema\": \"https://vega.github.io/schema/vega-lite/v4.json\", \"mark\": \"line\", \"data\": {\"name\": \"data\"}, \"encoding\": {\"x\": {\"type\": \"quantitative\", \"field\": \"x\"}, \"y\": {\"type\": \"quantitative\", \"field\": \"y\"}}}",
       "_view_module": "jupyter-vega",
       "_view_module_version": "^3.6.0",
       "layout": "IPY_MODEL_208ed04e2e3b467f982e1d5540cce582"
      }
     }
    },
    "version_major": 2,
    "version_minor": 0
   }
  }
 },
 "nbformat": 4,
 "nbformat_minor": 2
}
