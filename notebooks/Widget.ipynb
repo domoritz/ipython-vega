{
 "cells": [
  {
   "cell_type": "code",
   "execution_count": 1,
   "metadata": {},
   "outputs": [],
   "source": [
    "import random\n",
    "import time\n",
    "random.seed(42)"
   ]
  },
  {
   "cell_type": "code",
   "execution_count": 2,
   "metadata": {},
   "outputs": [],
   "source": [
    "spec_no_data = {\n",
    "    \"$schema\": \"https://vega.github.io/schema/vega-lite/v4.json\",\n",
    "    \"mark\": \"point\",\n",
    "    \"data\": {\n",
    "        \"name\": \"data\"\n",
    "    },\n",
    "    \"encoding\": {\n",
    "        \"x\": {\"type\": \"quantitative\", \"field\": \"x\"},\n",
    "        \"y\": {\"type\": \"quantitative\", \"field\": \"y\"},\n",
    "    }\n",
    "}\n",
    "\n",
    "spec_with_data = spec_no_data.copy()\n",
    "spec_with_data[\"data\"] = {\n",
    "    \"name\": \"data\",\n",
    "    \"values\": [\n",
    "        {\"x\": random.gauss(0, 1), \"y\": random.gauss(0, 1), \"t\": t}\n",
    "        for t in range(5)\n",
    "    ],\n",
    "}"
   ]
  },
  {
   "cell_type": "markdown",
   "metadata": {},
   "source": [
    "# Static Vega Plot\n",
    "\n",
    "## Using VegaLite"
   ]
  },
  {
   "cell_type": "code",
   "execution_count": 3,
   "metadata": {},
   "outputs": [
    {
     "data": {
      "application/javascript": [
       "const spec = {\"$schema\": \"https://vega.github.io/schema/vega-lite/v4.json\", \"mark\": \"point\", \"data\": {\"name\": \"data\", \"values\": [{\"x\": -0.14409032957792836, \"y\": -0.1729036003315193, \"t\": 0}, {\"x\": -0.11131586156766246, \"y\": 0.7019837250988631, \"t\": 1}, {\"x\": -0.12758828378288709, \"y\": -1.4973534143409575, \"t\": 2}, {\"x\": 0.33231834406771527, \"y\": -0.2673374784971682, \"t\": 3}, {\"x\": -0.216958684145195, \"y\": 0.11588478670085507, \"t\": 4}]}, \"encoding\": {\"x\": {\"type\": \"quantitative\", \"field\": \"x\"}, \"y\": {\"type\": \"quantitative\", \"field\": \"y\"}}};\n",
       "const opt = {};\n",
       "const type = \"vega-lite\";\n",
       "const id = \"6e0016be-b3a8-4169-a602-345648e36bdd\";\n",
       "\n",
       "const output_area = this;\n",
       "\n",
       "require([\"jupyter-vega\"], function(vega) {\n",
       "  const target = document.createElement(\"div\");\n",
       "  target.id = id;\n",
       "  target.className = \"vega-embed\";\n",
       "\n",
       "  const style = document.createElement(\"style\");\n",
       "  style.textContent = [\n",
       "    \".vega-embed .error p {\",\n",
       "    \"  color: firebrick;\",\n",
       "    \"  font-size: 14px;\",\n",
       "    \"}\",\n",
       "  ].join(\"\\\\n\");\n",
       "\n",
       "  // element is a jQuery wrapped DOM element inside the output area\n",
       "  // see http://ipython.readthedocs.io/en/stable/api/generated/\\\n",
       "  // IPython.display.html#IPython.display.Javascript.__init__\n",
       "  element[0].appendChild(target);\n",
       "  element[0].appendChild(style);\n",
       "  vega.render(`#${id}`, spec, type, opt, output_area);\n",
       "}, function (err) {\n",
       "  if (err.requireType !== \"scripterror\") {\n",
       "    throw(err);\n",
       "  }\n",
       "});\n"
      ],
      "text/plain": [
       "<vega.vegalite.VegaLite at 0x7f0fcc4b07f0>"
      ]
     },
     "execution_count": 3,
     "metadata": {
      "jupyter-vega": "#6e0016be-b3a8-4169-a602-345648e36bdd"
     },
     "output_type": "execute_result"
    },
    {
     "data": {
      "image/png": "[encoded data removed]"
     },
     "metadata": {
      "jupyter-vega": "#6e0016be-b3a8-4169-a602-345648e36bdd"
     },
     "output_type": "display_data"
    }
   ],
   "source": [
    "from vega import VegaLite\n",
    "VegaLite(spec=spec_with_data)"
   ]
  },
  {
   "cell_type": "markdown",
   "metadata": {},
   "source": [
    "## Using VegaWidget"
   ]
  },
  {
   "cell_type": "code",
   "execution_count": 4,
   "metadata": {},
   "outputs": [
    {
     "data": {
      "application/vnd.jupyter.widget-view+json": {
       "model_id": "51cfd16c89fa42d48a0d081c5c639f88",
       "version_major": 2,
       "version_minor": 0
      },
      "text/plain": [
       "VegaWidget()"
      ]
     },
     "metadata": {},
     "output_type": "display_data"
    }
   ],
   "source": [
    "from vega.widget import VegaWidget\n",
    "VegaWidget(spec=spec_with_data)"
   ]
  },
  {
   "cell_type": "markdown",
   "metadata": {},
   "source": [
    "# Vega Plot with dynamic updates\n",
    "\n",
    "The widget allows to update the plot after it has been displayed. To do so, the widget offers the `update` method that allows to add or remove data from the plot."
   ]
  },
  {
   "cell_type": "code",
   "execution_count": 5,
   "metadata": {},
   "outputs": [
    {
     "data": {
      "application/vnd.jupyter.widget-view+json": {
       "model_id": "a9200b0e14e94c6580ecf3e928112d50",
       "version_major": 2,
       "version_minor": 0
      },
      "text/plain": [
       "VegaWidget()"
      ]
     },
     "metadata": {},
     "output_type": "display_data"
    }
   ],
   "source": [
    "from vega.widget import VegaWidget\n",
    "\n",
    "widget = VegaWidget(spec=spec_no_data)\n",
    "\n",
    "\n",
    "values = [\n",
    "    dict(\n",
    "        x=random.gauss(0.0, 1.0),\n",
    "        y=random.gauss(0.0, 1.0),\n",
    "        t=0,\n",
    "    )\n",
    "    for _ in range(10)\n",
    "]\n",
    "display(widget)\n",
    "widget.update('data', insert=values)"
   ]
  },
  {
   "cell_type": "markdown",
   "metadata": {},
   "source": [
    "## Dynamic updates with a Pandas DataFrame"
   ]
  },
  {
   "cell_type": "code",
   "execution_count": 6,
   "metadata": {},
   "outputs": [
    {
     "data": {
      "application/vnd.jupyter.widget-view+json": {
       "model_id": "3947b1dd99c74629888583d70393ecaa",
       "version_major": 2,
       "version_minor": 0
      },
      "text/plain": [
       "VegaWidget()"
      ]
     },
     "metadata": {},
     "output_type": "display_data"
    }
   ],
   "source": [
    "import pandas as pd\n",
    "from vega.widget import VegaWidget\n",
    "\n",
    "widget = VegaWidget(spec=spec_no_data)\n",
    "xcol = [d['x'] for d in values]\n",
    "ycol = [d['y'] for d in values]\n",
    "df = pd.DataFrame(dict(x=xcol, y=ycol), dtype='float32')\n",
    "display(widget)\n",
    "widget.update('data', insert=df)"
   ]
  },
  {
   "cell_type": "code",
   "execution_count": 7,
   "metadata": {},
   "outputs": [],
   "source": [
    "# The spec can be updated after the widget has been displayed. However, any \n",
    "# data is inserted via update is lost and needs to be re-inserted.\n",
    "widget.spec = dict(spec_no_data, mark=\"line\")\n",
    "widget.update(\"data\", insert=values)"
   ]
  },
  {
   "cell_type": "code",
   "execution_count": 8,
   "metadata": {},
   "outputs": [],
   "source": [
    "# Similarly the options can be updated after the widget has been displayed. \n",
    "# Again, any data is inserted via update is lost and needs to be re-inserted.\n",
    "widget.opt = {\"theme\": \"dark\"}\n",
    "widget.update(\"data\", insert=values)"
   ]
  },
  {
   "cell_type": "code",
   "execution_count": 9,
   "metadata": {},
   "outputs": [
    {
     "name": "stdout",
     "output_type": "stream",
     "text": [
      "the current spec: {'$schema': 'https://vega.github.io/schema/vega-lite/v4.json', 'mark': 'line', 'data': {'name': 'data'}, 'encoding': {'x': {'type': 'quantitative', 'field': 'x'}, 'y': {'type': 'quantitative', 'field': 'y'}}}\n",
      "options: {'theme': 'dark'}\n"
     ]
    }
   ],
   "source": [
    "print(\"the current spec:\", widget.spec)\n",
    "print(\"options:\", widget.opt)"
   ]
  },
  {
   "cell_type": "markdown",
   "metadata": {},
   "source": [
    "The VegaWidget can also be embedded into larger ipywidgets layout and use interactive features, such as buttons or similar interactive elements."
   ]
  },
  {
   "cell_type": "code",
   "execution_count": 10,
   "metadata": {},
   "outputs": [],
   "source": [
    "from ipywidgets import VBox, Label, Button"
   ]
  },
  {
   "cell_type": "code",
   "execution_count": 11,
   "metadata": {},
   "outputs": [
    {
     "data": {
      "application/vnd.jupyter.widget-view+json": {
       "model_id": "36e7cd0019d94b728c999098aade1ded",
       "version_major": 2,
       "version_minor": 0
      },
      "text/plain": [
       "VBox(children=(Label(value='Vega plot embedded in another widget'), VegaWidget(), Button(description='Add new …"
      ]
     },
     "metadata": {},
     "output_type": "display_data"
    }
   ],
   "source": [
    "plot = VegaWidget(spec=spec_with_data)\n",
    "button = Button(description=\"Add new data point\")\n",
    "\n",
    "t = 5\n",
    "\n",
    "@button.on_click\n",
    "def on_click_handler(*_):\n",
    "    global t\n",
    "    \n",
    "    value = dict(\n",
    "        x=random.gauss(0.0, 1.0),\n",
    "        y=random.gauss(0.0, 1.0),\n",
    "        t=t,\n",
    "    )\n",
    "    plot.update('data', insert=[value], remove=f'datum.t <= {t - 5}')\n",
    "    t += 1\n",
    "\n",
    "VBox([Label(\"Vega plot embedded in another widget\"), plot, button])"
   ]
  },
  {
   "cell_type": "markdown",
   "metadata": {},
   "source": [
    "# Errors\n",
    "Updating a non-existent dataset raises an error"
   ]
  },
  {
   "cell_type": "code",
   "execution_count": 12,
   "metadata": {
    "scrolled": true
   },
   "outputs": [
    {
     "data": {
      "application/vnd.jupyter.widget-view+json": {
       "model_id": "54dceed7080b4c23b6392eacec80556b",
       "version_major": 2,
       "version_minor": 0
      },
      "text/plain": [
       "VegaWidget()"
      ]
     },
     "metadata": {},
     "output_type": "display_data"
    }
   ],
   "source": [
    "from vega.widget import VegaWidget\n",
    "\n",
    "widget = VegaWidget(spec=spec_no_data)\n",
    "\n",
    "\n",
    "values = [\n",
    "    dict(\n",
    "        x=random.gauss(0.0, 1.0),\n",
    "        y=random.gauss(0.0, 1.0),\n",
    "        t=0,\n",
    "    )\n",
    "    for _ in range(10)\n",
    "]\n",
    "\n",
    "display(widget)\n",
    "widget.update('non_existing', insert=values)"
   ]
  },
  {
   "cell_type": "markdown",
   "metadata": {},
   "source": [
    "# Fixing the Error\n",
    "Updating it later still works, the widget in the previous cell will be updated."
   ]
  },
  {
   "cell_type": "code",
   "execution_count": 13,
   "metadata": {},
   "outputs": [],
   "source": [
    "import pandas as pd\n",
    "df = pd.DataFrame(dict(a=[1,2], b=[3,4], x=[1.1,2.2],  y=[3.3,4.4]))\n",
    "widget.update('data', insert=df)"
   ]
  },
  {
   "cell_type": "code",
   "execution_count": 14,
   "metadata": {},
   "outputs": [],
   "source": [
    "cars = pd.read_json(\"cars.json\")\n",
    "USA = cars[cars.Origin==\"USA\"]\n",
    "Europe = cars[cars.Origin==\"Europe\"]\n",
    "Japan = cars[cars.Origin==\"Japan\"]"
   ]
  },
  {
   "cell_type": "code",
   "execution_count": 15,
   "metadata": {},
   "outputs": [
    {
     "data": {
      "application/vnd.jupyter.widget-view+json": {
       "model_id": "2010bba9df414cd18fbbf1bac0936aee",
       "version_major": 2,
       "version_minor": 0
      },
      "text/plain": [
       "VegaWidget()"
      ]
     },
     "metadata": {},
     "output_type": "display_data"
    }
   ],
   "source": [
    "\n",
    "spec = {\n",
    "  \"$schema\": \"https://vega.github.io/schema/vega-lite/v5.json\",\n",
    "  \"description\": \"A vertical box plot showing median and lower and upper quartiles of the distribution of body mass of penguins.\",\n",
    "  \"data\": {\"name\": \"data\"},\n",
    "  \"mark\": \"boxplot\",\n",
    "  \"encoding\": {\n",
    "    \"x\": {\"field\": \"Origin\", \"type\": \"nominal\", \"sort\": \"-y\"},\n",
    "    \"color\": {\"field\": \"Origin\", \"type\": \"nominal\", \"legend\": None},\n",
    "    \"y\": {\n",
    "      \"field\": \"Acceleration\",\n",
    "      \"type\": \"quantitative\",\n",
    "      \"scale\": {\"zero\": False}\n",
    "    }\n",
    "  }\n",
    "}\n",
    "\n",
    "widget = VegaWidget(spec=spec)\n",
    "display(widget)"
   ]
  },
  {
   "cell_type": "code",
   "execution_count": 16,
   "metadata": {},
   "outputs": [],
   "source": [
    "widget.update('data', insert=Japan)"
   ]
  },
  {
   "cell_type": "code",
   "execution_count": 17,
   "metadata": {},
   "outputs": [],
   "source": [
    "widget.update('data', insert=Europe)"
   ]
  },
  {
   "cell_type": "code",
   "execution_count": 18,
   "metadata": {},
   "outputs": [],
   "source": [
    "widget.update('data', insert=USA)"
   ]
  }
 ],
 "metadata": {
  "hide_input": false,
  "kernelspec": {
   "display_name": "Python 3 (ipykernel)",
   "language": "python",
   "name": "python3"
  },
  "language_info": {
   "codemirror_mode": {
    "name": "ipython",
    "version": 3
   },
   "file_extension": ".py",
   "mimetype": "text/x-python",
   "name": "python",
   "nbconvert_exporter": "python",
   "pygments_lexer": "ipython3",
   "version": "3.10.8"
  },
  "toc": {
   "base_numbering": 1,
   "nav_menu": {},
   "number_sections": true,
   "sideBar": true,
   "skip_h1_title": false,
   "title_cell": "Table of Contents",
   "title_sidebar": "Contents",
   "toc_cell": true,
   "toc_position": {},
   "toc_section_display": true,
   "toc_window_display": false
  },
  "widgets": {
   "application/vnd.jupyter.widget-state+json": {
    "state": {
     "01f479ba04db4bea83007e6090c18e2e": {
      "model_module": "@jupyter-widgets/base",
      "model_module_version": "1.2.0",
      "model_name": "LayoutModel",
      "state": {}
     },
     "0a769f4dca88416db92b26901d0b2c39": {
      "model_module": "jupyter-vega",
      "model_module_version": "^3.6.0",
      "model_name": "VegaWidgetModel",
      "state": {
       "_df": null,
       "_img_url": "null",
       "_model_module": "jupyter-vega",
       "_model_module_version": "^3.6.0",
       "_opt_source": "null",
       "_spec_source": "{\"$schema\": \"https://vega.github.io/schema/vega-lite/v4.json\", \"mark\": \"point\", \"data\": {\"name\": \"data\"}, \"encoding\": {\"x\": {\"type\": \"quantitative\", \"field\": \"x\"}, \"y\": {\"type\": \"quantitative\", \"field\": \"y\"}}}",
       "_view_module": "jupyter-vega",
       "_view_module_version": "^3.6.0",
       "layout": "IPY_MODEL_6e444f1d953542ae9774d881774c4908"
      }
     },
     "0ac0524f7b374355b567c89a18a88392": {
      "model_module": "jupyter-vega",
      "model_module_version": "^3.6.0",
      "model_name": "VegaWidgetModel",
      "state": {
       "_df": null,
       "_img_url": "null",
       "_model_module": "jupyter-vega",
       "_model_module_version": "^3.6.0",
       "_opt_source": "null",
       "_spec_source": "{\"$schema\": \"https://vega.github.io/schema/vega-lite/v4.json\", \"mark\": \"point\", \"data\": {\"name\": \"data\"}, \"encoding\": {\"x\": {\"type\": \"quantitative\", \"field\": \"x\"}, \"y\": {\"type\": \"quantitative\", \"field\": \"y\"}}}",
       "_view_module": "jupyter-vega",
       "_view_module_version": "^3.6.0",
       "layout": "IPY_MODEL_4810124b8793411dad8d016fe2fe3a0f"
      }
     },
     "0b0b87de7415490c89e3ce1704df648b": {
      "model_module": "@jupyter-widgets/base",
      "model_module_version": "1.2.0",
      "model_name": "LayoutModel",
      "state": {}
     },
     "0f64157e291e44c3b3ae7570abce4864": {
      "model_module": "jupyter-vega",
      "model_module_version": "^3.6.0",
      "model_name": "VegaWidgetModel",
      "state": {
       "_df": null,
       "_img_url": "null",
       "_model_module": "jupyter-vega",
       "_model_module_version": "^3.6.0",
       "_opt_source": "null",
       "_spec_source": "{\"$schema\": \"https://vega.github.io/schema/vega-lite/v5.json\", \"description\": \"A vertical box plot showing median and lower and upper quartiles of the distribution of body mass of penguins.\", \"data\": {\"name\": \"data\"}, \"mark\": \"boxplot\", \"encoding\": {\"x\": {\"field\": \"Origin\", \"type\": \"nominal\", \"sort\": \"-y\"}, \"color\": {\"field\": \"Origin\", \"type\": \"nominal\", \"legend\": null}, \"y\": {\"field\": \"Acceleration\", \"type\": \"quantitative\", \"scale\": {\"zero\": false}}}}",
       "_view_module": "jupyter-vega",
       "_view_module_version": "^3.6.0",
       "layout": "IPY_MODEL_01f479ba04db4bea83007e6090c18e2e"
      }
     },
     "110e29a5d24d4668a6e7332fbd02a3d8": {
      "model_module": "@jupyter-widgets/controls",
      "model_module_version": "1.5.0",
      "model_name": "ButtonModel",
      "state": {
       "description": "Add new data point",
       "layout": "IPY_MODEL_6528b5b0fb2a4664be973dfafefcac95",
       "style": "IPY_MODEL_b77f19a2ab7f43808ef2384043455ca4"
      }
     },
     "129623fc98084c209f54a94cf624c6a6": {
      "model_module": "@jupyter-widgets/base",
      "model_module_version": "1.2.0",
      "model_name": "LayoutModel",
      "state": {}
     },
     "15117f528ecb4c5288d6a41457dc768e": {
      "model_module": "@jupyter-widgets/base",
      "model_module_version": "1.2.0",
      "model_name": "LayoutModel",
      "state": {}
     },
     "1a6f41fd33464eaeb33929838d8e2edf": {
      "model_module": "@jupyter-widgets/base",
      "model_module_version": "1.2.0",
      "model_name": "LayoutModel",
      "state": {}
     },
     "1ab16e8dfb8f48169c64e6b6e135569f": {
      "model_module": "@jupyter-widgets/controls",
      "model_module_version": "1.5.0",
      "model_name": "VBoxModel",
      "state": {
       "children": [
        "IPY_MODEL_1be5e2eb25ce4b19b9e9ea4412212b3f",
        "IPY_MODEL_cf9b31e4c85b427dbebdd0a83311798a",
        "IPY_MODEL_4fe90839b3e14fceaea5307d059f8b6e"
       ],
       "layout": "IPY_MODEL_d33a9d1fc02d4197a73383f4d3c33465"
      }
     },
     "1be5e2eb25ce4b19b9e9ea4412212b3f": {
      "model_module": "@jupyter-widgets/controls",
      "model_module_version": "1.5.0",
      "model_name": "LabelModel",
      "state": {
       "layout": "IPY_MODEL_4ffc2b5346b7421fab80f9268f185f29",
       "style": "IPY_MODEL_c923ab83b8b740eab9063c75670db46f",
       "value": "Vega plot embedded in another widget"
      }
     },
     "1ef69ccf96404288a5869cc573d9a2e1": {
      "model_module": "@jupyter-widgets/base",
      "model_module_version": "1.2.0",
      "model_name": "LayoutModel",
      "state": {}
     },
     "1ff33b29d9034c8b82a53cf3f210df3f": {
      "model_module": "@jupyter-widgets/base",
      "model_module_version": "1.2.0",
      "model_name": "LayoutModel",
      "state": {}
     },
     "200458e6148e456aa9ab3d0720180825": {
      "model_module": "@jupyter-widgets/base",
      "model_module_version": "1.2.0",
      "model_name": "LayoutModel",
      "state": {}
     },
     "2010bba9df414cd18fbbf1bac0936aee": {
      "model_module": "jupyter-vega",
      "model_module_version": "^3.6.0",
      "model_name": "VegaWidgetModel",
      "state": {
       "_df": null,
       "_img_url": "{\"width\":\"104px\",\"height\":\"265px\",\"url\":\"data:image/png;base64,iVBORw0KGgoAAAANSUhEUgAAANAAAAISCAYAAAC9G0HiAAAAAXNSR0IArs4c6QAAIABJREFUeF7tnQncTdX6x5+olBJSCUmhUJeKJjQhQ6lMqXCjFGWeSqUUF/HPlCG65IqQInI1XCEq4xVKriFEyZzboFGG/+e3uvvtvO97znnX3mevvdc+7+/5fPqQs9az1vk9+3vW2ms84fjx48eFRgWogCcFTiBAnnRjJiqgFCBAfBCoQAoKEKAUxGNWKkCA+AxQgRQUIEApiMesVIAA8RmgAikoQIBSEI9ZqQAB4jNABVJQgAClIB6zUgEC5PEZ+OKLLzzmZLYoKVC6dOmk1SVAHqP5f//3fypn06ZNPXpgtigoQIAMRckB6LHHHjNUAt2GqYDTwyBAhqJAgAwJa4lbAmQ4EATIsMAhuydAhgNAgAwLHLJ7AmQ4AATIsMAhuydAhgNAgAwLHLJ7AmQ4AATIsMAhuydAhgNAgAwLHLJ7AmQ4AATIsMAhuydAhgNAgAwLHLJ7AmQ4AATIsMAhuydAhgNAgAwLHLJ7AmQ4AATIsMAhu09rgLZu3Sr9+vWTFStWyIEDB+T888+XOnXqyBNPPCGFCxfOkH7evHkqXSJr27attGzZ0lOoCJAn2SKTKW0BWrVqldx4442CA1XvuusuKVGihAJp0aJFcuGFF8qaNWukUKFCKlCjR4+WTp06SeXKlTOB5UTx/vvvlxYtWngKKgHyJFtkMqUtQJdddpls2rRJli1bJlWqVMkICEABMEOGDJEePXqof+/fv7/07t1bAXbNNdf4GjwC5Kuc1jlLS4B+/PFHadasmWppRo4cmUl0QFK1alVp1aqVvPzyy+qzRx99VAG1ceNGKV++vK9BIkC+ymmds7QEKJnKixcvlho1aki3bt1k2LBhKmmbNm3kpZdekj179si5557ra5AIkK9yWucs1wGErdUzZ86UlStXytVXX60C4vwb3psmTZokmzdvlhNOOEF15zp06CBFixb1HDgC5Fm6SGTMVQA999xzgq3VHTt2lFGjRmUECCNz8+fPlzx58kiFChVU1w8jeHiHOvvss2XBggVSqVIlTwElQJ5ki0ymXAHQsWPH5PHHH5fBgwdL8+bNZfLkyZI3b96MIPXt21cBg+Hq66+/PuPfX3jhBQVbxYoVZd26ddmC6sChE20eKqKjUnTTpO2ZCD/99JMagp4zZ4707NlTBg0apLpnugaglixZEneAgQDpqpj+6dISoEOHDsnNN98sa9eulXHjxsl9993nOpLt27eXsWPHysKFC6VmzZqu87ML51qySGVI2y7cb7/9plYdYGAArU/t2rXjBubIkSOq+waLN4TdsGFDlf/TTz/19B5EgCLFg+vKpi1A3bt3l+HDh6sRtyZNmiQU5ueff5ZixYpJgQIFZMOGDXLGGWdkpN22bZtceumlcuaZZ8rOnTszvTfpKu0nQDNmzMgYNdQtn+nMKpCWAH311VdStmxZtSynXbt2cRXEMp6uXbuqzwYMGCBPPfWUamEAXvHixRVMAwcOlH379sm0adPUxKwX8xMg592N9z17iYSZPGkJkDNZmkyyUqVKyY4dOzKSYFgbD/uuXbsy/q1cuXIKokaNGnlWnwB5li4SGdMSIK/K45cdLc7+/fvlrLPOUi1RqkaAUlXQ7vwEyHB8CJBhgUN2T4AMB4AAGRY4ZPcEyHAACJBhgUN2T4AMB4AAGRY4ZPcEyHAACJBhgUN2T4AMB4AAGRY4ZPcEyHAACJBhgUN2T4AMB4AAGRY4ZPcEyHAACJBhgUN2T4AMB4AAGRY4ZPcEyHAACJBhgUN2T4AMB4AAGRY4ZPcEyHAACJBhgUN2T4AMB4AAGRY4ZPcEyHAACJBhgUN2T4AMB4AAGRY4ZPcEyHAACJBhgUN2T4AMB4AAGRY4ZPcEyHAACJBhgUN2T4AMB4AAGRY4ZPcEyHAACJBhgUN2T4AMB4AAGRY4ZPcEyHAACJBhgUN2T4AMB4AAGRY4ZPcEyHAACJBhgUN2T4AMB4AAGRY4ZPcEyHAACJBhgUN2T4AMB4AAGRY4ZPcEyHAACJBhgUN2T4AMB4AAGRY4ZPcEyHAACJBhgUN2T4AMB4AAGRY4ZPcEyHAACJBhgUN2T4AMB4AAGRY4ZPcEyHAACJBhgUN2T4AMB4AAGRY4ZPcEyHAACJBhgUN2T4AMB4AAGRY4ZPcEyHAACJBhgUN2T4AMB4AAGRY4ZPcEyHAACJBhgUN2T4AMB4AAGRY4ZPcEyHAACJBhgUN2T4AMB4AAGRY4ZPcEyHAACJBhgUN2T4AMB4AAGRY4ZPcEyHAACJBhgUN2T4AMB4AAGRY4ZPcEyHAACJBhgUN2T4AMB4AAGRY4ZPcEyHAACJBhgUN2T4AMB4AAGRY4ZPcEyHAACJBhgUN2T4AMB4AAGRY4ZPcEyHAACJBhgV2479Gjh0o9dOhQF7mSJyVAvkkZ3xEBMiywC/cnnHCCSn38+HEXuQiQb2J5cUSAvKhmJg8BMqOrUa8EyKi8rpwTIFdy2ZGYANkRB9SCANkTC+2aECBtqYwnJEDGJfa/AALkv6ZePRIgr8qFmI8AhSh+lqIJkD2x0K4JAdKWynhCAmRcYv8LIED+a+rVIwHyqlyI+QhQiOKzC2eP+F5rQoC8Kud/PrZA/mtq3CMBMi6xdgEESFsqexISIHtiQYDsiYV2TQiQtlTGExIg4xL7XwAB8l9Trx4JkFflQsxHgEIUn6Nw9ojvtSYEyKty/udjC+S/psY9EiDjEmsXQIC0pbInIQGyJxYEyJ5YaNeEAGlLZTwhATIusf8FECD/NfXqkQB5VS7EfAQoRPE5CmeP+F5rQoC8Kud/PrZA/mtq3CMBMi6xdgEESFsqexISIHtiQYDsiYV2TQiQtlTGExIg4xL7X0BuAqhkyZJKwJ07d/ovpA8eCZAPIgbtIjcBZOIB9TNeJurHs7H9jFAcXwTIsMAu3BMgF2LZkpQA2RIJnkxqTyRc1IQAuRDLcFK2QIYFNuGeAJlQ1ZtPAuRNt1BzEaBQ5c9UOAGyJxbaNSFA2lIZT0iAjEvsfwEEyH9NvXokQF6VCzEfAQpR/CxFEyB7YqFdEwKkLZXxhATIuMT+F0CA/NfUq0cC5FW5EPMRoBDFZxfOHvG91oQAeVXO/3xsgfzX1LhHAmRcYu0CCJC2VH8k3Lp1q/Tr109WrFghBw4ckPPPP1/q1KkjTzzxhBQuXDiTt59++kkGDhwob7zxhuzevVuKFCki9evXlz59+qi/ezUC5FU5//MRIBearlq1Sm688UY5fvy43HXXXVKiRAkF0qJFi+TCCy+UNWvWSKFChZTHw4cPy0033STLly+XRo0aSZUqVWTLli0ydepUKVOmjKxcuVIKFizoovQ/kxIgT7IZyUSAXMh62WWXyaZNm2TZsmUKCMc6deoko0ePliFDhkiPHj3UP48ZM0Y6dOgg/fv3lyeffDIj7ZQpU+Tee++VXr16yYABA1yUToA8iWU4EwHSFPjHH3+UZs2aqZZm5MiRmXKhFapataq0atVKXn75ZfXZtddeK+vXr1fdvFNPPTUjPVqv0qVLy5EjRzzvsmQLpBm0AJIRIB9EXrx4sdSoUUO6desmw4YNk99//13y588v1apVkw8++CBbCWiB0BLt2LFDSpUq5boGBMi1ZMYyECAfpG3atKnMnDlTvddcffXVsm3bNilbtqy0bNlSJk2alK2E3r17q67dwoULpWbNmq5rQIBcS2YsAwFKUdrnnntOHnvsMenYsaOMGjVKeVu7dq1UrlxZvQPh3SirDR48WHr27CmzZ8+Whg0buq4BAXItmbEMBMijtMeOHZPHH39cAEPz5s1l8uTJkjdvXuVt9erVcuWVV2aCKraYoUOHyiOPPKKGtxs3buy6BgTItWTGMhAgD9JifqdFixYyZ84c1ZIMGjRIHCHhbvPmzVK+fHlp3bq1TJgwIVsJffv2VXNB7733ntSuXTvT5w4cOtVC1zFVw5A6DN1OGy031w+DTcnshOMYkoqYHTp0SG6++WbVTRs3bpzcd9992b7BL7/8IqeffrrUqlVLQZLVANbEiRPVvBDelWKNAGVWiwAlBsQIQB999JF8+OGHavgYQ8WJLN67SU4s//bbb2rVASZU0fpkbT1i82POCIcB7t+/X0488cRMrtE6HTx4UPbt2yd58uTJqdhsn7ML51oyYxnSpguHhxvvE++8846WWF4av+7du8vw4cPViFuTJk2SloMlPJgsxSgcRuMcQ4tUt27dhO9HOpUnQDoqBZMmbQB69tlnM8345ySfW4C++uor1d3Cerd27drFdY9lPF27dlWfoat3xRVXyJ49e+Tpp59WgwobNmxQf8+XL5/qAhYrViynasb9nAB5ks1IprQB6LrrrpOlS5cqkf7yl7/IrbfeKkWLFk3YRXIedF1VncnSZOkxKYrJUcfw97Zt28qCBQvU+jlY9erVZfz48VKhQgXdotmFE8nQz7NohjKmDUCYd8GvOlYEzJ8/P2NI2ZBurtx+8803qiU655xzFNSpGlugVBX0L3/aAOQsj8ECTbx7pLMRIHuimzYAofVB9wj/4UU9dl7GHrn9qQkB8kdHP7ykDUAQA8PXbdq0Ue8XWNh58cUXZ1oJHSuYs2/HDxGD9kGAglY8cXlpAxCW1WArwXfffScY0s7J3I7C5eQvyM8JUJBqJy8rbQDCioB4K58TfX0C9IcyJh4APx/v3Fi/UC7YAkBY0HnSSSdpvf/8+uuvfsY5UF9sgQKVO2lhJgAPBSBsYsOSmXQePHAiSYAIkOo9RHExqQ2hI0A2RMFcFziUFsiRFCuhp02bpiZTv/zyS7W9+txzzxWsVHjggQfk7LPPtkd9jzUhQB6FM5Atbbpw0AaHeNxxxx2yffv2uFJhiwEGGrxsYjOgvWeXBMizdL5nTBuAcGrOJZdckuNJNxhkwHwRTs2JqhEgeyKXNgDhPILOnTsrZS+99FJ18CF29GG4GuvQsM3BOSEHB3ngQI+oGgGyJ3JpAxC6bnPnzlWngWIpD1qarDZixAi13QBnF3z77bdSoEABeyLhoiYEyIVYhpOmDUDYe/PJJ5/IjBkz5M4774wr29GjR9VxujjT4LPPPlPbHqJoBMieqKUdQNOnT5e77747ocLFixdXXTrAhm3XUbREAL25ZLPrr/PPf/5T5UEL7tYaXlfObRbX6U08oK4rkSSDifqFMozdoEEDwcOAw98xhB2vC4djpNA64Utjj86ZZ57pp5aB+UoE0O1PvBZYHVDQ3IGJf6j8qoiJB9SvusGPifqFAtCLL76YsdW6XLly6hwCDCKccsopqsX517/+JW+//bagG3fNNdeoWxWiagTInsilDUCYQK1YsWKO55vhFBzAlOxEHXvCE78mBMieCKUNQJD0888/l9tuu02dtxbPTj75ZHnhhRfkwQcftCcCHmpCgDyIZihLWgEEjdASYV/QW2+9pVojLOXBOQRYyvPwww+rbl3UjQDZE8G0A8geac3VhACZ09atZwLkVjEL0hMgC4LwvypEFiBc6ovuGrplOCoXK7D//e9/ayv7/PPPa6e1LSEBsicikQUIh4J8//338u6770q9evXUIe+5fUs354GCB4sABa95yiWyBUpZQt8cRBYgdMFwrgGW7eDiX0ySYn2bruEUn6gaAbIncpEFyB4Jg68JAQpe80Qlpg1AmCBdtGiRmiTFO1E8w94gXEePa+eRNqpGgOyJXNoA5AwiYGMdLvyNZ1gHh+tJcPXI3r17fTnoPYxQEqAwVI9fZqQBwhkIb775pvpms2bNUrczYCkPFotmNcCD2+ucnai4qyeVK0bCDCEBClP9zGVHGqApU6YIbmXwYv/9739VaxRFI0D2RC3SAP3nP/9Rt2Rj/w/WvOlaq1at1Hq5qBoBsidykQbIkREX9mI4G90z3D+K6xTjWf78+dWWB3TzonyCKQEiQFDA15NJcWgiViKMHDlS2rdvb4/CBmpCgAyI6tFlWrRAbr57s2bNBF2/devWuclmVVoCZE840g6gY8eOycaNGwXdOvzdMcwB7dq1S50dhyOtsM0bR/5G0QiQPVFLK4CwiQ5X0H/99dc5KgyIonpLHQHKMbyBJUgbgNAtw03dhw8fzlG8Ro0aqXmjqBoBsidyaQMQBg7Gjh2rlC1VqpTqnq1cuVJdLX/eeeephaZHjhwRnE7aoUMHweEiUTUCZE/k0gYgHBYPYIYOHSrdu3dXm+0wbI3jrTA6h3ee5s2bqzQY7saauKgaAbIncmkD0OWXXy6ffvqpOpnnoosuUq0NDlfEIfOvvfbHgYP79u2TEiVKqB2sWAYUVSNA9kQubQC65ZZb1Hlv2CfUpUsXpTAAwvnXWCMHw0gclu9gJ+uOHTtUVy+KRoDsiVraAPTUU0/JgAEDlLJNmjSRmTNnqtZm9+7d8tBDDwmuNFmwYIGMHz9epUnHw+W5pTt4sNIGIAxdo+uGXaq33367Oicbk6Y4bD6r4TLiH374Qe0LiqKxBbInamkDECRdvHixWhNXq1YtdUoPVhtgcAEDCrHWo0cPGTJkiD1RcFkTAuRSMIPJ0wog6ITBA1wuXKZMGSXbxx9/LAMHDpRNmzZJsWLFBHNAmGzlMHbqTxVvZ0ij2xmwQQ57fE477TTBZVvpbFFtgY7tWu06LG3btlV5xo0b5zpvnhJVXOdxmyFtWqCrrrpKtTa44jHK5x3oBDCqAP38bDGdr+dbmvy99vjmK5GjtAEIXTNs765WrZosXbrUuHBhFkCA9NQnQHo6qVRbt25Vm+nw/vPqq69K06ZNXeSOVlICpBcvAqSnk0qFG+dWrVqllu2sXr1aKlWqpP7DNY7xdp/ybGwX4iZI6nYQgV04Pc1DueKRZ2OL2D6RSoAIkJ4ChlOxC6cnMLtwejqpVDNmzFBbtfPly6d1YAjPxnYhLrtwCcVKm1G41B+H6HhgC6QXK7ZAejrFTYU1cdu3b1crsC+55JIUPNmXlQDpxYQA6emUKRW2ag8fPlyWL18uOM63evXqsmTJEgUS1sXh2Kt4R/96KCq0LARIT3oCpKdTRips1R4zZkymXA5AOKXnrLPOkgIFCsiHH34o2IAXVSNAepEjQHo6qVQ4kQfbGGCApFy5cmppjwMQunMXX3yxWmyK609wNWRUjQDpRY4A6emkUmHrNkbiGjRooCZTcWwVbq5zAEIaLPG5/vrrVXrsBzr99NNdlGBPUgKkFwsCpKeTSoUjrbB1G9sW0Ppgy3ZWgJAOm+6w7AdD3lEdXCBAeg8GAdLTSaWqUqWKrFmzRh0Wcumll8YFCN03LO3BBVvc0u1C3ARJuZQnjfYDOdu3a9euLZMnT1Zbu2NboG+++UYdd/XKK68ItnRj7xDelaJobIH0osYWSE8nlQpbGbClAQZAcKAIVmbjPQeHLH711VcZp5Y6Zya4cG9VUgKkFw4CpKeTSoV5HgA0Z86cpLnQhcPKbbwLRdUIkF7kCJCeThmpcC523759BRcN4z0n1rBmqU6dOuqzKMOD70SA9B4MtwD9smKFnuOYVMOGD1P/171bd9d5T7322rh5QtnOEFsTnMKDPUHotmHgABOoGKWL6nUmWVUmQHrPqluAdt1zt55jn1KVmP7HiblZLXSAfPp+1rohQHqhIUBJdMLxvHjv8WpRvRuIXTj9iBOgJFoBAEDk1VKBz2uZfuVjC6SnJAEiQHEVIEAECAqkdEs3BgS+++47PSXjpMJEa1QtqgD9vuiPw/+DspNqPOmqKA4iuJIruomjCtDRrfMDFT1v2dquyiNAruSKbuKoAvTr5AaBin5Ky+ST6lkrQ4BE1NX2ONr3/fffV6uuS5YsmXETwzvvvCO33nproEE0UVhUAbL9WKtcDxC2KLRo0UJd9eiYsx8I7zy4DwgnluLk0rx585p4tgPxSYD0ZOYonJ5OKtWBAwfUdY779+/PlMsBCAtLL7jgAvVZv379BDfaRdUIkF7kCJCeTiqVc8UjVl9j2wK2b//1r3/N2JGKHaitWrVSq7Yxgrdr167I3hFEgPQeDAKkp5NKdcMNN8hHH32kbuTG9u54O1Kx2LRo0aJq+BtXQmLLQxSNAOlFjQDp6aRSVaxYUe1G3blzp5x33nkJt3SXLl1anReH3atRvYiLAOk9GARITyeVqkaNGuqO1Jdffll11eK1QLi9AWfCYRkPIHLeiVwUY0VSAqQXBgKkp5NK1bt3b+nfv7+ccsop8uCDD6o7Urt166YODunVq5dqcV566SV1Gg+6bujCRdUIkF7kCJCeTirV7t27pXz58tk20sVzMWLECOncubML73YlJUB68SBAejplpFqwYIEaQMCZcImsU6dO6njfKBsB0oseAdLTKVMqzAONHz9erUaI3ZGKY6/wboTzsaNuBEgvggRIT6dcl4oA6YWcAOnplCkVzkD417/+JTgfDpdtOYbDRGrVqhXZ00hjv2QigFr0e9ODYt6zTO3d0FVmroXLLJd1ZyJs3LhR6tevr4ao9+7dqyZNHcPBIphAxak9Tz7pbp+Iq6ckgMSJAFq1aXcApf9ZxFXli7sqjwBZDBDWwuFIX/wJw0psDGU7lj9/fsFpPbDp06fL3XcHewKLqycth8SJAFq4erufxeToq1aVC3NME5uAAFkMEFqWPn36qBreeOONCpLYY6y6dOkiEydOVMPcmBvCyu2oGt+B9CLHdyA9nVQqZyUCLtkaPXp03Jw4K+6qq65SKxEwb1SsWDEXJdiTlADpxYIA6emkUjlr4TCAULdu3YQ5sQoB8HAtnAtxEyRNt9sZcvWGOuz7WbZsmVrOk2iQAHuCcGMDWqDPP/88skf8sgXSg58tkJ5OKlXXrl0FS3RwM0PPnj3lzjvvVKuyTz75ZLXJ7oMPPpBnn31WjdDhTDlcdxLVXakESO/BIEB6OqlUuJkOO1JxM3dO9uijj8pzzz2XUzJrPydAeqEhQHo6ZaTCauuHH344KUS4I3XevHnqfISoGgHSixwB0tMpU6qVK1fKoEGDBAtLf/zxR/UZrjapUKGCPPDAA2oVNrp5qRhaucGDB6ubwXEzHkb+shogxdkLiaxt27bSsmVLT9UgQHqyESA9neKmwkOO9xycxlOkSBHfbuTGBC0efFzShcGIHj16ZBybFVsRDKVj5TeuVSlcuHC2Ot5///3qBCEvRoD0VCNAejplS4X7TwsWLJhpkODjjz+WSpUqqUEFr4YdrZhvwgVdaMlat26dECCMBmKTH0DDLlg/jQDpqUmA9HTKSPXTTz+pd6DXX39dnbqD9W+OYV0c3nv+8Y9/SM2aNV16/iP5rFmzZOnSpTJw4EA1j1S1atWEAGGgYsiQIYL1edjo56cRID01CZCeTirV77//LhggwDsQLOuZBzjuCoBhhTYgwP4gt4ZuoTP0jZYlGUBt2rRRW8j37Nnj+814BEgvcgRITyeVaty4cfLQQw+pvwMWnE6KE3gcu/zyyzNOLMW2BgwypGI5AYQTUGfOnCno9k2aNEk2b96sBjPQncOgQ+xKcbf1IEB6ihEgPZ1Uqttuu03efvtt1T3D4YkFChTIlhs7VTH6lSdPHjl48KCaUPVqOQGEC43nz5+vysIIIFZAYAAC81Vnn322AhjvZF6MAOmp5hag7/7+dz3HPqUq9L8f/KzuQrkjFQ/jZ599JnPnzlUwJTKs0N63b59qjbw+wPCdE0BYHQ5gACy6lo698MIL0rFjR7V2b926ddmq6cChEyO0crHWZfwqnWy+pRnR5ipXvs6dXt1V+lQT771nqSsXxVO4b8pVQf9LvDuHH/DYHlQ8/yldsJXVIVZZY6QNgwQYIo5n2A+EIeXffvtNbWfAtgavlhNAyfwCqCVLlsQdYCBAXiOSPZ9bgArOnuVf4Rqevm/UOGmqQAHCgSGTJ09W7xavvPKK2r6N7pNjW7ZsUefEoZuHoWyc3INNdl4tFYDat28vY8eOlYULF3oaEWQXTi9qbrtwuXo1Nt438N7hGN5vihcvnrGYFFsYHEPXB0PdqVgygHAuA7pvsHhD2A0bNpQ5c+Z47kYSIL3IESA9nTJSYakOunDJDC0UhrpLlSrl0nvm5MkA+vnnn9VmPQxkbNiwQc4444yMzNu2bVNbz88880x1jreXFeEESC90BEhPp4xUuJ1u+PDhggfMORvB+RBDyBhcwBKb888/36XnP5JPmTIlo2XB0cATJkxQc0FOywdQcLUKbMCAAerKFQxU4N/QGgImTMJiEGPatGlqHZ0XI0B6qhEgPZ2ypcKk6tq1a9VkKtbCYUXClVdemdLcCwqpV6+eWsmdyLKeuY2jtPCwY1WEY+XKlVMQNWrUyOO3E+UT9thjj2XycfsTr3n26SUjd6R6Ue3PPNYda6X7dTDOntMIh66vnNJhwSlaHGzqA8hoiVI1AqSnIFsgPZ20UmHUDQMHGKHDUh482FE1AqQXOQKkp1PCVLiRDjdzAxrs3cH/O0aAUhRXRNx24Y5unOu60GHDh6s83bt1c503b4XbXeXJ1cPYsUotX75cQYPrHrG1Iath/gcLS6NqUW2BvOiNwR9YED94uRogDA9jlCx2pCw2YJg8xXFXGPm644475LTTTvMSTyvyJAJowtufuK4fzsqDeVmd/kD9y12X5zYDAUqsWMpLedC6OO81ONIqq5100klqmwMs1aU7bgNvMn0igLyUGeQDanv9clULhLt/sDM09r0GAULLcvvtt8s999yjNtA5hyxG+U7UrA8eAfKCYs55chVAWCoDgGCYwLzlllukcePGarLUWeOGS4exBRtGgOI/QGyB/tQl1wKEOR1MTGKNW+z5AwQo519dApRLAcJkaOz1JY4MuLoe96SiC/f999+zBcqBIQKUSwHC116/fr0arp46dWqm5TKOJJj5x9FWMACHXaHpYHwHMhPFXNWFi5UQi0jff/99BRNOznEOVIxNg23U6OJhGBsH0Tu/vGZCYdYrATKjb64FKFZObCWYPXu22lyHDWvxzspRuEgVAAAeNUlEQVQuWbKkusE7qkaAzESOAGXRFUdKYdsAWiacgRBrQcxsmwlz4tXYXsrjO1Aufgdy88DgAA+ABKCwO5UA/aEeASJAbjgSvC/hSKnY7d+uHFiQmF04M0FgF86MrtZ5JUBmQkKAzOhqnVcCZCYkBMiMrtZ5JUBmQkKAzOhqnVcCZCYkBMiMrtZ5JUBmQkKAzOhqnVcCZCYkBMiMrtZ5JUBmQkKAzOhqnVcCZCYkBMiMrtZ5JUBmQkKAzOhqnVcCZCYkBMiMrtZ5JUBmQkKAzOhqnVcCZCYkBMiMrtZ5JUBmQkKAzOhqnVcCZCYkBMiMrtZ5JUBmQkKAzOhqnVcCZCYkBMiMrtZ5JUBmQkKAzOhqnVcCZCYkBMiMrtZ5JUBmQkKAzOhqnVcCZCYkBMiMrtZ5JUBmQkKAzOhqnVcCZCYke9u3c+3YObgzb968rvOeO2Zs3Dw4hhqW00XYKV+w5brGaZKBANkTSBPn6hEgw/ElQIYFduGeALkQy5akBMiWSJg52ZUtkOH4EiDDArtwzxbIhVi2JCVAtkSCLZA9kXBREwLkQizDSdkCGRbYhHsCZEJVbz4JkDfdQs1FgEKVP1PhBMieWGjXhABpS2U8IQEyLrH/BRAg/zX16pEAeVUuxHwEKETxsxRNgOyJhXZNCJC2VMYTEiDjEvtfAAHyX1OvHgmQV+VCzEeAQhSfXTh7xPdaEwLkVTn/87EF8l9T4x4JkHGJtQsgQNpS2ZOQANkTCwJkTyy0a+InQHfddZcq9/XXX9cuP8iEJh5QP+tvon7czuBnhOL48hMgw1VN2b2JBzTlSsU4MFE/AuRnhAiQUuD48eOGVfXmngB50y3UXGyBQpU/U+EEyJ5YaNeEAGlLZTwhATIusf8FECD/NfXqkQB5VS7EfAQoRPGzFE2A7ImFdk0IkLZUxhMSIOMS+18AAfJfU68eCZBX5ULMR4BCFJ9dOHvE91oTAuRVOf/zsQXyX1PjHgmQcYm1CyBA2lLZk5AA2RMLAmRPLLRrQoC0pTKekAAZl9j/AgiQ/5p69UiAvCoXYj4CFKL4HIWzR3yvNSFAXpXzPx9bIP81Ne6RABmXWLsAAqQtlT0JcxNAw4YNU8J3797dngDE1IQAWRmW5JXKTQDZHh4CZHuE4tSPANkTNAJkTyy0a0KAtKUynpAAGZfY/wIIkP+aevVIgLwqF2I+AhSi+JwHskd8rzUhQF6V8z8fWyD/NTXukQAZl1i7AAKkLZU9CQmQPbEgQPbEQrsmBEhbKuMJCZBxif0vgAD5r6lXjwTIq3Ih5iNAIYrPUTh7xPdaEwLkVTn/87EF8l9T4x4JkHGJtQsgQNpS2ZOQANkTCwJkTyy0a0KAtKUynpAAGZfY/wIIkP+aevVIgLwqF2I+AhSi+ByFs0d8rzUhQF6V8z8fWyD/NTXukQAZl1i7AAKkLZU9CQmQPbEgQPbEQrsmBEhbKuMJCZBxif0vgAD5r6lXjwTIq3Ih5iNAIYrPUTh7xPdaEwLkVTn/87EF8qDp0aNHZfDgwfLWW29Js2bNpEOHDnG9/PTTTzJw4EB54403ZPfu3VKkSBGpX7++9OnTR/3dqxEgr8r5n48AudR069at0rJlS1mxYoUcP35cevToIUOGDMnm5fDhw3LTTTfJ8uXLpVGjRlKlShXZsmWLTJ06VcqUKSMrV66UggULuiz9j+QEyJNsRjIRIBeyrlq1SmrUqCEXXXSRdO7cWVq3bp0QoDFjxqiWqX///vLkk09mlDJlyhS59957pVevXjJgwAAXpf+ZlAB5ks1IJgLkQtZZs2bJ0qVLVbdszZo1UrVq1YQAXXvttbJ+/Xo5cOCAnHrqqRmloNUqXbq0HDlyRHbu3OmidALkSSzDmQiQC4Hx7pM3b16VA124RAD9/vvvkj9/fqlWrZp88MEH2UpAC4SWaMeOHVKqVCkXNWAXzrVYhjMQII8CJwNo27ZtUrZsWfWuNGnSpGwl9O7dW3XtFi5cKDVr1nRdA3bhXEtmLAMB8ihtMoDWrl0rlStXVu9Ao0ePzlYCRvB69uwps2fPloYNG7quAQFyLZmxDATIo7TJAFq9erVceeWV0rFjRxk1alS2EoYOHSqPPPKIGt5u3Lhxps8dOHSq1bRpU51kTGNQAYyowtDr8NvwrpzMTjiON+qIWjKANm/eLOXLl1ejdBMmTMj2Dfv27avmgt577z2pXbs2AYroM4BqEyCPwUsG0C+//CKnn3661KpVS0GS1QDWxIkT1bwQ3pXcGrtwbhUzl55dOI/aJgMILi+77DI1TL1//3458cQTM5WC1ungwYOyb98+yZMnj+saECDXkhnLQIA8SpsTQJgrwmQpRuEwGucYWqS6desmfD/SqQ4B0lEpmDQEyIXOmLvBUh7Y119/rd5vMBdUp04d9W9nnHFGxmW4hw4dkiuuuEL27NkjTz/9tBpU2LBhg/p7vnz5BCN1xYoVc1H6n0kJkCfZjGQiQC5krVevnsybNy9hjhIlSiiwHMNEadu2bWXBggVq3RysevXqMn78eKlQoYKLkjMnJUCepfM9IwHyXdLsDr/55hvVEp1zzjlStGjRlEskQClL6JsDAuSblME5IkDBaZ1TSQQoJ4Us/JwA2RMUAmRPLLRrQoC0pTKekAAZl9j/AgiQ/5p69UiAvCoXYj4CFKL4WYomQPbEQrsmBEhbKuMJCZBxif0vgAD5r6lXjwTIq3Ih5iNAIYrPLpw94nutCQHyqpz/+dgC+a+pcY8EyLjE2gUQIG2p7ElIgOyJBQGyJxbaNSFA2lIZT0iAjEvsfwEEyH9NvXokQF6VCzEfAQpRfI7C2SO+15oQIK/K+Z+PLZD/mhr3SICMS6xdAAHSlsqehATInlgQIHtioV0TAqQtlfGEBMi4xP4XQID819SrRwLkVbkQ8xGgEMXnKJw94nutCQHyqpz/+dgC+a+pcY8EyLjE2gUQIG2p7ElIgOyJBQGyJxbaNSFA2lIZT0iAjEvsfwEEyH9NvXokQF6VCzEfAQpRfI7C2SO+15oQIK/K+Z+PLZD/mhr3SICMS6xdAAHSlsqehATInlgQIHtioV0TAqQtlfGEBMi4xP4XQID819SrRwLkVbkQ8xGgEMXnKJw94nutCQHyqpz/+dgC+a+pcY8EyLjE2gUQIG2p7ElIgOyJBQGyJxbaNSFA2lIZT0iAjEvsfwEOQP57pkdbFGjatKmULl06aXVOOO7c/W5LrSNSjy+++EJmzJgRkdqyml4UIEBeVAspj+1dQtYv/oPBFigkYLIWywc0tUCEpR8BSi1uvuUO6wHQ/QKsH1sg3WcllHR8QFOTPSz92AKlFjffcof1AOh+AdaPLZDusxJKOj6gqckeln5sgVKLm2+5w3oAdL8A68cWSPdZCSUdH9DUZA9LP7ZAqcXNt9xhPQC6X4D1Ywuk+6wwHRXQVoAtkLZUTEgFsitAgPhUUIEUFCBAKYjHrFSAAIX8DBw7dky2b98uBw8elCuuuEJOOumkkGsU/eKh5eTJk2XcuHGyceNGo1+IABmVN7Hzb7/9Vnr37i1Tp06V7777TiXcs2ePnHvuuSrweAieeOKJkGonMm/ePJkwYYJs27ZNfvvtt4T1WL9+fWh1zFrwhx9+qLSbOXOmqvPJJ5+ctO5+VJwA+aGiSx+//PKLXH311YKHr1y5clKsWDFZvHhxBkA9evSQYcOGydChQ6V79+4uvaeefOnSpXL99dcLtoqdeOKJctpppyV06sCfeqnePPz3v/9Vrc3f//532bRpk3Jy6aWXygMPPCD33nuvnHXWWd4ca+YiQJpC+Zls1KhR0qVLF5k0aZIK8oIFC6R27doZAKEsbObCg/z1119Lnjx5/Cw+R1+tW7dWmwXxS37zzTdL3rx5c8wTdIKPPvooo7X59ddfVfGAfcmSJXLNNdcEVh0CFJjUfxbUuHFj1bV4++231T/GAwgPyA033CA7d+6U8847L9BaApoiRYrIa6+9Fmi5ORXmtDax7zbVqlVTrc2WLVtk+PDh4sCUky+/PidAfinpwk+NGjXkL3/5i6AlSgQQuncVK1aUdevWqT+DtL/+9a9y+PBhef3114MsNmlZTz75pOrWApCiRYtKixYt5MEHH5QKFSqofP3791f/ESBrQmauIvfcc4/qmqG7kQggvMDjAdm/f7+cffbZ5ioTx/PChQulefPm8tlnn8k555wTaNmJCrvuuutk7dq1CpLOnTtn61YSICvCFEwlXnnlFWnZsqU89dRTaiQOo0ex70Dz58+Xu+++Wy666CJZuXJlMJXKUsrYsWPlxRdfVIMYl112mZx++ulx61G2bNlA6tepUycZM2aMYNgfw/333XefoKU888wz2QIFEgGLCjl69KjUqVNH3n//fSlUqJAahcN8xbXXXiu7d++Wr776Sk499VRZtGhRoC/EjkTdunWT559/XkuxIA91+vLLL9XAwT/+8Q/Zu3ev5MuXTxo1aqTegZYvXy4DBgxgF04rammQCIMIzz33nJprwYPhGIaM69atK3/729/UcGwYhhYS8OqM/r300kuBV/H333+XN998U9BKop4wZwIax40FOejCQYTAw5+9QEyaYmIVrQ4mUm0cNrZAprhV+Pzzz1VX8+WXX1YaQrt69epJmzZtpH79+mpo26QRIJPquvB95MgR48F2UZ0ck2LVBIbZ8QA7R+vmmMlgAoy+YdgdMK1YsUKVVLx4cdm1a5fBUkUIkFF5EzvH6NqQIUPk3Xffla1bt6q+O7pM6H5gbqNjx45SvXr1kGr3R7GYg8JwetalPHiHw1Kf8ePHy/fffy9nnHFGqPXMWvinn36qundYJnXo0CGjdSNARuWN73zfvn1y5ZVXqqFsdDkADR5CzL3gF/PHH39Uv+p4WcZoUxiGUa8XXnhBLedJZBid++STT8KonlaZgKdAgQJaab0mIkBelUshHxaJDho0SHr16iU9e/aUggULZnjDA4slPJiHwQMA2LAoMkjDConbbrtNDRdjQAOTufivXbt2qsuGZT4Y3sb3yJ8/f5BVU8udMPrmDF87hWMUDkuPDhw4oH6c8A6Ed0rTRoBMKxzHP15y8cKbbI7nrbfekttvv13+85//yCWXXBJoLTEsDIhRNlrIESNGqHV7a9asUfXYvHmzWiOHFhLzV0EZurxYkYC6YDLaMSwmRUsd21pWrlxZPvjgg4TzV37VmQD5paQLP5i7wC83+uiJbMOGDWoYG9sJcrpiw0XRWkkBxfnnn6+G2GF4n8CyI9TJMczH4KARvL8FMYiAdy788GB1NQC69dZbVVV++OEHKVmypIJn9OjRSit8juF1wIYVCiaNAJlUN4FvLHrE8ntMniZ6+PDr3rdvX7XZTmc+xs+vAcDRbXQWk06ZMkUwuYrukWMO4KjfBRdc4GfxcX01adJELbpFK1imTJmMNAAF3TXAjO6wY9iOsWPHDjUQYtIIkEl1E/jGYMGdd94pp5xyipowLV++fEZKZ5V2165dZeLEiVKrVq3Aa4glRmhxsCK8UqVKali4atWq6k9nq8B7772n3o+wBwd7mkzbhRdeKDfeeKOa74k16PjGG29kW7WO1ggDIVixgMWnpowAmVI2iV88nOgeYbEm1nZhpAgvxRgeRsAxJ4RFnBhcQNcktm+PB9d0lw4rI7BaHKOBH3/8sVoLhy4d6oqBBLROWJeGIWxMAgexDR0aYdACAy+xholnfIbtDLE2Z84cadiwodIY38WUESBTyibxiwcBAHnpmmEFdxALODHAgXcI1LNUqVJq7xI2+WE3LQwQ4T2oVatWgSiIH5NHH31ULcB1DCOCaP0wgIDWOtZmzZol6PZhTgitqCkjQKaUTUO/aB2x9gwjc1j4ilYpKAMomGCOBQWjg+jqYtAAq9tjDe+ZGGrH4lws1jVlBMiUsi79ovtm8xq4sJcaoZXBAlJ0yTDqhu4l5qmwch1zQ7HzQujyAnB0RQG9SSNAJtVN4hsDCXiPmD59uppvwQOBhY94WcZwLUaUglxVnLWqti01WrVqlYICoGANHrpmGOLHkidnZy++wzfffKPelTA6h9YJLZFJI0Am1U3gG8vxMdeCiT4MY5coUULtC8IIHIZdsS6ucOHCaqOdyRfgRF/d1qVG6L4BCsz9wNBtw+LR2BUH+BxdO7wn/vvf/1Y6mjQCZFLdBL4xFHv//ferk3mwIxUHeDgGuLAKoW3btmoiFcddBW02LzXCIAZaHmgW793mn//8p9qomFVXUxoSIFPKJvHbrFkzNcmH9VuJDJOX+IVFlyTrui/TVbZ9qZHp7+/GPwFyo5ZPaWvWrKm6ZiNHjkzoEb+y6IaEcSqP7UuNfAqDL24IkC8yunOCRaKY/Js2bVrCjM7sfxhr4WxcatSgQYOki2/xLol1cuj2PvTQQ4Kjw4IwAhSEylnKwAJHHICBORWMLGW1n3/+Wc2io/XBEG0QizVj62DjUiMcwrJs2bKk0YJuzqoNjGI6t+qZDDEBMqluAt9YlIkuHJbBYDQO+1cwWoRROKxuxqw/RsIwwoRf06DN9qVGifQA+Bi5xIoFbPTDFAGOBzNpBMikukl8YzUzDk6MN5CArggWmWLdWRgWhaVGyXTBgff4gcIoHeaPTBoBMqmuhm+0OPi1RNCxOhsLRdEiBb0LVaOqkUryzDPPqB8hbFzEHJspI0CmlE3iF315DE/fcccdIZTuT5E46P2xxx5TB4vYaOi+YbrA9I5eAhRC9PFCjH00WMdlu2HiMt6pPJiwxDUoNp7KA02xi7Z9+/bqnTJ2A57fehMgvxXV8NevXz/p06eP2sNiem+PRnXiJsHNDNh7g2H0RIZ3NQx2eNmW4bVeuvkwCY3v4HSNdfO5TUeA3CrmQ3psTMNcCwKMUSLs8sQNDPEexCD2/mT9Suj2YBMd3sPwJ94jsKoZt+oBeqyiwOporDvD57YZztrDqUKYCsBuVZNGgEyqm8C3rYe3O9XF9SGvvvqquk4EK8Jx0DyWFmF3KuZZ8HfMY+FBxerxIAw7TDEnlszQGq5evVrmzp2rFphicObiiy82Wj0CZFTe+M6xAQxbs3G+WU7dnzAOb8eZ0piXAigwHLCIOSnsxXEMu1WxOxYryoMw3A+Eo7Z0DN1inHgUb5JaJ7+bNATIjVq5JC0AQpfSOcADf2J1c+wJNzgdp0qVKuodKIhLuDCqhpNckxm2faPFwYk8Of0w+RVKAuSXkmnkB5vUsBoC52LjuhXnDtfY+1rRVcJ8FdKEdQ2LDZIToBCigBvodG6ew/AxRuyCNmchK95/AA9uOcDRUGhxsI4PgwvowqH7hmHsRLfXBV3vMMojQCGo7uya1Ck6yBvgYuuD9x4s6cHAAbpFGDSIPREHabNup9b5PumWhgCFEFEcxxRvEhUHi6CbhJd3nLWGoe4wtnQ7kmBrOc5pcC6pwuQpunY4/ATnEmAIPuiV4iGEK2mRBMi2iPyvPjg8HVee4Ow1mr0KECBLY4O9Qljyg60PJhdDOl8frV9O3UW0NjYfvRVGKAlQGKprlIll+Jj5D2qUS3eeBSvGcR4bNqxhpj+3GwGy8AnAyTwPP/ywun8Hm+6COFQEAGFuJ6fTRlEfrCSHYZIXdwnlZiNAIUR/8ODBCe8GAjwYYMBBi7iZAcPIQRgAgmF1QU6GJT7YioFBBqyRy83dOgKU09Ni4HPso8EwcTzDDDpaHByKMXDgQHXtfRDmBiDUB/XHMHZQ15sEoYGXMgiQF9XSMA+uSYRlPaQ90VfFBWHoZoZxapBN8hMgm6IRkbpgrgpn2+H8bOxMZRcuIoGLcjWdQ86xlUHHsFQGxzLhVgSbDNdOol7YqZr1WkWb6hlUXdgCBaR0oncMrDTApjlc3RFrjz/+uHpAc5qbCaj6GcXg/Q1bBVA/vAPldiNAAT0B6QLQoUOH1OLR3L6Ex3lsCBABCkiB9CyGAAUU13RpgQKSKzLFEKCAQkWAAhI64GIIUECCE6CAhA64GAIUkOAEKCChAy6GAAUkOAEKSOiAiyFAAQmuu10ga3VsmwcKSK7IFEOAAgoVdpjifAG3hrOdafYqQIDsjQ1rFgEFCFAEgsQq2qsAAbI3NqxZBBQgQBEIEqtorwIEyN7YsGYRUIAARSBIrKK9ChAge2PDmkVAAQIUgSCxivYqQIDsjQ1rFgEFCFAEgsQq2qsAAbI3NqxZBBQgQBEIUrIq/vzzz+oyYBwxhYWnuHoeZ1cXKFDA8zfDmr2bb75Z5a9YsaJ89NFHnn0h45133plxwioOJMEVkuliBCiikcSFv3369JG33npLDh8+nOlb4D4f3OyAI6hwDaNbc26oQz5cY4/brlOxevXqybx585SL2bNnp9Wh9AQolScjpLzTpk2T1q1bC66ATGYAafTo0fLQQw+5qimubVy+fLnKgzuKqlWr5ip/1sS4TxXXtMAqV64cyKXEKVXYRWYC5EIsG5Liqvebbrop48DFSy65RB599FHV0uCoqU8//VRweL3TauCsbdwqh1aA5r8CBMh/TY16xJ1BuDsIhpYBFxbnz58/U5lomfCesXDhQvXvF110kWzcuDHjCF5cXIwzrWHPP/+84DKvsWPHqhYNFwfjM+dyY1x38re//S2Tf0CKk1bRjcR9QbhWHvcFoaXBOw4M+58caIcOHarSwjp37qxaIdiMGTMU3DCcs41LjHFoPa6SxJHB5cuXl0ceecRTN9RoEGKcE6CglPahHDy4l19+eYanDRs2SIUKFeJ63r59uzrx9NixY+pzXJOC61JgaMEACgwnouIlH0cI44xr/JnsHQh+AGfW965y5crJLbfcooCEjRw5Ujp16qT+nugdCO9weE+DjRkzRt59912ZO3dupu+TL18+ef/991PuRvogf1wXBMiUsgb84n3GeSh1Xu6rV68uy5YtUzV5+umnMx7WunXrynvvvaf+Hb/6uKKkatWq6rxr3A+UCCDAVaZMmYwLkpEXN3njXat3796yZcsWdWeQA0S7du2SAoTrW3r16qXSVKpUSflt06aNoNuJlgh3JMFwkL3TmhqQNSWXBCgl+YLN7JyXjVKbN2+e8JIup1Zt27aV8ePHq/+97777ZOLEidke6IIFC8rKlSsFLYhjiQBC61O7dm2VDF23r7/+WooUKaL+/4svvlBdRafFQ5cQ3TJYohZo0KBBCkAY3t/QNQWUsNdff13dAg5DK4TheoBlmxEg2yKSpD5ofdAKwXC1Iq5YTGZdu3aVESNGqCR4GKdPn57tgYZPdLdiLRFAsS3GrbfemvH+4uS94YYbMuaM3AKEbiXexRxDaxj7bvftt98Gctmy28eBALlVLMT06Cb1799f1aBRo0Yya9aspLVp1aqVOBdndenSJeP9JLZFiHfPaSKAYoFE64ZLtmINl3O98sor6p/cAhTPH4bQcZg9DMPgmCS2zQiQbRFJUh/AAChgGB378ssvk9Ye7xXO6Bde7gERLBYgQAgYdVogjKCNGjVKJW3fvn22ayrRTZw0aZIngGIBd+pSqFAhwZwUAYrQQ2pzVXEzXKlSpTLuDHrnnXfUyFc8w3Kcq666Sn2E9wuMyiFvVoDirQxI1ALFjpo1btxY3njjjUxFY5QPI2ZeWiACZPOTl0Z1Q2vhXMaFVgjD0RdccEGmb4hr6HFJ8fr169W/AzLA5lhOS2sSAYTWqkmTJsoNBh92796d8Z6yb98+KVmypOCWcQKURg9cun2VHTt2qIlIvFTD8J6ApTrXXHONammwsHTcuHFqcSmscOHCsm7dOjnvvPNSBgjDyiVKlJAffvhB+cJ80DPPPKMmYDHhiVE0r6NwbIHS7Um1+Ptg2Llhw4ayd+/epLVElw2z/U5XLtUWCPlffPFFceZ3YgsHWDi++LXXXmMLZPGzw6r9T4GDBw8Klsi8+uqrglYp1jDZiRf6Dh06qBYoq3ntwjl+sFxnyJAh8vnnn6uhZbz7PPvss2rJjzPvhBE6jKzBdOaB2ALx0Q5NAbRE6LJhRQBaAryfhGFoFefMmaOKxkRo06ZNw6hGoGVyGDtQuaNd2NGjR+Wpp55Sw+cYQMAonLMSAfM1GERwhp2xILV06dLR/sIatSdAGiIxyZ8KYODAGdHDwlbMB2HkDV03ZwtFgwYNMkYK0107ApTuEfb5+6GrCIgSXdWC96GZM2dauezGZymUOwJkQtU094mzFzBhunjxYtWVw9A15qRwjgL2BuUmI0C5Kdr8rr4rQIB8l5QOc5MCBCg3RZvf1XcFCJDvktJhblKAAOWmaPO7+q4AAfJdUjrMTQoQoNwUbX5X3xUgQL5LSoe5SQEClJuize/quwIEyHdJ6TA3KfD/tU+hjLEstqkAAAAASUVORK5CYII=\"}",
       "_model_module": "jupyter-vega",
       "_model_module_version": "^3.6.0",
       "_opt_source": "null",
       "_spec_source": "{\"$schema\": \"https://vega.github.io/schema/vega-lite/v5.json\", \"description\": \"A vertical box plot showing median and lower and upper quartiles of the distribution of body mass of penguins.\", \"data\": {\"name\": \"data\"}, \"mark\": \"boxplot\", \"encoding\": {\"x\": {\"field\": \"Origin\", \"type\": \"nominal\", \"sort\": \"-y\"}, \"color\": {\"field\": \"Origin\", \"type\": \"nominal\", \"legend\": null}, \"y\": {\"field\": \"Acceleration\", \"type\": \"quantitative\", \"scale\": {\"zero\": false}}}}",
       "_view_module": "jupyter-vega",
       "_view_module_version": "^3.6.0",
       "layout": "IPY_MODEL_8b243782c8944573a324f8e708e519ba"
      }
     },
     "208ed04e2e3b467f982e1d5540cce582": {
      "model_module": "@jupyter-widgets/base",
      "model_module_version": "1.2.0",
      "model_name": "LayoutModel",
      "state": {}
     },
     "20bf41340ecd49c296145c059eabf38e": {
      "model_module": "@jupyter-widgets/base",
      "model_module_version": "1.2.0",
      "model_name": "LayoutModel",
      "state": {}
     },
     "21cbcbe1007e42338fe437e41c91ff98": {
      "model_module": "@jupyter-widgets/controls",
      "model_module_version": "1.5.0",
      "model_name": "ButtonModel",
      "state": {
       "description": "Add new data point",
       "layout": "IPY_MODEL_224b2c34b6784e48b8cabb25b35a666c",
       "style": "IPY_MODEL_5f3a2b15f29543048323a71da8678ccc"
      }
     },
     "224b2c34b6784e48b8cabb25b35a666c": {
      "model_module": "@jupyter-widgets/base",
      "model_module_version": "1.2.0",
      "model_name": "LayoutModel",
      "state": {}
     },
     "25a0b3e846094e47ad5a92bca1310718": {
      "model_module": "@jupyter-widgets/base",
      "model_module_version": "1.2.0",
      "model_name": "LayoutModel",
      "state": {}
     },
     "25cddcc33ca8407ba6a70d63ac84dcda": {
      "model_module": "@jupyter-widgets/base",
      "model_module_version": "1.2.0",
      "model_name": "LayoutModel",
      "state": {}
     },
     "26b87d9a28b742c9b204967b3295965d": {
      "model_module": "jupyter-vega",
      "model_module_version": "^3.6.0",
      "model_name": "VegaWidgetModel",
      "state": {
       "_df": null,
       "_img_url": "null",
       "_model_module": "jupyter-vega",
       "_model_module_version": "^3.6.0",
       "_opt_source": "null",
       "_spec_source": "{\"$schema\": \"https://vega.github.io/schema/vega-lite/v4.json\", \"mark\": \"point\", \"data\": {\"name\": \"data\"}, \"encoding\": {\"x\": {\"type\": \"quantitative\", \"field\": \"x\"}, \"y\": {\"type\": \"quantitative\", \"field\": \"y\"}}}",
       "_view_module": "jupyter-vega",
       "_view_module_version": "^3.6.0",
       "layout": "IPY_MODEL_129623fc98084c209f54a94cf624c6a6"
      }
     },
     "276c93c1165f4ee28748f9475ce7cea4": {
      "model_module": "@jupyter-widgets/base",
      "model_module_version": "1.2.0",
      "model_name": "LayoutModel",
      "state": {}
     },
     "27c1b42d13f44b26875c31f3d183b0ad": {
      "model_module": "@jupyter-widgets/controls",
      "model_module_version": "1.5.0",
      "model_name": "ButtonModel",
      "state": {
       "description": "Add new data point",
       "layout": "IPY_MODEL_7bbcb034a1f545088b09a1374f77eaf4",
       "style": "IPY_MODEL_cef95200890e4331a784792b8286ea34"
      }
     },
     "2b28c891683f4b38b996f92e68ba3405": {
      "model_module": "jupyter-vega",
      "model_module_version": "^3.6.0",
      "model_name": "VegaWidgetModel",
      "state": {
       "_df": null,
       "_img_url": "null",
       "_model_module": "jupyter-vega",
       "_model_module_version": "^3.6.0",
       "_opt_source": "null",
       "_spec_source": "{\"$schema\": \"https://vega.github.io/schema/vega-lite/v5.json\", \"description\": \"A vertical box plot showing median and lower and upper quartiles of the distribution of body mass of penguins.\", \"data\": {\"name\": \"data\"}, \"mark\": \"boxplot\", \"encoding\": {\"x\": {\"field\": \"Origin\", \"type\": \"nominal\", \"sort\": \"-y\"}, \"color\": {\"field\": \"Origin\", \"type\": \"nominal\", \"legend\": null}, \"y\": {\"field\": \"Acceleration\", \"type\": \"quantitative\", \"scale\": {\"zero\": false}}}}",
       "_view_module": "jupyter-vega",
       "_view_module_version": "^3.6.0",
       "layout": "IPY_MODEL_475b47c92dcf4ec483b1884bfc9f5d30"
      }
     },
     "2bea52cacae3492eaea7b60427dcaef1": {
      "model_module": "@jupyter-widgets/base",
      "model_module_version": "1.2.0",
      "model_name": "LayoutModel",
      "state": {}
     },
     "2c1c0bfa215b41b68b2da925badfc3ca": {
      "model_module": "@jupyter-widgets/controls",
      "model_module_version": "1.5.0",
      "model_name": "VBoxModel",
      "state": {
       "children": [
        "IPY_MODEL_41941e77ce224bb8827ec6da9f78042b",
        "IPY_MODEL_c72255aa629442c4bb13dad4c00b6571",
        "IPY_MODEL_4acec16aa8fe45ea96190de6e72862b9"
       ],
       "layout": "IPY_MODEL_b19ee555a1d64625b6fb49bd76720fd9"
      }
     },
     "2d0a0164c95346a4adf29b5a08cbb4d2": {
      "model_module": "jupyter-vega",
      "model_module_version": "^3.6.0",
      "model_name": "VegaWidgetModel",
      "state": {
       "_df": null,
       "_img_url": "null",
       "_model_module": "jupyter-vega",
       "_model_module_version": "^3.6.0",
       "_opt_source": "null",
       "_spec_source": "{\"$schema\": \"https://vega.github.io/schema/vega-lite/v4.json\", \"mark\": \"point\", \"data\": {\"name\": \"data\"}, \"encoding\": {\"x\": {\"type\": \"quantitative\", \"field\": \"x\"}, \"y\": {\"type\": \"quantitative\", \"field\": \"y\"}}}",
       "_view_module": "jupyter-vega",
       "_view_module_version": "^3.6.0",
       "layout": "IPY_MODEL_d176c8df1b4b4a27b1fb944ad52d889d"
      }
     },
     "2da67cef501b467c90bc2e8fa744e5c0": {
      "model_module": "@jupyter-widgets/base",
      "model_module_version": "1.2.0",
      "model_name": "LayoutModel",
      "state": {}
     },
     "2df5d7a613c24f1b93e0fad511f1c605": {
      "model_module": "@jupyter-widgets/base",
      "model_module_version": "1.2.0",
      "model_name": "LayoutModel",
      "state": {}
     },
     "2ee8be64a8f249a8996648fae54621d5": {
      "model_module": "jupyter-vega",
      "model_module_version": "^3.6.0",
      "model_name": "VegaWidgetModel",
      "state": {
       "_df": null,
       "_img_url": "null",
       "_model_module": "jupyter-vega",
       "_model_module_version": "^3.6.0",
       "_opt_source": "{\"theme\": \"dark\"}",
       "_spec_source": "{\"$schema\": \"https://vega.github.io/schema/vega-lite/v4.json\", \"mark\": \"line\", \"data\": {\"name\": \"data\"}, \"encoding\": {\"x\": {\"type\": \"quantitative\", \"field\": \"x\"}, \"y\": {\"type\": \"quantitative\", \"field\": \"y\"}}}",
       "_view_module": "jupyter-vega",
       "_view_module_version": "^3.6.0",
       "layout": "IPY_MODEL_3cc77d33fdb04aaeaa51ced533c4168a"
      }
     },
     "31f27aa1892640c29e351fddbfa6ba5b": {
      "model_module": "@jupyter-widgets/controls",
      "model_module_version": "1.5.0",
      "model_name": "VBoxModel",
      "state": {
       "children": [
        "IPY_MODEL_e347415012c640109b7e923179dda932",
        "IPY_MODEL_7950835d2d9941b191414f059cd4b01f",
        "IPY_MODEL_110e29a5d24d4668a6e7332fbd02a3d8"
       ],
       "layout": "IPY_MODEL_47e26debba774c78b1ed870b2a6ed5ce"
      }
     },
     "3254908d3e514f70902e077c668b11bb": {
      "model_module": "@jupyter-widgets/controls",
      "model_module_version": "1.5.0",
      "model_name": "ButtonStyleModel",
      "state": {}
     },
     "364c6d5053c1435eb5c7df45e4b57cda": {
      "model_module": "jupyter-vega",
      "model_module_version": "^3.6.0",
      "model_name": "VegaWidgetModel",
      "state": {
       "_df": null,
       "_img_url": "null",
       "_model_module": "jupyter-vega",
       "_model_module_version": "^3.6.0",
       "_opt_source": "null",
       "_spec_source": "{\"$schema\": \"https://vega.github.io/schema/vega-lite/v5.json\", \"description\": \"A vertical box plot showing median and lower and upper quartiles of the distribution of body mass of penguins.\", \"data\": {\"name\": \"data\"}, \"mark\": \"boxplot\", \"encoding\": {\"x\": {\"field\": \"Origin\", \"type\": \"nominal\", \"sort\": \"-y\"}, \"color\": {\"field\": \"Origin\", \"type\": \"nominal\", \"legend\": null}, \"y\": {\"field\": \"Acceleration\", \"type\": \"quantitative\", \"scale\": {\"zero\": false}}}}",
       "_view_module": "jupyter-vega",
       "_view_module_version": "^3.6.0",
       "layout": "IPY_MODEL_531a19c3eb924cc1b0ba7d1287132f0d"
      }
     },
     "36e7cd0019d94b728c999098aade1ded": {
      "model_module": "@jupyter-widgets/controls",
      "model_module_version": "1.5.0",
      "model_name": "VBoxModel",
      "state": {
       "children": [
        "IPY_MODEL_899c54945ea74167a52c5e53f456e3b0",
        "IPY_MODEL_cdf6f2c8aa4344ef9f8fbae3d3162764",
        "IPY_MODEL_ec27609f046b47e9a3b00cb60d912f28"
       ],
       "layout": "IPY_MODEL_98367bc6b8da4cb39e6469d8482e2006"
      }
     },
     "37cec19bb9b74c82bf4ab85d4eda6d4f": {
      "model_module": "jupyter-vega",
      "model_module_version": "^3.6.0",
      "model_name": "VegaWidgetModel",
      "state": {
       "_df": null,
       "_img_url": "null",
       "_model_module": "jupyter-vega",
       "_model_module_version": "^3.6.0",
       "_opt_source": "null",
       "_spec_source": "{\"$schema\": \"https://vega.github.io/schema/vega-lite/v5.json\", \"description\": \"A vertical box plot showing median and lower and upper quartiles of the distribution of body mass of penguins.\", \"data\": {\"name\": \"data\"}, \"mark\": \"boxplot\", \"encoding\": {\"x\": {\"field\": \"Origin\", \"type\": \"nominal\", \"sort\": \"-y\"}, \"color\": {\"field\": \"Origin\", \"type\": \"nominal\", \"legend\": null}, \"y\": {\"field\": \"Acceleration\", \"type\": \"quantitative\", \"scale\": {\"zero\": false}}}}",
       "_view_module": "jupyter-vega",
       "_view_module_version": "^3.6.0",
       "layout": "IPY_MODEL_8836901d9fc140d3b4d2d242cd7a33b3"
      }
     },
     "3947b1dd99c74629888583d70393ecaa": {
      "model_module": "jupyter-vega",
      "model_module_version": "^3.6.0",
      "model_name": "VegaWidgetModel",
      "state": {
       "_df": null,
       "_img_url": "{\"width\":\"253px\",\"height\":\"242px\",\"url\":\"data:image/png;base64,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\"}",
       "_model_module": "jupyter-vega",
       "_model_module_version": "^3.6.0",
       "_opt_source": "{\"theme\": \"dark\"}",
       "_spec_source": "{\"$schema\": \"https://vega.github.io/schema/vega-lite/v4.json\", \"mark\": \"line\", \"data\": {\"name\": \"data\"}, \"encoding\": {\"x\": {\"type\": \"quantitative\", \"field\": \"x\"}, \"y\": {\"type\": \"quantitative\", \"field\": \"y\"}}}",
       "_view_module": "jupyter-vega",
       "_view_module_version": "^3.6.0",
       "layout": "IPY_MODEL_bb29bc7cc8e143fd8e4facebc536aaba"
      }
     },
     "395d2d32643242fab664852361b598d0": {
      "model_module": "@jupyter-widgets/controls",
      "model_module_version": "1.5.0",
      "model_name": "DescriptionStyleModel",
      "state": {
       "description_width": ""
      }
     },
     "39e63434114a4fea9495962fc3ede5ef": {
      "model_module": "@jupyter-widgets/base",
      "model_module_version": "1.2.0",
      "model_name": "LayoutModel",
      "state": {}
     },
     "3ae097c1115d4d6798e35e2e1a01dd31": {
      "model_module": "@jupyter-widgets/controls",
      "model_module_version": "1.5.0",
      "model_name": "ButtonStyleModel",
      "state": {}
     },
     "3b401a1727124ddd97051c9b6aec4037": {
      "model_module": "@jupyter-widgets/base",
      "model_module_version": "1.2.0",
      "model_name": "LayoutModel",
      "state": {}
     },
     "3c5695f2a3c141f18cfe8ca9058feb29": {
      "model_module": "@jupyter-widgets/base",
      "model_module_version": "1.2.0",
      "model_name": "LayoutModel",
      "state": {}
     },
     "3cc77d33fdb04aaeaa51ced533c4168a": {
      "model_module": "@jupyter-widgets/base",
      "model_module_version": "1.2.0",
      "model_name": "LayoutModel",
      "state": {}
     },
     "3d6bdaec89e24e789c1acf8e75fb0ccb": {
      "model_module": "@jupyter-widgets/controls",
      "model_module_version": "1.5.0",
      "model_name": "LabelModel",
      "state": {
       "layout": "IPY_MODEL_99ae044524ff4101ac55f055d3bad5c1",
       "style": "IPY_MODEL_939cfd38cb1342328719bb9dfc92ff49",
       "value": "Vega plot embedded in another widget"
      }
     },
     "3daa4459651244258d7848675138de9a": {
      "model_module": "jupyter-vega",
      "model_module_version": "^3.6.0",
      "model_name": "VegaWidgetModel",
      "state": {
       "_df": null,
       "_img_url": "null",
       "_model_module": "jupyter-vega",
       "_model_module_version": "^3.6.0",
       "_opt_source": "null",
       "_spec_source": "{\"$schema\": \"https://vega.github.io/schema/vega-lite/v5.json\", \"description\": \"A vertical box plot showing median and lower and upper quartiles of the distribution of body mass of penguins.\", \"data\": {\"name\": \"data\"}, \"mark\": \"boxplot\", \"encoding\": {\"x\": {\"field\": \"Origin\", \"type\": \"nominal\", \"sort\": \"-y\"}, \"color\": {\"field\": \"Origin\", \"type\": \"nominal\", \"legend\": null}, \"y\": {\"field\": \"Acceleration\", \"type\": \"quantitative\", \"scale\": {\"zero\": false}}}}",
       "_view_module": "jupyter-vega",
       "_view_module_version": "^3.6.0",
       "layout": "IPY_MODEL_61e8d4ef53b74b0b99d9406f1d0fe5cd"
      }
     },
     "3db41142aba24671b12f9f910b6cc2fd": {
      "model_module": "@jupyter-widgets/controls",
      "model_module_version": "1.5.0",
      "model_name": "DescriptionStyleModel",
      "state": {
       "description_width": ""
      }
     },
     "41941e77ce224bb8827ec6da9f78042b": {
      "model_module": "@jupyter-widgets/controls",
      "model_module_version": "1.5.0",
      "model_name": "LabelModel",
      "state": {
       "layout": "IPY_MODEL_f0744743dd3c4bd4ad22924bf786d29f",
       "style": "IPY_MODEL_7db63288327a483ab540df930c897314",
       "value": "Vega plot embedded in another widget"
      }
     },
     "43e6fafb616948f1bd2f8cc9c5501f84": {
      "model_module": "@jupyter-widgets/base",
      "model_module_version": "1.2.0",
      "model_name": "LayoutModel",
      "state": {}
     },
     "45026cc6b5aa47b5bb4fd748d78207d5": {
      "model_module": "@jupyter-widgets/base",
      "model_module_version": "1.2.0",
      "model_name": "LayoutModel",
      "state": {}
     },
     "453e04b253704e58bdb0b767649d802e": {
      "model_module": "@jupyter-widgets/controls",
      "model_module_version": "1.5.0",
      "model_name": "VBoxModel",
      "state": {
       "children": [
        "IPY_MODEL_733083ab13114133bab972f4ef148f05",
        "IPY_MODEL_78ca7137eae241a08e1e4adcdaf14e07",
        "IPY_MODEL_48a9b585bbe94fba9a538b2a203effc7"
       ],
       "layout": "IPY_MODEL_2da67cef501b467c90bc2e8fa744e5c0"
      }
     },
     "475b47c92dcf4ec483b1884bfc9f5d30": {
      "model_module": "@jupyter-widgets/base",
      "model_module_version": "1.2.0",
      "model_name": "LayoutModel",
      "state": {}
     },
     "47a28a92b48445a8b31d8fe68d475510": {
      "model_module": "@jupyter-widgets/base",
      "model_module_version": "1.2.0",
      "model_name": "LayoutModel",
      "state": {}
     },
     "47ac35916ac34d4fbc1b5726b981339b": {
      "model_module": "@jupyter-widgets/base",
      "model_module_version": "1.2.0",
      "model_name": "LayoutModel",
      "state": {}
     },
     "47e26debba774c78b1ed870b2a6ed5ce": {
      "model_module": "@jupyter-widgets/base",
      "model_module_version": "1.2.0",
      "model_name": "LayoutModel",
      "state": {}
     },
     "4810124b8793411dad8d016fe2fe3a0f": {
      "model_module": "@jupyter-widgets/base",
      "model_module_version": "1.2.0",
      "model_name": "LayoutModel",
      "state": {}
     },
     "489f7a525cb34641b75bad34685d17cd": {
      "model_module": "@jupyter-widgets/base",
      "model_module_version": "1.2.0",
      "model_name": "LayoutModel",
      "state": {}
     },
     "48a9b585bbe94fba9a538b2a203effc7": {
      "model_module": "@jupyter-widgets/controls",
      "model_module_version": "1.5.0",
      "model_name": "ButtonModel",
      "state": {
       "description": "Add new data point",
       "layout": "IPY_MODEL_75b066cd99b6475e9e49242bd87abf89",
       "style": "IPY_MODEL_e407452a1b3c42719e1ff0c48c564596"
      }
     },
     "4a30b307e29147f6970a7177c35de0d3": {
      "model_module": "jupyter-vega",
      "model_module_version": "^3.6.0",
      "model_name": "VegaWidgetModel",
      "state": {
       "_df": null,
       "_img_url": "null",
       "_model_module": "jupyter-vega",
       "_model_module_version": "^3.6.0",
       "_opt_source": "{\"theme\": \"dark\"}",
       "_spec_source": "{\"$schema\": \"https://vega.github.io/schema/vega-lite/v4.json\", \"mark\": \"line\", \"data\": {\"name\": \"data\"}, \"encoding\": {\"x\": {\"type\": \"quantitative\", \"field\": \"x\"}, \"y\": {\"type\": \"quantitative\", \"field\": \"y\"}}}",
       "_view_module": "jupyter-vega",
       "_view_module_version": "^3.6.0",
       "layout": "IPY_MODEL_6caea500c9e74445a4e3b939910b95c0"
      }
     },
     "4acec16aa8fe45ea96190de6e72862b9": {
      "model_module": "@jupyter-widgets/controls",
      "model_module_version": "1.5.0",
      "model_name": "ButtonModel",
      "state": {
       "description": "Add new data point",
       "layout": "IPY_MODEL_e4664fc0eac345e4b8083ca9a238f036",
       "style": "IPY_MODEL_afb29968e5874aa5a3d107d059537b03"
      }
     },
     "4fe90839b3e14fceaea5307d059f8b6e": {
      "model_module": "@jupyter-widgets/controls",
      "model_module_version": "1.5.0",
      "model_name": "ButtonModel",
      "state": {
       "description": "Add new data point",
       "layout": "IPY_MODEL_6d6d6ae392f244c3babd1b7e135a46e5",
       "style": "IPY_MODEL_3254908d3e514f70902e077c668b11bb"
      }
     },
     "4ffc2b5346b7421fab80f9268f185f29": {
      "model_module": "@jupyter-widgets/base",
      "model_module_version": "1.2.0",
      "model_name": "LayoutModel",
      "state": {}
     },
     "51cfd16c89fa42d48a0d081c5c639f88": {
      "model_module": "jupyter-vega",
      "model_module_version": "^3.6.0",
      "model_name": "VegaWidgetModel",
      "state": {
       "_df": null,
       "_img_url": "null",
       "_model_module": "jupyter-vega",
       "_model_module_version": "^3.6.0",
       "_opt_source": "null",
       "_spec_source": "{\"$schema\": \"https://vega.github.io/schema/vega-lite/v4.json\", \"mark\": \"point\", \"data\": {\"name\": \"data\", \"values\": [{\"x\": -0.14409032957792836, \"y\": -0.1729036003315193, \"t\": 0}, {\"x\": -0.11131586156766246, \"y\": 0.7019837250988631, \"t\": 1}, {\"x\": -0.12758828378288709, \"y\": -1.4973534143409575, \"t\": 2}, {\"x\": 0.33231834406771527, \"y\": -0.2673374784971682, \"t\": 3}, {\"x\": -0.216958684145195, \"y\": 0.11588478670085507, \"t\": 4}]}, \"encoding\": {\"x\": {\"type\": \"quantitative\", \"field\": \"x\"}, \"y\": {\"type\": \"quantitative\", \"field\": \"y\"}}}",
       "_view_module": "jupyter-vega",
       "_view_module_version": "^3.6.0",
       "layout": "IPY_MODEL_c89b8adbcf0649ec867983243e3e3fe0"
      }
     },
     "51e2093ca10b4d338662179d379dc9cc": {
      "model_module": "jupyter-vega",
      "model_module_version": "^3.6.0",
      "model_name": "VegaWidgetModel",
      "state": {
       "_df": null,
       "_img_url": "null",
       "_model_module": "jupyter-vega",
       "_model_module_version": "^3.6.0",
       "_opt_source": "{\"theme\": \"dark\"}",
       "_spec_source": "{\"$schema\": \"https://vega.github.io/schema/vega-lite/v4.json\", \"mark\": \"line\", \"data\": {\"name\": \"data\"}, \"encoding\": {\"x\": {\"type\": \"quantitative\", \"field\": \"x\"}, \"y\": {\"type\": \"quantitative\", \"field\": \"y\"}}}",
       "_view_module": "jupyter-vega",
       "_view_module_version": "^3.6.0",
       "layout": "IPY_MODEL_6f0c1f7750364a5b869b8f6b24c917d2"
      }
     },
     "5234c6a3c1b54ed6aeb1530cf38260e8": {
      "model_module": "@jupyter-widgets/controls",
      "model_module_version": "1.5.0",
      "model_name": "ButtonStyleModel",
      "state": {}
     },
     "531a19c3eb924cc1b0ba7d1287132f0d": {
      "model_module": "@jupyter-widgets/base",
      "model_module_version": "1.2.0",
      "model_name": "LayoutModel",
      "state": {}
     },
     "53e64c88aa0749319963fdc0ab386a94": {
      "model_module": "@jupyter-widgets/base",
      "model_module_version": "1.2.0",
      "model_name": "LayoutModel",
      "state": {}
     },
     "54dceed7080b4c23b6392eacec80556b": {
      "model_module": "jupyter-vega",
      "model_module_version": "^3.6.0",
      "model_name": "VegaWidgetModel",
      "state": {
       "_df": null,
       "_img_url": "{\"width\":\"243px\",\"height\":\"243px\",\"url\":\"data:image/png;base64,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\"}",
       "_model_module": "jupyter-vega",
       "_model_module_version": "^3.6.0",
       "_opt_source": "null",
       "_spec_source": "{\"$schema\": \"https://vega.github.io/schema/vega-lite/v4.json\", \"mark\": \"point\", \"data\": {\"name\": \"data\"}, \"encoding\": {\"x\": {\"type\": \"quantitative\", \"field\": \"x\"}, \"y\": {\"type\": \"quantitative\", \"field\": \"y\"}}}",
       "_view_module": "jupyter-vega",
       "_view_module_version": "^3.6.0",
       "layout": "IPY_MODEL_cc1a4cb49e7f42b184674f3915e63091"
      }
     },
     "55f9063ccf284d55beba80c16141e8e1": {
      "model_module": "jupyter-vega",
      "model_module_version": "^3.6.0",
      "model_name": "VegaWidgetModel",
      "state": {
       "_df": null,
       "_img_url": "null",
       "_model_module": "jupyter-vega",
       "_model_module_version": "^3.6.0",
       "_opt_source": "null",
       "_spec_source": "{\"$schema\": \"https://vega.github.io/schema/vega-lite/v4.json\", \"mark\": \"point\", \"data\": {\"name\": \"data\", \"values\": [{\"x\": -0.14409032957792836, \"y\": -0.1729036003315193, \"t\": 0}, {\"x\": -0.11131586156766246, \"y\": 0.7019837250988631, \"t\": 1}, {\"x\": -0.12758828378288709, \"y\": -1.4973534143409575, \"t\": 2}, {\"x\": 0.33231834406771527, \"y\": -0.2673374784971682, \"t\": 3}, {\"x\": -0.216958684145195, \"y\": 0.11588478670085507, \"t\": 4}]}, \"encoding\": {\"x\": {\"type\": \"quantitative\", \"field\": \"x\"}, \"y\": {\"type\": \"quantitative\", \"field\": \"y\"}}}",
       "_view_module": "jupyter-vega",
       "_view_module_version": "^3.6.0",
       "layout": "IPY_MODEL_47a28a92b48445a8b31d8fe68d475510"
      }
     },
     "5acd0ff1be7f4c729f87404b5faa881c": {
      "model_module": "@jupyter-widgets/base",
      "model_module_version": "1.2.0",
      "model_name": "LayoutModel",
      "state": {}
     },
     "5c65509b144c43c5a73384da81779dd4": {
      "model_module": "jupyter-vega",
      "model_module_version": "^3.6.0",
      "model_name": "VegaWidgetModel",
      "state": {
       "_df": null,
       "_img_url": "null",
       "_model_module": "jupyter-vega",
       "_model_module_version": "^3.6.0",
       "_opt_source": "{\"theme\": \"dark\"}",
       "_spec_source": "{\"$schema\": \"https://vega.github.io/schema/vega-lite/v4.json\", \"mark\": \"line\", \"data\": {\"name\": \"data\"}, \"encoding\": {\"x\": {\"type\": \"quantitative\", \"field\": \"x\"}, \"y\": {\"type\": \"quantitative\", \"field\": \"y\"}}}",
       "_view_module": "jupyter-vega",
       "_view_module_version": "^3.6.0",
       "layout": "IPY_MODEL_99c4375ba99d48c98001fab9a9b3dc19"
      }
     },
     "5f3a2b15f29543048323a71da8678ccc": {
      "model_module": "@jupyter-widgets/controls",
      "model_module_version": "1.5.0",
      "model_name": "ButtonStyleModel",
      "state": {}
     },
     "5f685fe6bf8849548f17b57a63b68bed": {
      "model_module": "@jupyter-widgets/controls",
      "model_module_version": "1.5.0",
      "model_name": "ButtonModel",
      "state": {
       "description": "Add new data point",
       "layout": "IPY_MODEL_489f7a525cb34641b75bad34685d17cd",
       "style": "IPY_MODEL_3ae097c1115d4d6798e35e2e1a01dd31"
      }
     },
     "619d52f04a394444ba6d60ea32c66cf8": {
      "model_module": "jupyter-vega",
      "model_module_version": "^3.6.0",
      "model_name": "VegaWidgetModel",
      "state": {
       "_df": null,
       "_img_url": "null",
       "_model_module": "jupyter-vega",
       "_model_module_version": "^3.6.0",
       "_opt_source": "null",
       "_spec_source": "{\"$schema\": \"https://vega.github.io/schema/vega-lite/v4.json\", \"mark\": \"point\", \"data\": {\"name\": \"data\", \"values\": [{\"x\": -0.14409032957792836, \"y\": -0.1729036003315193, \"t\": 0}, {\"x\": -0.11131586156766246, \"y\": 0.7019837250988631, \"t\": 1}, {\"x\": -0.12758828378288709, \"y\": -1.4973534143409575, \"t\": 2}, {\"x\": 0.33231834406771527, \"y\": -0.2673374784971682, \"t\": 3}, {\"x\": -0.216958684145195, \"y\": 0.11588478670085507, \"t\": 4}]}, \"encoding\": {\"x\": {\"type\": \"quantitative\", \"field\": \"x\"}, \"y\": {\"type\": \"quantitative\", \"field\": \"y\"}}}",
       "_view_module": "jupyter-vega",
       "_view_module_version": "^3.6.0",
       "layout": "IPY_MODEL_25cddcc33ca8407ba6a70d63ac84dcda"
      }
     },
     "61e8d4ef53b74b0b99d9406f1d0fe5cd": {
      "model_module": "@jupyter-widgets/base",
      "model_module_version": "1.2.0",
      "model_name": "LayoutModel",
      "state": {}
     },
     "6528b5b0fb2a4664be973dfafefcac95": {
      "model_module": "@jupyter-widgets/base",
      "model_module_version": "1.2.0",
      "model_name": "LayoutModel",
      "state": {}
     },
     "65543ca44bc14ad8b450428658e9ed34": {
      "model_module": "jupyter-vega",
      "model_module_version": "^3.6.0",
      "model_name": "VegaWidgetModel",
      "state": {
       "_df": null,
       "_img_url": "null",
       "_model_module": "jupyter-vega",
       "_model_module_version": "^3.6.0",
       "_opt_source": "null",
       "_spec_source": "{\"$schema\": \"https://vega.github.io/schema/vega-lite/v4.json\", \"mark\": \"point\", \"data\": {\"name\": \"data\"}, \"encoding\": {\"x\": {\"type\": \"quantitative\", \"field\": \"x\"}, \"y\": {\"type\": \"quantitative\", \"field\": \"y\"}}}",
       "_view_module": "jupyter-vega",
       "_view_module_version": "^3.6.0",
       "layout": "IPY_MODEL_47ac35916ac34d4fbc1b5726b981339b"
      }
     },
     "668b20016c7e40d2bbc21ea64a067714": {
      "model_module": "jupyter-vega",
      "model_module_version": "^3.6.0",
      "model_name": "VegaWidgetModel",
      "state": {
       "_df": null,
       "_img_url": "null",
       "_model_module": "jupyter-vega",
       "_model_module_version": "^3.6.0",
       "_opt_source": "null",
       "_spec_source": "{\"$schema\": \"https://vega.github.io/schema/vega-lite/v5.json\", \"description\": \"A vertical box plot showing median and lower and upper quartiles of the distribution of body mass of penguins.\", \"data\": {\"name\": \"data\"}, \"mark\": \"boxplot\", \"encoding\": {\"x\": {\"field\": \"Origin\", \"type\": \"nominal\", \"sort\": \"-y\"}, \"color\": {\"field\": \"Origin\", \"type\": \"nominal\", \"legend\": null}, \"y\": {\"field\": \"Acceleration\", \"type\": \"quantitative\", \"scale\": {\"zero\": false}}}}",
       "_view_module": "jupyter-vega",
       "_view_module_version": "^3.6.0",
       "layout": "IPY_MODEL_9454fd370b69482ab0ee25e8c6113c43"
      }
     },
     "6a3c5355d6944d6584f07fc0e04a303c": {
      "model_module": "@jupyter-widgets/base",
      "model_module_version": "1.2.0",
      "model_name": "LayoutModel",
      "state": {}
     },
     "6c110da892ec42bdae646ade9cdf4124": {
      "model_module": "jupyter-vega",
      "model_module_version": "^3.6.0",
      "model_name": "VegaWidgetModel",
      "state": {
       "_df": null,
       "_img_url": "null",
       "_model_module": "jupyter-vega",
       "_model_module_version": "^3.6.0",
       "_opt_source": "null",
       "_spec_source": "{\"$schema\": \"https://vega.github.io/schema/vega-lite/v4.json\", \"mark\": \"point\", \"data\": {\"name\": \"data\", \"values\": [{\"x\": -0.14409032957792836, \"y\": -0.1729036003315193, \"t\": 0}, {\"x\": -0.11131586156766246, \"y\": 0.7019837250988631, \"t\": 1}, {\"x\": -0.12758828378288709, \"y\": -1.4973534143409575, \"t\": 2}, {\"x\": 0.33231834406771527, \"y\": -0.2673374784971682, \"t\": 3}, {\"x\": -0.216958684145195, \"y\": 0.11588478670085507, \"t\": 4}]}, \"encoding\": {\"x\": {\"type\": \"quantitative\", \"field\": \"x\"}, \"y\": {\"type\": \"quantitative\", \"field\": \"y\"}}}",
       "_view_module": "jupyter-vega",
       "_view_module_version": "^3.6.0",
       "layout": "IPY_MODEL_39e63434114a4fea9495962fc3ede5ef"
      }
     },
     "6caea500c9e74445a4e3b939910b95c0": {
      "model_module": "@jupyter-widgets/base",
      "model_module_version": "1.2.0",
      "model_name": "LayoutModel",
      "state": {}
     },
     "6d6d6ae392f244c3babd1b7e135a46e5": {
      "model_module": "@jupyter-widgets/base",
      "model_module_version": "1.2.0",
      "model_name": "LayoutModel",
      "state": {}
     },
     "6e444f1d953542ae9774d881774c4908": {
      "model_module": "@jupyter-widgets/base",
      "model_module_version": "1.2.0",
      "model_name": "LayoutModel",
      "state": {}
     },
     "6f0c1f7750364a5b869b8f6b24c917d2": {
      "model_module": "@jupyter-widgets/base",
      "model_module_version": "1.2.0",
      "model_name": "LayoutModel",
      "state": {}
     },
     "71befa288e4944a8a00d06d816893944": {
      "model_module": "jupyter-vega",
      "model_module_version": "^3.6.0",
      "model_name": "VegaWidgetModel",
      "state": {
       "_df": null,
       "_img_url": "null",
       "_model_module": "jupyter-vega",
       "_model_module_version": "^3.6.0",
       "_opt_source": "null",
       "_spec_source": "{\"$schema\": \"https://vega.github.io/schema/vega-lite/v4.json\", \"mark\": \"point\", \"data\": {\"name\": \"data\", \"values\": [{\"x\": -0.14409032957792836, \"y\": -0.1729036003315193, \"t\": 0}, {\"x\": -0.11131586156766246, \"y\": 0.7019837250988631, \"t\": 1}, {\"x\": -0.12758828378288709, \"y\": -1.4973534143409575, \"t\": 2}, {\"x\": 0.33231834406771527, \"y\": -0.2673374784971682, \"t\": 3}, {\"x\": -0.216958684145195, \"y\": 0.11588478670085507, \"t\": 4}]}, \"encoding\": {\"x\": {\"type\": \"quantitative\", \"field\": \"x\"}, \"y\": {\"type\": \"quantitative\", \"field\": \"y\"}}}",
       "_view_module": "jupyter-vega",
       "_view_module_version": "^3.6.0",
       "layout": "IPY_MODEL_1ff33b29d9034c8b82a53cf3f210df3f"
      }
     },
     "71f381054e144172b1de3574a4136c03": {
      "model_module": "@jupyter-widgets/base",
      "model_module_version": "1.2.0",
      "model_name": "LayoutModel",
      "state": {}
     },
     "733083ab13114133bab972f4ef148f05": {
      "model_module": "@jupyter-widgets/controls",
      "model_module_version": "1.5.0",
      "model_name": "LabelModel",
      "state": {
       "layout": "IPY_MODEL_ca8aad84067f421c83da7021fbb7517a",
       "style": "IPY_MODEL_cbff17b3828540b89f2ff6ea91cae262",
       "value": "Vega plot embedded in another widget"
      }
     },
     "7441919aeaf54cac9abd6ed691013bae": {
      "model_module": "jupyter-vega",
      "model_module_version": "^3.6.0",
      "model_name": "VegaWidgetModel",
      "state": {
       "_df": null,
       "_img_url": "null",
       "_model_module": "jupyter-vega",
       "_model_module_version": "^3.6.0",
       "_opt_source": "null",
       "_spec_source": "{\"$schema\": \"https://vega.github.io/schema/vega-lite/v4.json\", \"mark\": \"point\", \"data\": {\"name\": \"data\"}, \"encoding\": {\"x\": {\"type\": \"quantitative\", \"field\": \"x\"}, \"y\": {\"type\": \"quantitative\", \"field\": \"y\"}}}",
       "_view_module": "jupyter-vega",
       "_view_module_version": "^3.6.0",
       "layout": "IPY_MODEL_da7f6aec75524cdda77a156a4a806be9"
      }
     },
     "75b066cd99b6475e9e49242bd87abf89": {
      "model_module": "@jupyter-widgets/base",
      "model_module_version": "1.2.0",
      "model_name": "LayoutModel",
      "state": {}
     },
     "76a324dbbb7b4285a0212d1bd9d05673": {
      "model_module": "jupyter-vega",
      "model_module_version": "^3.6.0",
      "model_name": "VegaWidgetModel",
      "state": {
       "_df": null,
       "_img_url": "null",
       "_model_module": "jupyter-vega",
       "_model_module_version": "^3.6.0",
       "_opt_source": "null",
       "_spec_source": "{\"$schema\": \"https://vega.github.io/schema/vega-lite/v4.json\", \"mark\": \"point\", \"data\": {\"name\": \"data\", \"values\": [{\"x\": -0.14409032957792836, \"y\": -0.1729036003315193, \"t\": 0}, {\"x\": -0.11131586156766246, \"y\": 0.7019837250988631, \"t\": 1}, {\"x\": -0.12758828378288709, \"y\": -1.4973534143409575, \"t\": 2}, {\"x\": 0.33231834406771527, \"y\": -0.2673374784971682, \"t\": 3}, {\"x\": -0.216958684145195, \"y\": 0.11588478670085507, \"t\": 4}]}, \"encoding\": {\"x\": {\"type\": \"quantitative\", \"field\": \"x\"}, \"y\": {\"type\": \"quantitative\", \"field\": \"y\"}}}",
       "_view_module": "jupyter-vega",
       "_view_module_version": "^3.6.0",
       "layout": "IPY_MODEL_e5d6ce62bd2d473babb458d2c4d2fb35"
      }
     },
     "77dc5ef72ba74077b01bccdd7dfa5c84": {
      "model_module": "@jupyter-widgets/base",
      "model_module_version": "1.2.0",
      "model_name": "LayoutModel",
      "state": {}
     },
     "781293c8662a4244937fe84af455bfe7": {
      "model_module": "jupyter-vega",
      "model_module_version": "^3.6.0",
      "model_name": "VegaWidgetModel",
      "state": {
       "_df": null,
       "_img_url": "null",
       "_model_module": "jupyter-vega",
       "_model_module_version": "^3.6.0",
       "_opt_source": "null",
       "_spec_source": "{\"$schema\": \"https://vega.github.io/schema/vega-lite/v4.json\", \"mark\": \"point\", \"data\": {\"name\": \"data\", \"values\": [{\"x\": -0.14409032957792836, \"y\": -0.1729036003315193, \"t\": 0}, {\"x\": -0.11131586156766246, \"y\": 0.7019837250988631, \"t\": 1}, {\"x\": -0.12758828378288709, \"y\": -1.4973534143409575, \"t\": 2}, {\"x\": 0.33231834406771527, \"y\": -0.2673374784971682, \"t\": 3}, {\"x\": -0.216958684145195, \"y\": 0.11588478670085507, \"t\": 4}]}, \"encoding\": {\"x\": {\"type\": \"quantitative\", \"field\": \"x\"}, \"y\": {\"type\": \"quantitative\", \"field\": \"y\"}}}",
       "_view_module": "jupyter-vega",
       "_view_module_version": "^3.6.0",
       "layout": "IPY_MODEL_3b401a1727124ddd97051c9b6aec4037"
      }
     },
     "78ca7137eae241a08e1e4adcdaf14e07": {
      "model_module": "jupyter-vega",
      "model_module_version": "^3.6.0",
      "model_name": "VegaWidgetModel",
      "state": {
       "_df": null,
       "_img_url": "null",
       "_model_module": "jupyter-vega",
       "_model_module_version": "^3.6.0",
       "_opt_source": "null",
       "_spec_source": "{\"$schema\": \"https://vega.github.io/schema/vega-lite/v4.json\", \"mark\": \"point\", \"data\": {\"name\": \"data\", \"values\": [{\"x\": -0.14409032957792836, \"y\": -0.1729036003315193, \"t\": 0}, {\"x\": -0.11131586156766246, \"y\": 0.7019837250988631, \"t\": 1}, {\"x\": -0.12758828378288709, \"y\": -1.4973534143409575, \"t\": 2}, {\"x\": 0.33231834406771527, \"y\": -0.2673374784971682, \"t\": 3}, {\"x\": -0.216958684145195, \"y\": 0.11588478670085507, \"t\": 4}]}, \"encoding\": {\"x\": {\"type\": \"quantitative\", \"field\": \"x\"}, \"y\": {\"type\": \"quantitative\", \"field\": \"y\"}}}",
       "_view_module": "jupyter-vega",
       "_view_module_version": "^3.6.0",
       "layout": "IPY_MODEL_cf9468f6fed84484a42a81be85a1ccfa"
      }
     },
     "7950835d2d9941b191414f059cd4b01f": {
      "model_module": "@jupyter-widgets/base",
      "model_module_version": "1.2.0",
      "model_name": "DOMWidgetModel",
      "state": {
       "_model_name": "DOMWidgetModel",
       "_spec_source": "{\"$schema\": \"https://vega.github.io/schema/vega-lite/v3.json\", \"mark\": \"point\", \"data\": {\"name\": \"data\", \"values\": [{\"x\": -0.08464576847388305, \"y\": -2.292101726714774, \"t\": 0}, {\"x\": 0.21535122626875394, \"y\": -1.3219649666747073, \"t\": 1}, {\"x\": -0.329521137311764, \"y\": -0.27624633585615743, \"t\": 2}, {\"x\": 0.0094549488754799, \"y\": -0.04490340911971162, \"t\": 3}, {\"x\": 1.031494161239078, \"y\": -1.0452928358284574, \"t\": 4}]}, \"encoding\": {\"x\": {\"type\": \"quantitative\", \"field\": \"x\"}, \"y\": {\"type\": \"quantitative\", \"field\": \"y\"}}}",
       "_view_module": "nbextensions/jupyter-vega/index",
       "_view_module_version": "0.1.0",
       "_view_name": "VegaWidget",
       "layout": "IPY_MODEL_43e6fafb616948f1bd2f8cc9c5501f84"
      }
     },
     "7bbcb034a1f545088b09a1374f77eaf4": {
      "model_module": "@jupyter-widgets/base",
      "model_module_version": "1.2.0",
      "model_name": "LayoutModel",
      "state": {}
     },
     "7c5eba4bb6a34d2b88f81a6bdee95ca7": {
      "model_module": "@jupyter-widgets/base",
      "model_module_version": "1.2.0",
      "model_name": "LayoutModel",
      "state": {}
     },
     "7d0527d4130f4d389ebb9e77f811d4de": {
      "model_module": "jupyter-vega",
      "model_module_version": "^3.6.0",
      "model_name": "VegaWidgetModel",
      "state": {
       "_df": null,
       "_img_url": "null",
       "_model_module": "jupyter-vega",
       "_model_module_version": "^3.6.0",
       "_opt_source": "null",
       "_spec_source": "{\"$schema\": \"https://vega.github.io/schema/vega-lite/v4.json\", \"mark\": \"point\", \"data\": {\"name\": \"data\"}, \"encoding\": {\"x\": {\"type\": \"quantitative\", \"field\": \"x\"}, \"y\": {\"type\": \"quantitative\", \"field\": \"y\"}}}",
       "_view_module": "jupyter-vega",
       "_view_module_version": "^3.6.0",
       "layout": "IPY_MODEL_15117f528ecb4c5288d6a41457dc768e"
      }
     },
     "7daa1d78436d4a42a05227b4829bee3c": {
      "model_module": "@jupyter-widgets/base",
      "model_module_version": "1.2.0",
      "model_name": "LayoutModel",
      "state": {}
     },
     "7db63288327a483ab540df930c897314": {
      "model_module": "@jupyter-widgets/controls",
      "model_module_version": "1.5.0",
      "model_name": "DescriptionStyleModel",
      "state": {
       "description_width": ""
      }
     },
     "7e7f3da10d7a4a8eb9c49f7abf302902": {
      "model_module": "@jupyter-widgets/base",
      "model_module_version": "1.2.0",
      "model_name": "LayoutModel",
      "state": {}
     },
     "7e8cd39bf1fc4d6fb507d1a314509e84": {
      "model_module": "@jupyter-widgets/controls",
      "model_module_version": "1.5.0",
      "model_name": "DescriptionStyleModel",
      "state": {
       "description_width": ""
      }
     },
     "85affd4597194ea2b4e4a2ff8994cd67": {
      "model_module": "@jupyter-widgets/controls",
      "model_module_version": "1.5.0",
      "model_name": "LabelModel",
      "state": {
       "layout": "IPY_MODEL_45026cc6b5aa47b5bb4fd748d78207d5",
       "style": "IPY_MODEL_395d2d32643242fab664852361b598d0",
       "value": "Vega plot embedded in another widget"
      }
     },
     "8836901d9fc140d3b4d2d242cd7a33b3": {
      "model_module": "@jupyter-widgets/base",
      "model_module_version": "1.2.0",
      "model_name": "LayoutModel",
      "state": {}
     },
     "88b08026c55f429cbb6621e11a671bc1": {
      "model_module": "jupyter-vega",
      "model_module_version": "^3.6.0",
      "model_name": "VegaWidgetModel",
      "state": {
       "_df": null,
       "_img_url": "null",
       "_model_module": "jupyter-vega",
       "_model_module_version": "^3.6.0",
       "_opt_source": "null",
       "_spec_source": "{\"$schema\": \"https://vega.github.io/schema/vega-lite/v4.json\", \"mark\": \"point\", \"data\": {\"name\": \"data\"}, \"encoding\": {\"x\": {\"type\": \"quantitative\", \"field\": \"x\"}, \"y\": {\"type\": \"quantitative\", \"field\": \"y\"}}}",
       "_view_module": "jupyter-vega",
       "_view_module_version": "^3.6.0",
       "layout": "IPY_MODEL_d656d2001870412c85ae398da65d6b9b"
      }
     },
     "88cab96b447a4320ba3c1a3e4d337df5": {
      "model_module": "@jupyter-widgets/base",
      "model_module_version": "1.2.0",
      "model_name": "LayoutModel",
      "state": {}
     },
     "899c54945ea74167a52c5e53f456e3b0": {
      "model_module": "@jupyter-widgets/controls",
      "model_module_version": "1.5.0",
      "model_name": "LabelModel",
      "state": {
       "layout": "IPY_MODEL_bfa3387879e647659d785a29d96d64dd",
       "style": "IPY_MODEL_7e8cd39bf1fc4d6fb507d1a314509e84",
       "value": "Vega plot embedded in another widget"
      }
     },
     "8b05a6d1971c4292b08aa3407c4fb293": {
      "model_module": "@jupyter-widgets/controls",
      "model_module_version": "1.5.0",
      "model_name": "VBoxModel",
      "state": {
       "children": [
        "IPY_MODEL_d794fedca436451d8135d2285c007c40",
        "IPY_MODEL_94d022af3bab4034b713251842b61bd9",
        "IPY_MODEL_5f685fe6bf8849548f17b57a63b68bed"
       ],
       "layout": "IPY_MODEL_200458e6148e456aa9ab3d0720180825"
      }
     },
     "8b243782c8944573a324f8e708e519ba": {
      "model_module": "@jupyter-widgets/base",
      "model_module_version": "1.2.0",
      "model_name": "LayoutModel",
      "state": {}
     },
     "8c43b23c88d34be381812fe34c4a6bea": {
      "model_module": "jupyter-vega",
      "model_module_version": "^3.6.0",
      "model_name": "VegaWidgetModel",
      "state": {
       "_df": null,
       "_img_url": "null",
       "_model_module": "jupyter-vega",
       "_model_module_version": "^3.6.0",
       "_opt_source": "null",
       "_spec_source": "{\"$schema\": \"https://vega.github.io/schema/vega-lite/v4.json\", \"mark\": \"point\", \"data\": {\"name\": \"data\", \"values\": [{\"x\": -0.14409032957792836, \"y\": -0.1729036003315193, \"t\": 0}, {\"x\": -0.11131586156766246, \"y\": 0.7019837250988631, \"t\": 1}, {\"x\": -0.12758828378288709, \"y\": -1.4973534143409575, \"t\": 2}, {\"x\": 0.33231834406771527, \"y\": -0.2673374784971682, \"t\": 3}, {\"x\": -0.216958684145195, \"y\": 0.11588478670085507, \"t\": 4}]}, \"encoding\": {\"x\": {\"type\": \"quantitative\", \"field\": \"x\"}, \"y\": {\"type\": \"quantitative\", \"field\": \"y\"}}}",
       "_view_module": "jupyter-vega",
       "_view_module_version": "^3.6.0",
       "layout": "IPY_MODEL_276c93c1165f4ee28748f9475ce7cea4"
      }
     },
     "8efa45efb0ef45ff8180d8862e1a44a4": {
      "model_module": "@jupyter-widgets/controls",
      "model_module_version": "1.5.0",
      "model_name": "VBoxModel",
      "state": {
       "children": [
        "IPY_MODEL_9ae044bc16194b279da598ff103a4a0f",
        "IPY_MODEL_d5014381221f408e85e8ef4e27e03d69",
        "IPY_MODEL_21cbcbe1007e42338fe437e41c91ff98"
       ],
       "layout": "IPY_MODEL_53e64c88aa0749319963fdc0ab386a94"
      }
     },
     "9169995efeff487791f45d540b7dbcde": {
      "model_module": "jupyter-vega",
      "model_module_version": "^3.6.0",
      "model_name": "VegaWidgetModel",
      "state": {
       "_df": null,
       "_img_url": "null",
       "_model_module": "jupyter-vega",
       "_model_module_version": "^3.6.0",
       "_opt_source": "null",
       "_spec_source": "{\"$schema\": \"https://vega.github.io/schema/vega-lite/v5.json\", \"description\": \"A vertical box plot showing median and lower and upper quartiles of the distribution of body mass of penguins.\", \"data\": {\"name\": \"data\"}, \"mark\": \"boxplot\", \"encoding\": {\"x\": {\"field\": \"Origin\", \"type\": \"nominal\", \"sort\": \"-y\"}, \"color\": {\"field\": \"Origin\", \"type\": \"nominal\", \"legend\": null}, \"y\": {\"field\": \"Acceleration\", \"type\": \"quantitative\", \"scale\": {\"zero\": false}}}}",
       "_view_module": "jupyter-vega",
       "_view_module_version": "^3.6.0",
       "layout": "IPY_MODEL_2bea52cacae3492eaea7b60427dcaef1"
      }
     },
     "939cfd38cb1342328719bb9dfc92ff49": {
      "model_module": "@jupyter-widgets/controls",
      "model_module_version": "1.5.0",
      "model_name": "DescriptionStyleModel",
      "state": {
       "description_width": ""
      }
     },
     "9454fd370b69482ab0ee25e8c6113c43": {
      "model_module": "@jupyter-widgets/base",
      "model_module_version": "1.2.0",
      "model_name": "LayoutModel",
      "state": {}
     },
     "94d022af3bab4034b713251842b61bd9": {
      "model_module": "jupyter-vega",
      "model_module_version": "^3.6.0",
      "model_name": "VegaWidgetModel",
      "state": {
       "_df": null,
       "_img_url": "null",
       "_model_module": "jupyter-vega",
       "_model_module_version": "^3.6.0",
       "_opt_source": "null",
       "_spec_source": "{\"$schema\": \"https://vega.github.io/schema/vega-lite/v4.json\", \"mark\": \"point\", \"data\": {\"name\": \"data\", \"values\": [{\"x\": -0.14409032957792836, \"y\": -0.1729036003315193, \"t\": 0}, {\"x\": -0.11131586156766246, \"y\": 0.7019837250988631, \"t\": 1}, {\"x\": -0.12758828378288709, \"y\": -1.4973534143409575, \"t\": 2}, {\"x\": 0.33231834406771527, \"y\": -0.2673374784971682, \"t\": 3}, {\"x\": -0.216958684145195, \"y\": 0.11588478670085507, \"t\": 4}]}, \"encoding\": {\"x\": {\"type\": \"quantitative\", \"field\": \"x\"}, \"y\": {\"type\": \"quantitative\", \"field\": \"y\"}}}",
       "_view_module": "jupyter-vega",
       "_view_module_version": "^3.6.0",
       "layout": "IPY_MODEL_1a6f41fd33464eaeb33929838d8e2edf"
      }
     },
     "98367bc6b8da4cb39e6469d8482e2006": {
      "model_module": "@jupyter-widgets/base",
      "model_module_version": "1.2.0",
      "model_name": "LayoutModel",
      "state": {}
     },
     "99ae044524ff4101ac55f055d3bad5c1": {
      "model_module": "@jupyter-widgets/base",
      "model_module_version": "1.2.0",
      "model_name": "LayoutModel",
      "state": {}
     },
     "99c4375ba99d48c98001fab9a9b3dc19": {
      "model_module": "@jupyter-widgets/base",
      "model_module_version": "1.2.0",
      "model_name": "LayoutModel",
      "state": {}
     },
     "9ae044bc16194b279da598ff103a4a0f": {
      "model_module": "@jupyter-widgets/controls",
      "model_module_version": "1.5.0",
      "model_name": "LabelModel",
      "state": {
       "layout": "IPY_MODEL_7c5eba4bb6a34d2b88f81a6bdee95ca7",
       "style": "IPY_MODEL_3db41142aba24671b12f9f910b6cc2fd",
       "value": "Vega plot embedded in another widget"
      }
     },
     "a15c3a1d41e54a3faaaf823e183f8a1c": {
      "model_module": "@jupyter-widgets/controls",
      "model_module_version": "1.5.0",
      "model_name": "VBoxModel",
      "state": {
       "children": [
        "IPY_MODEL_3d6bdaec89e24e789c1acf8e75fb0ccb",
        "IPY_MODEL_619d52f04a394444ba6d60ea32c66cf8",
        "IPY_MODEL_27c1b42d13f44b26875c31f3d183b0ad"
       ],
       "layout": "IPY_MODEL_71f381054e144172b1de3574a4136c03"
      }
     },
     "a798c99123d84f0391c0e016bef9c540": {
      "model_module": "jupyter-vega",
      "model_module_version": "^3.6.0",
      "model_name": "VegaWidgetModel",
      "state": {
       "_df": null,
       "_img_url": "null",
       "_model_module": "jupyter-vega",
       "_model_module_version": "^3.6.0",
       "_opt_source": "null",
       "_spec_source": "{\"$schema\": \"https://vega.github.io/schema/vega-lite/v4.json\", \"mark\": \"point\", \"data\": {\"name\": \"data\", \"values\": [{\"x\": -0.14409032957792836, \"y\": -0.1729036003315193, \"t\": 0}, {\"x\": -0.11131586156766246, \"y\": 0.7019837250988631, \"t\": 1}, {\"x\": -0.12758828378288709, \"y\": -1.4973534143409575, \"t\": 2}, {\"x\": 0.33231834406771527, \"y\": -0.2673374784971682, \"t\": 3}, {\"x\": -0.216958684145195, \"y\": 0.11588478670085507, \"t\": 4}]}, \"encoding\": {\"x\": {\"type\": \"quantitative\", \"field\": \"x\"}, \"y\": {\"type\": \"quantitative\", \"field\": \"y\"}}}",
       "_view_module": "jupyter-vega",
       "_view_module_version": "^3.6.0",
       "layout": "IPY_MODEL_edabff3e33c441b8bdedb5861988203c"
      }
     },
     "a8c43ab69dee4e8c84ba82620d1df39e": {
      "model_module": "@jupyter-widgets/controls",
      "model_module_version": "1.5.0",
      "model_name": "DescriptionStyleModel",
      "state": {
       "description_width": ""
      }
     },
     "a9200b0e14e94c6580ecf3e928112d50": {
      "model_module": "jupyter-vega",
      "model_module_version": "^3.6.0",
      "model_name": "VegaWidgetModel",
      "state": {
       "_df": null,
       "_img_url": "{\"width\":\"253px\",\"height\":\"242px\",\"url\":\"data:image/png;base64,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\"}",
       "_model_module": "jupyter-vega",
       "_model_module_version": "^3.6.0",
       "_opt_source": "null",
       "_spec_source": "{\"$schema\": \"https://vega.github.io/schema/vega-lite/v4.json\", \"mark\": \"point\", \"data\": {\"name\": \"data\"}, \"encoding\": {\"x\": {\"type\": \"quantitative\", \"field\": \"x\"}, \"y\": {\"type\": \"quantitative\", \"field\": \"y\"}}}",
       "_view_module": "jupyter-vega",
       "_view_module_version": "^3.6.0",
       "layout": "IPY_MODEL_af400bf106ad4016a115ad2118473cda"
      }
     },
     "af1f99a778e144679606ac6bdea2a7f8": {
      "model_module": "@jupyter-widgets/base",
      "model_module_version": "1.2.0",
      "model_name": "LayoutModel",
      "state": {}
     },
     "af400bf106ad4016a115ad2118473cda": {
      "model_module": "@jupyter-widgets/base",
      "model_module_version": "1.2.0",
      "model_name": "LayoutModel",
      "state": {}
     },
     "afb29968e5874aa5a3d107d059537b03": {
      "model_module": "@jupyter-widgets/controls",
      "model_module_version": "1.5.0",
      "model_name": "ButtonStyleModel",
      "state": {}
     },
     "b19ee555a1d64625b6fb49bd76720fd9": {
      "model_module": "@jupyter-widgets/base",
      "model_module_version": "1.2.0",
      "model_name": "LayoutModel",
      "state": {}
     },
     "b3677dd550cc491d8136724948806d9b": {
      "model_module": "@jupyter-widgets/base",
      "model_module_version": "1.2.0",
      "model_name": "LayoutModel",
      "state": {}
     },
     "b3ed99a2f224419e8199c93bc3f75c94": {
      "model_module": "@jupyter-widgets/controls",
      "model_module_version": "1.5.0",
      "model_name": "ButtonModel",
      "state": {
       "description": "Add new data point",
       "layout": "IPY_MODEL_2df5d7a613c24f1b93e0fad511f1c605",
       "style": "IPY_MODEL_5234c6a3c1b54ed6aeb1530cf38260e8"
      }
     },
     "b6ba9661867b4376808b790366ed6a50": {
      "model_module": "jupyter-vega",
      "model_module_version": "^3.6.0",
      "model_name": "VegaWidgetModel",
      "state": {
       "_df": null,
       "_img_url": "null",
       "_model_module": "jupyter-vega",
       "_model_module_version": "^3.6.0",
       "_opt_source": "null",
       "_spec_source": "{\"$schema\": \"https://vega.github.io/schema/vega-lite/v4.json\", \"mark\": \"point\", \"data\": {\"name\": \"data\"}, \"encoding\": {\"x\": {\"type\": \"quantitative\", \"field\": \"x\"}, \"y\": {\"type\": \"quantitative\", \"field\": \"y\"}}}",
       "_view_module": "jupyter-vega",
       "_view_module_version": "^3.6.0",
       "layout": "IPY_MODEL_88cab96b447a4320ba3c1a3e4d337df5"
      }
     },
     "b6e746d43fe14fe0a5015038233cddd2": {
      "model_module": "@jupyter-widgets/controls",
      "model_module_version": "1.5.0",
      "model_name": "VBoxModel",
      "state": {
       "children": [
        "IPY_MODEL_85affd4597194ea2b4e4a2ff8994cd67",
        "IPY_MODEL_55f9063ccf284d55beba80c16141e8e1",
        "IPY_MODEL_b3ed99a2f224419e8199c93bc3f75c94"
       ],
       "layout": "IPY_MODEL_77dc5ef72ba74077b01bccdd7dfa5c84"
      }
     },
     "b77f19a2ab7f43808ef2384043455ca4": {
      "model_module": "@jupyter-widgets/controls",
      "model_module_version": "1.5.0",
      "model_name": "ButtonStyleModel",
      "state": {}
     },
     "bb29bc7cc8e143fd8e4facebc536aaba": {
      "model_module": "@jupyter-widgets/base",
      "model_module_version": "1.2.0",
      "model_name": "LayoutModel",
      "state": {}
     },
     "bea06bf41cf64b5595cb950c5e22da38": {
      "model_module": "jupyter-vega",
      "model_module_version": "^3.6.0",
      "model_name": "VegaWidgetModel",
      "state": {
       "_df": null,
       "_img_url": "null",
       "_model_module": "jupyter-vega",
       "_model_module_version": "^3.6.0",
       "_opt_source": "{\"theme\": \"dark\"}",
       "_spec_source": "{\"$schema\": \"https://vega.github.io/schema/vega-lite/v4.json\", \"mark\": \"line\", \"data\": {\"name\": \"data\"}, \"encoding\": {\"x\": {\"type\": \"quantitative\", \"field\": \"x\"}, \"y\": {\"type\": \"quantitative\", \"field\": \"y\"}}}",
       "_view_module": "jupyter-vega",
       "_view_module_version": "^3.6.0",
       "layout": "IPY_MODEL_e85f85ac273143a0bd1aed81a8eb6482"
      }
     },
     "bf84984f0adf4265942958e460d495d4": {
      "model_module": "jupyter-vega",
      "model_module_version": "^3.6.0",
      "model_name": "VegaWidgetModel",
      "state": {
       "_df": null,
       "_img_url": "null",
       "_model_module": "jupyter-vega",
       "_model_module_version": "^3.6.0",
       "_opt_source": "null",
       "_spec_source": "{\"$schema\": \"https://vega.github.io/schema/vega-lite/v4.json\", \"mark\": \"point\", \"data\": {\"name\": \"data\"}, \"encoding\": {\"x\": {\"type\": \"quantitative\", \"field\": \"x\"}, \"y\": {\"type\": \"quantitative\", \"field\": \"y\"}}}",
       "_view_module": "jupyter-vega",
       "_view_module_version": "^3.6.0",
       "layout": "IPY_MODEL_b3677dd550cc491d8136724948806d9b"
      }
     },
     "bfa3387879e647659d785a29d96d64dd": {
      "model_module": "@jupyter-widgets/base",
      "model_module_version": "1.2.0",
      "model_name": "LayoutModel",
      "state": {}
     },
     "c72255aa629442c4bb13dad4c00b6571": {
      "model_module": "jupyter-vega",
      "model_module_version": "^3.6.0",
      "model_name": "VegaWidgetModel",
      "state": {
       "_df": null,
       "_img_url": "null",
       "_model_module": "jupyter-vega",
       "_model_module_version": "^3.6.0",
       "_opt_source": "null",
       "_spec_source": "{\"$schema\": \"https://vega.github.io/schema/vega-lite/v4.json\", \"mark\": \"point\", \"data\": {\"name\": \"data\", \"values\": [{\"x\": -0.14409032957792836, \"y\": -0.1729036003315193, \"t\": 0}, {\"x\": -0.11131586156766246, \"y\": 0.7019837250988631, \"t\": 1}, {\"x\": -0.12758828378288709, \"y\": -1.4973534143409575, \"t\": 2}, {\"x\": 0.33231834406771527, \"y\": -0.2673374784971682, \"t\": 3}, {\"x\": -0.216958684145195, \"y\": 0.11588478670085507, \"t\": 4}]}, \"encoding\": {\"x\": {\"type\": \"quantitative\", \"field\": \"x\"}, \"y\": {\"type\": \"quantitative\", \"field\": \"y\"}}}",
       "_view_module": "jupyter-vega",
       "_view_module_version": "^3.6.0",
       "layout": "IPY_MODEL_20bf41340ecd49c296145c059eabf38e"
      }
     },
     "c84522692efe4e49aeafd26d3aa97093": {
      "model_module": "@jupyter-widgets/base",
      "model_module_version": "1.2.0",
      "model_name": "LayoutModel",
      "state": {}
     },
     "c89b8adbcf0649ec867983243e3e3fe0": {
      "model_module": "@jupyter-widgets/base",
      "model_module_version": "1.2.0",
      "model_name": "LayoutModel",
      "state": {}
     },
     "c923ab83b8b740eab9063c75670db46f": {
      "model_module": "@jupyter-widgets/controls",
      "model_module_version": "1.5.0",
      "model_name": "DescriptionStyleModel",
      "state": {
       "description_width": ""
      }
     },
     "c950b9b84c2143a5baa38953ca3bacae": {
      "model_module": "jupyter-vega",
      "model_module_version": "^3.6.0",
      "model_name": "VegaWidgetModel",
      "state": {
       "_df": null,
       "_img_url": "null",
       "_model_module": "jupyter-vega",
       "_model_module_version": "^3.6.0",
       "_opt_source": "null",
       "_spec_source": "{\"$schema\": \"https://vega.github.io/schema/vega-lite/v4.json\", \"mark\": \"point\", \"data\": {\"name\": \"data\"}, \"encoding\": {\"x\": {\"type\": \"quantitative\", \"field\": \"x\"}, \"y\": {\"type\": \"quantitative\", \"field\": \"y\"}}}",
       "_view_module": "jupyter-vega",
       "_view_module_version": "^3.6.0",
       "layout": "IPY_MODEL_3c5695f2a3c141f18cfe8ca9058feb29"
      }
     },
     "ca8aad84067f421c83da7021fbb7517a": {
      "model_module": "@jupyter-widgets/base",
      "model_module_version": "1.2.0",
      "model_name": "LayoutModel",
      "state": {}
     },
     "cbff17b3828540b89f2ff6ea91cae262": {
      "model_module": "@jupyter-widgets/controls",
      "model_module_version": "1.5.0",
      "model_name": "DescriptionStyleModel",
      "state": {
       "description_width": ""
      }
     },
     "cc1a4cb49e7f42b184674f3915e63091": {
      "model_module": "@jupyter-widgets/base",
      "model_module_version": "1.2.0",
      "model_name": "LayoutModel",
      "state": {}
     },
     "cdf6f2c8aa4344ef9f8fbae3d3162764": {
      "model_module": "jupyter-vega",
      "model_module_version": "^3.6.0",
      "model_name": "VegaWidgetModel",
      "state": {
       "_df": null,
       "_img_url": "null",
       "_model_module": "jupyter-vega",
       "_model_module_version": "^3.6.0",
       "_opt_source": "null",
       "_spec_source": "{\"$schema\": \"https://vega.github.io/schema/vega-lite/v4.json\", \"mark\": \"point\", \"data\": {\"name\": \"data\", \"values\": [{\"x\": -0.14409032957792836, \"y\": -0.1729036003315193, \"t\": 0}, {\"x\": -0.11131586156766246, \"y\": 0.7019837250988631, \"t\": 1}, {\"x\": -0.12758828378288709, \"y\": -1.4973534143409575, \"t\": 2}, {\"x\": 0.33231834406771527, \"y\": -0.2673374784971682, \"t\": 3}, {\"x\": -0.216958684145195, \"y\": 0.11588478670085507, \"t\": 4}]}, \"encoding\": {\"x\": {\"type\": \"quantitative\", \"field\": \"x\"}, \"y\": {\"type\": \"quantitative\", \"field\": \"y\"}}}",
       "_view_module": "jupyter-vega",
       "_view_module_version": "^3.6.0",
       "layout": "IPY_MODEL_6a3c5355d6944d6584f07fc0e04a303c"
      }
     },
     "cef95200890e4331a784792b8286ea34": {
      "model_module": "@jupyter-widgets/controls",
      "model_module_version": "1.5.0",
      "model_name": "ButtonStyleModel",
      "state": {}
     },
     "cf9468f6fed84484a42a81be85a1ccfa": {
      "model_module": "@jupyter-widgets/base",
      "model_module_version": "1.2.0",
      "model_name": "LayoutModel",
      "state": {}
     },
     "cf9b31e4c85b427dbebdd0a83311798a": {
      "model_module": "jupyter-vega",
      "model_module_version": "^3.6.0",
      "model_name": "VegaWidgetModel",
      "state": {
       "_df": null,
       "_img_url": "null",
       "_model_module": "jupyter-vega",
       "_model_module_version": "^3.6.0",
       "_opt_source": "null",
       "_spec_source": "{\"$schema\": \"https://vega.github.io/schema/vega-lite/v4.json\", \"mark\": \"point\", \"data\": {\"name\": \"data\", \"values\": [{\"x\": -0.14409032957792836, \"y\": -0.1729036003315193, \"t\": 0}, {\"x\": -0.11131586156766246, \"y\": 0.7019837250988631, \"t\": 1}, {\"x\": -0.12758828378288709, \"y\": -1.4973534143409575, \"t\": 2}, {\"x\": 0.33231834406771527, \"y\": -0.2673374784971682, \"t\": 3}, {\"x\": -0.216958684145195, \"y\": 0.11588478670085507, \"t\": 4}]}, \"encoding\": {\"x\": {\"type\": \"quantitative\", \"field\": \"x\"}, \"y\": {\"type\": \"quantitative\", \"field\": \"y\"}}}",
       "_view_module": "jupyter-vega",
       "_view_module_version": "^3.6.0",
       "layout": "IPY_MODEL_7daa1d78436d4a42a05227b4829bee3c"
      }
     },
     "d176c8df1b4b4a27b1fb944ad52d889d": {
      "model_module": "@jupyter-widgets/base",
      "model_module_version": "1.2.0",
      "model_name": "LayoutModel",
      "state": {}
     },
     "d2d78a928ef54a26b2e903e80112595c": {
      "model_module": "jupyter-vega",
      "model_module_version": "^3.6.0",
      "model_name": "VegaWidgetModel",
      "state": {
       "_df": null,
       "_img_url": "null",
       "_model_module": "jupyter-vega",
       "_model_module_version": "^3.6.0",
       "_opt_source": "null",
       "_spec_source": "{\"$schema\": \"https://vega.github.io/schema/vega-lite/v4.json\", \"mark\": \"point\", \"data\": {\"name\": \"data\"}, \"encoding\": {\"x\": {\"type\": \"quantitative\", \"field\": \"x\"}, \"y\": {\"type\": \"quantitative\", \"field\": \"y\"}}}",
       "_view_module": "jupyter-vega",
       "_view_module_version": "^3.6.0",
       "layout": "IPY_MODEL_af1f99a778e144679606ac6bdea2a7f8"
      }
     },
     "d33a9d1fc02d4197a73383f4d3c33465": {
      "model_module": "@jupyter-widgets/base",
      "model_module_version": "1.2.0",
      "model_name": "LayoutModel",
      "state": {}
     },
     "d5014381221f408e85e8ef4e27e03d69": {
      "model_module": "jupyter-vega",
      "model_module_version": "^3.6.0",
      "model_name": "VegaWidgetModel",
      "state": {
       "_df": null,
       "_img_url": "null",
       "_model_module": "jupyter-vega",
       "_model_module_version": "^3.6.0",
       "_opt_source": "null",
       "_spec_source": "{\"$schema\": \"https://vega.github.io/schema/vega-lite/v4.json\", \"mark\": \"point\", \"data\": {\"name\": \"data\", \"values\": [{\"x\": -0.14409032957792836, \"y\": -0.1729036003315193, \"t\": 0}, {\"x\": -0.11131586156766246, \"y\": 0.7019837250988631, \"t\": 1}, {\"x\": -0.12758828378288709, \"y\": -1.4973534143409575, \"t\": 2}, {\"x\": 0.33231834406771527, \"y\": -0.2673374784971682, \"t\": 3}, {\"x\": -0.216958684145195, \"y\": 0.11588478670085507, \"t\": 4}]}, \"encoding\": {\"x\": {\"type\": \"quantitative\", \"field\": \"x\"}, \"y\": {\"type\": \"quantitative\", \"field\": \"y\"}}}",
       "_view_module": "jupyter-vega",
       "_view_module_version": "^3.6.0",
       "layout": "IPY_MODEL_7e7f3da10d7a4a8eb9c49f7abf302902"
      }
     },
     "d656d2001870412c85ae398da65d6b9b": {
      "model_module": "@jupyter-widgets/base",
      "model_module_version": "1.2.0",
      "model_name": "LayoutModel",
      "state": {}
     },
     "d6c0ab2005d849dc8aca0e2201ac7abd": {
      "model_module": "@jupyter-widgets/base",
      "model_module_version": "1.2.0",
      "model_name": "DOMWidgetModel",
      "state": {
       "_model_name": "DOMWidgetModel",
       "_spec_source": "{\"$schema\": \"https://vega.github.io/schema/vega-lite/v3.json\", \"mark\": \"point\", \"data\": {\"name\": \"data\", \"values\": []}, \"encoding\": {\"x\": {\"type\": \"quantitative\", \"field\": \"x\"}, \"y\": {\"type\": \"quantitative\", \"field\": \"y\"}}}",
       "_view_module": "nbextensions/jupyter-vega/index",
       "_view_module_version": "0.1.0",
       "_view_name": "VegaWidget",
       "layout": "IPY_MODEL_25a0b3e846094e47ad5a92bca1310718"
      }
     },
     "d794fedca436451d8135d2285c007c40": {
      "model_module": "@jupyter-widgets/controls",
      "model_module_version": "1.5.0",
      "model_name": "LabelModel",
      "state": {
       "layout": "IPY_MODEL_c84522692efe4e49aeafd26d3aa97093",
       "style": "IPY_MODEL_a8c43ab69dee4e8c84ba82620d1df39e",
       "value": "Vega plot embedded in another widget"
      }
     },
     "d98c8303019946e8a1c4418dc1567dfb": {
      "model_module": "@jupyter-widgets/base",
      "model_module_version": "1.2.0",
      "model_name": "LayoutModel",
      "state": {}
     },
     "da7f6aec75524cdda77a156a4a806be9": {
      "model_module": "@jupyter-widgets/base",
      "model_module_version": "1.2.0",
      "model_name": "LayoutModel",
      "state": {}
     },
     "dbf92a346fa34a4a8054e3cd96b4c00d": {
      "model_module": "@jupyter-widgets/base",
      "model_module_version": "1.2.0",
      "model_name": "LayoutModel",
      "state": {}
     },
     "ddbee625b34b4766832e0c7f01b48c10": {
      "model_module": "jupyter-vega",
      "model_module_version": "^3.6.0",
      "model_name": "VegaWidgetModel",
      "state": {
       "_df": null,
       "_img_url": "null",
       "_model_module": "jupyter-vega",
       "_model_module_version": "^3.6.0",
       "_opt_source": "null",
       "_spec_source": "{\"$schema\": \"https://vega.github.io/schema/vega-lite/v4.json\", \"mark\": \"point\", \"data\": {\"name\": \"data\"}, \"encoding\": {\"x\": {\"type\": \"quantitative\", \"field\": \"x\"}, \"y\": {\"type\": \"quantitative\", \"field\": \"y\"}}}",
       "_view_module": "jupyter-vega",
       "_view_module_version": "^3.6.0",
       "layout": "IPY_MODEL_dbf92a346fa34a4a8054e3cd96b4c00d"
      }
     },
     "e347415012c640109b7e923179dda932": {
      "model_module": "@jupyter-widgets/controls",
      "model_module_version": "1.5.0",
      "model_name": "LabelModel",
      "state": {
       "layout": "IPY_MODEL_d98c8303019946e8a1c4418dc1567dfb",
       "style": "IPY_MODEL_f172b5db1e6a482981fa8c546b18164f",
       "value": "Vega plot embedded in another widget"
      }
     },
     "e407452a1b3c42719e1ff0c48c564596": {
      "model_module": "@jupyter-widgets/controls",
      "model_module_version": "1.5.0",
      "model_name": "ButtonStyleModel",
      "state": {}
     },
     "e4664fc0eac345e4b8083ca9a238f036": {
      "model_module": "@jupyter-widgets/base",
      "model_module_version": "1.2.0",
      "model_name": "LayoutModel",
      "state": {}
     },
     "e5d6ce62bd2d473babb458d2c4d2fb35": {
      "model_module": "@jupyter-widgets/base",
      "model_module_version": "1.2.0",
      "model_name": "LayoutModel",
      "state": {}
     },
     "e85f85ac273143a0bd1aed81a8eb6482": {
      "model_module": "@jupyter-widgets/base",
      "model_module_version": "1.2.0",
      "model_name": "LayoutModel",
      "state": {}
     },
     "ec27609f046b47e9a3b00cb60d912f28": {
      "model_module": "@jupyter-widgets/controls",
      "model_module_version": "1.5.0",
      "model_name": "ButtonModel",
      "state": {
       "description": "Add new data point",
       "layout": "IPY_MODEL_5acd0ff1be7f4c729f87404b5faa881c",
       "style": "IPY_MODEL_f667a393fc404c74b90dcf67fe12ee69"
      }
     },
     "edabff3e33c441b8bdedb5861988203c": {
      "model_module": "@jupyter-widgets/base",
      "model_module_version": "1.2.0",
      "model_name": "LayoutModel",
      "state": {}
     },
     "f0744743dd3c4bd4ad22924bf786d29f": {
      "model_module": "@jupyter-widgets/base",
      "model_module_version": "1.2.0",
      "model_name": "LayoutModel",
      "state": {}
     },
     "f0d310634c71480db242ecec80286f6d": {
      "model_module": "@jupyter-widgets/base",
      "model_module_version": "1.2.0",
      "model_name": "LayoutModel",
      "state": {}
     },
     "f172b5db1e6a482981fa8c546b18164f": {
      "model_module": "@jupyter-widgets/controls",
      "model_module_version": "1.5.0",
      "model_name": "DescriptionStyleModel",
      "state": {
       "description_width": ""
      }
     },
     "f1d79460aee6493cbce32d8d2e72e038": {
      "model_module": "jupyter-vega",
      "model_module_version": "^3.6.0",
      "model_name": "VegaWidgetModel",
      "state": {
       "_df": null,
       "_img_url": "null",
       "_model_module": "jupyter-vega",
       "_model_module_version": "^3.6.0",
       "_opt_source": "null",
       "_spec_source": "{\"$schema\": \"https://vega.github.io/schema/vega-lite/v4.json\", \"mark\": \"point\", \"data\": {\"name\": \"data\", \"values\": [{\"x\": -0.14409032957792836, \"y\": -0.1729036003315193, \"t\": 0}, {\"x\": -0.11131586156766246, \"y\": 0.7019837250988631, \"t\": 1}, {\"x\": -0.12758828378288709, \"y\": -1.4973534143409575, \"t\": 2}, {\"x\": 0.33231834406771527, \"y\": -0.2673374784971682, \"t\": 3}, {\"x\": -0.216958684145195, \"y\": 0.11588478670085507, \"t\": 4}]}, \"encoding\": {\"x\": {\"type\": \"quantitative\", \"field\": \"x\"}, \"y\": {\"type\": \"quantitative\", \"field\": \"y\"}}}",
       "_view_module": "jupyter-vega",
       "_view_module_version": "^3.6.0",
       "layout": "IPY_MODEL_0b0b87de7415490c89e3ce1704df648b"
      }
     },
     "f667a393fc404c74b90dcf67fe12ee69": {
      "model_module": "@jupyter-widgets/controls",
      "model_module_version": "1.5.0",
      "model_name": "ButtonStyleModel",
      "state": {}
     },
     "faf119ac652e42b7a2408413ff08c871": {
      "model_module": "jupyter-vega",
      "model_module_version": "^3.6.0",
      "model_name": "VegaWidgetModel",
      "state": {
       "_df": null,
       "_img_url": "null",
       "_model_module": "jupyter-vega",
       "_model_module_version": "^3.6.0",
       "_opt_source": "null",
       "_spec_source": "{\"$schema\": \"https://vega.github.io/schema/vega-lite/v4.json\", \"mark\": \"point\", \"data\": {\"name\": \"data\"}, \"encoding\": {\"x\": {\"type\": \"quantitative\", \"field\": \"x\"}, \"y\": {\"type\": \"quantitative\", \"field\": \"y\"}}}",
       "_view_module": "jupyter-vega",
       "_view_module_version": "^3.6.0",
       "layout": "IPY_MODEL_f0d310634c71480db242ecec80286f6d"
      }
     },
     "fc3c424aa84347889a1586019267b6b7": {
      "model_module": "jupyter-vega",
      "model_module_version": "^3.6.0",
      "model_name": "VegaWidgetModel",
      "state": {
       "_df": null,
       "_img_url": "null",
       "_model_module": "jupyter-vega",
       "_model_module_version": "^3.6.0",
       "_opt_source": "{\"theme\": \"dark\"}",
       "_spec_source": "{\"$schema\": \"https://vega.github.io/schema/vega-lite/v4.json\", \"mark\": \"line\", \"data\": {\"name\": \"data\"}, \"encoding\": {\"x\": {\"type\": \"quantitative\", \"field\": \"x\"}, \"y\": {\"type\": \"quantitative\", \"field\": \"y\"}}}",
       "_view_module": "jupyter-vega",
       "_view_module_version": "^3.6.0",
       "layout": "IPY_MODEL_1ef69ccf96404288a5869cc573d9a2e1"
      }
     },
     "fe26d65f4a8f4498873841a0c3eed722": {
      "model_module": "jupyter-vega",
      "model_module_version": "^3.6.0",
      "model_name": "VegaWidgetModel",
      "state": {
       "_df": null,
       "_img_url": "null",
       "_model_module": "jupyter-vega",
       "_model_module_version": "^3.6.0",
       "_opt_source": "{\"theme\": \"dark\"}",
       "_spec_source": "{\"$schema\": \"https://vega.github.io/schema/vega-lite/v4.json\", \"mark\": \"line\", \"data\": {\"name\": \"data\"}, \"encoding\": {\"x\": {\"type\": \"quantitative\", \"field\": \"x\"}, \"y\": {\"type\": \"quantitative\", \"field\": \"y\"}}}",
       "_view_module": "jupyter-vega",
       "_view_module_version": "^3.6.0",
       "layout": "IPY_MODEL_208ed04e2e3b467f982e1d5540cce582"
      }
     }
    },
    "version_major": 2,
    "version_minor": 0
   }
  }
 },
 "nbformat": 4,
 "nbformat_minor": 2
}
