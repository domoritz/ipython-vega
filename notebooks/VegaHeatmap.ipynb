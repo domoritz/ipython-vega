{
 "cells": [
  {
   "cell_type": "markdown",
   "id": "viral-longitude",
   "metadata": {},
   "source": [
    "### Histogram 1D"
   ]
  },
  {
   "cell_type": "code",
   "execution_count": 1,
   "id": "downtown-toronto",
   "metadata": {},
   "outputs": [
    {
     "data": {
      "application/vnd.jupyter.widget-view+json": {
       "model_id": "6721cd2276234ea18007ad7444cd9a50",
       "version_major": 2,
       "version_minor": 0
      },
      "text/plain": [
       "VegaWidget()"
      ]
     },
     "metadata": {},
     "output_type": "display_data"
    },
    {
     "ename": "CancelledError",
     "evalue": "",
     "output_type": "error",
     "traceback": [
      "\u001b[0;31m----------------------------------------------------------------\u001b[0m",
      "\u001b[0;31mCancelledError\u001b[0m                 Traceback (most recent call last)",
      "\u001b[0;32m<ipython-input-1-6e8d3c4d239a>\u001b[0m in \u001b[0;36m<module>\u001b[0;34m\u001b[0m\n\u001b[1;32m     35\u001b[0m         \u001b[0mwidget\u001b[0m\u001b[0;34m.\u001b[0m\u001b[0mupdate_dataframe\u001b[0m\u001b[0;34m(\u001b[0m\u001b[0msource\u001b[0m\u001b[0;34m,\u001b[0m \u001b[0mremove\u001b[0m\u001b[0;34m=\u001b[0m\u001b[0;34m\"true\"\u001b[0m\u001b[0;34m)\u001b[0m\u001b[0;34m\u001b[0m\u001b[0;34m\u001b[0m\u001b[0m\n\u001b[1;32m     36\u001b[0m \u001b[0;34m\u001b[0m\u001b[0m\n\u001b[0;32m---> 37\u001b[0;31m \u001b[0;32mawait\u001b[0m \u001b[0mprogressive_loop\u001b[0m\u001b[0;34m(\u001b[0m\u001b[0mwidget\u001b[0m\u001b[0;34m)\u001b[0m\u001b[0;34m\u001b[0m\u001b[0;34m\u001b[0m\u001b[0m\n\u001b[0m",
      "\u001b[0;32m<ipython-input-1-6e8d3c4d239a>\u001b[0m in \u001b[0;36mprogressive_loop\u001b[0;34m(widget, nbins)\u001b[0m\n\u001b[1;32m     23\u001b[0m     \u001b[0mhist\u001b[0m \u001b[0;34m=\u001b[0m \u001b[0mnp\u001b[0m\u001b[0;34m.\u001b[0m\u001b[0mzeros\u001b[0m\u001b[0;34m(\u001b[0m\u001b[0mnbins\u001b[0m\u001b[0;34m)\u001b[0m\u001b[0;34m\u001b[0m\u001b[0;34m\u001b[0m\u001b[0m\n\u001b[1;32m     24\u001b[0m     \u001b[0;32mfor\u001b[0m \u001b[0msl\u001b[0m \u001b[0;32min\u001b[0m \u001b[0mnp\u001b[0m\u001b[0;34m.\u001b[0m\u001b[0msplit\u001b[0m\u001b[0;34m(\u001b[0m\u001b[0mrdata\u001b[0m\u001b[0;34m,\u001b[0m \u001b[0msteps\u001b[0m\u001b[0;34m)\u001b[0m\u001b[0;34m:\u001b[0m\u001b[0;34m\u001b[0m\u001b[0;34m\u001b[0m\u001b[0m\n\u001b[0;32m---> 25\u001b[0;31m         \u001b[0;32mawait\u001b[0m \u001b[0maio\u001b[0m\u001b[0;34m.\u001b[0m\u001b[0msleep\u001b[0m\u001b[0;34m(\u001b[0m\u001b[0;36m0.1\u001b[0m\u001b[0;34m)\u001b[0m\u001b[0;34m\u001b[0m\u001b[0;34m\u001b[0m\u001b[0m\n\u001b[0m\u001b[1;32m     26\u001b[0m         \u001b[0mh\u001b[0m\u001b[0;34m,\u001b[0m \u001b[0m_\u001b[0m \u001b[0;34m=\u001b[0m \u001b[0mnp\u001b[0m\u001b[0;34m.\u001b[0m\u001b[0mhistogram\u001b[0m\u001b[0;34m(\u001b[0m\u001b[0msl\u001b[0m\u001b[0;34m,\u001b[0m \u001b[0mbins\u001b[0m\u001b[0;34m=\u001b[0m\u001b[0mnbins\u001b[0m\u001b[0;34m,\u001b[0m \u001b[0mrange\u001b[0m\u001b[0;34m=\u001b[0m\u001b[0;34m(\u001b[0m\u001b[0;34m-\u001b[0m\u001b[0;36m1.0\u001b[0m\u001b[0;34m,\u001b[0m\u001b[0;36m1.0\u001b[0m\u001b[0;34m)\u001b[0m\u001b[0;34m)\u001b[0m\u001b[0;34m\u001b[0m\u001b[0;34m\u001b[0m\u001b[0m\n\u001b[1;32m     27\u001b[0m         \u001b[0mhist\u001b[0m \u001b[0;34m+=\u001b[0m \u001b[0mh\u001b[0m\u001b[0;34m\u001b[0m\u001b[0;34m\u001b[0m\u001b[0m\n",
      "\u001b[0;32m~/miniconda3/envs/testipyvega/lib/python3.9/asyncio/tasks.py\u001b[0m in \u001b[0;36msleep\u001b[0;34m(delay, result, loop)\u001b[0m\n\u001b[1;32m    652\u001b[0m                         future, result)\n\u001b[1;32m    653\u001b[0m     \u001b[0;32mtry\u001b[0m\u001b[0;34m:\u001b[0m\u001b[0;34m\u001b[0m\u001b[0;34m\u001b[0m\u001b[0m\n\u001b[0;32m--> 654\u001b[0;31m         \u001b[0;32mreturn\u001b[0m \u001b[0;32mawait\u001b[0m \u001b[0mfuture\u001b[0m\u001b[0;34m\u001b[0m\u001b[0;34m\u001b[0m\u001b[0m\n\u001b[0m\u001b[1;32m    655\u001b[0m     \u001b[0;32mfinally\u001b[0m\u001b[0;34m:\u001b[0m\u001b[0;34m\u001b[0m\u001b[0;34m\u001b[0m\u001b[0m\n\u001b[1;32m    656\u001b[0m         \u001b[0mh\u001b[0m\u001b[0;34m.\u001b[0m\u001b[0mcancel\u001b[0m\u001b[0;34m(\u001b[0m\u001b[0;34m)\u001b[0m\u001b[0;34m\u001b[0m\u001b[0;34m\u001b[0m\u001b[0m\n",
      "\u001b[0;31mCancelledError\u001b[0m: "
     ]
    }
   ],
   "source": [
    "import numpy as np\n",
    "import time\n",
    "import asyncio as aio\n",
    "import pandas as pd\n",
    "from vega.widget import VegaWidget\n",
    "nbins = 50\n",
    "spec_no_data = {\n",
    "    '$schema': 'https://vega.github.io/schema/vega-lite/v4.8.1.json',\n",
    "     'config': {'view': {'continuousHeight': 300, 'continuousWidth': 400}},\n",
    "     'data': {'name': 'data'},\n",
    "     'encoding': {\n",
    "                  'x': {'field': 'x', 'type': 'ordinal'},\n",
    "                  'y': {'field': 'y', 'type': 'quantitative'}\n",
    "             },\n",
    "     'mark': 'bar'}\n",
    "spec_with_data = spec_no_data.copy()\n",
    "nsamples = 100_000\n",
    "steps = 1_000\n",
    "rdata = np.random.normal(loc=0, scale=0.1, size=nsamples)\n",
    "widget = VegaWidget(spec=spec_no_data)\n",
    "display(widget)\n",
    "async def progressive_loop(widget, nbins=50):\n",
    "    hist = np.zeros(nbins)\n",
    "    for sl in np.split(rdata, steps):\n",
    "        await aio.sleep(0.1)\n",
    "        h, _ = np.histogram(sl, bins=nbins, range=(-1.0,1.0))\n",
    "        hist += h\n",
    "        source = pd.DataFrame({\n",
    "            'x': range(nbins),\n",
    "            'y': hist,\n",
    "        }, dtype='float32')\n",
    "        #  widget.update('data', remove='datum.x>=0')\n",
    "        #print(\"displayed\", widget._displayed)\n",
    "        widget._displayed = True\n",
    "        widget.update_dataframe(source, remove=\"true\")\n",
    "\n",
    "await progressive_loop(widget)"
   ]
  },
  {
   "cell_type": "markdown",
   "id": "f52d8ed8",
   "metadata": {},
   "source": [
    "### Histogram 2D"
   ]
  },
  {
   "cell_type": "code",
   "execution_count": 2,
   "id": "393a3fc4",
   "metadata": {},
   "outputs": [
    {
     "data": {
      "application/vnd.jupyter.widget-view+json": {
       "model_id": "280d8e322a504e04b4766e6a3355c791",
       "version_major": 2,
       "version_minor": 0
      },
      "text/plain": [
       "VBox(children=(VegaWidget(), IntProgress(value=0, description='progress'), FloatText(value=0.0, description='T…"
      ]
     },
     "metadata": {},
     "output_type": "display_data"
    }
   ],
   "source": [
    "import time\n",
    "import numpy as np\n",
    "import asyncio as aio\n",
    "import pandas as pd\n",
    "from vega.widget import VegaWidget\n",
    "import ipywidgets as widgets\n",
    "nbins = 256  # 128\n",
    "spec_no_data = {'$schema': 'https://vega.github.io/schema/vega-lite/v4.8.1.json',\n",
    " \"width\": 500,\n",
    " \"height\": 400,\n",
    " 'data': {'name': 'data'},\n",
    " 'encoding': {'color': {'field': 'z', \n",
    "                        'type': 'quantitative',\n",
    "                        \"scale\": {\"domain\": [0,1]}},\n",
    "  'x': {'field': 'x', 'type': 'ordinal'},\n",
    "  'y': {'field': 'y', 'type': 'ordinal'}},\n",
    " 'mark': 'rect',\n",
    " \"config\": {\n",
    "    \"axis\": {\n",
    "      \"disable\": True\n",
    "    }\n",
    "  }}\n",
    "widget = VegaWidget(spec=spec_no_data)\n",
    "steps = 100\n",
    "progress = widgets.IntProgress(value=0, min=0, max=steps, description='progress', orientation='horizontal')\n",
    "mean = widgets.FloatText(value=0, description='Time mean', disables=True)\n",
    "std = widgets.FloatText(value=0, description='Time std ', disables=True)\n",
    "display(widgets.VBox([widget, progress, mean, std]))\n",
    "nsamples=100_1000\n",
    "means = [0.1, 0.3]\n",
    "cov = [[0.01, 0], [0, 0.09]]\n",
    "rdata = np.random.multivariate_normal(means, cov, size=(nsamples))\n",
    "async def progressive_loop(widget, nbins=128):\n",
    "    hist = np.zeros((nbins,nbins), dtype='float32')\n",
    "    step = 0\n",
    "    times = []\n",
    "    for sl in np.split(rdata, steps):\n",
    "        progress.value = step\n",
    "        step += 1\n",
    "        await aio.sleep(0)\n",
    "        h, *_ = np.histogram2d(sl[:,0],sl[:,1], bins=nbins, range=((-1.0,1.0),(-1.0,1.0)))\n",
    "        hist += h\n",
    "        max = np.max(hist)\n",
    "        #print(hist.shape)\n",
    "        widget._displayed = True\n",
    "        now = time.time()\n",
    "        widget.update_histogram2d(hist/max, ['x', 'y', 'z'], remove=\"true\")\n",
    "        times.append(time.time() - now)\n",
    "        mean.value = np.mean(times)\n",
    "        std.value = np.std(times)\n",
    "\n",
    "await progressive_loop(widget)"
   ]
  },
  {
   "cell_type": "code",
   "execution_count": null,
   "id": "90e90ebb",
   "metadata": {},
   "outputs": [],
   "source": []
  }
 ],
 "metadata": {
  "kernelspec": {
   "display_name": "Python 3",
   "language": "python",
   "name": "python3"
  },
  "language_info": {
   "codemirror_mode": {
    "name": "ipython",
    "version": 3
   },
   "file_extension": ".py",
   "mimetype": "text/x-python",
   "name": "python",
   "nbconvert_exporter": "python",
   "pygments_lexer": "ipython3",
   "version": "3.9.4"
  }
 },
 "nbformat": 4,
 "nbformat_minor": 5
}
