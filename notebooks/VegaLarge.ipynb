{
 "cells": [
  {
   "cell_type": "code",
   "execution_count": 4,
   "id": "05ce26d3",
   "metadata": {},
   "outputs": [],
   "source": [
    "import pandas as pd\n",
    "df = pd.read_csv(\"flight.csv\")"
   ]
  },
  {
   "cell_type": "code",
   "execution_count": 6,
   "id": "6c0f737b",
   "metadata": {},
   "outputs": [
    {
     "data": {
      "text/html": [
       "<div>\n",
       "<style scoped>\n",
       "    .dataframe tbody tr th:only-of-type {\n",
       "        vertical-align: middle;\n",
       "    }\n",
       "\n",
       "    .dataframe tbody tr th {\n",
       "        vertical-align: top;\n",
       "    }\n",
       "\n",
       "    .dataframe thead th {\n",
       "        text-align: right;\n",
       "    }\n",
       "</style>\n",
       "<table border=\"1\" class=\"dataframe\">\n",
       "  <thead>\n",
       "    <tr style=\"text-align: right;\">\n",
       "      <th></th>\n",
       "      <th>OP_UNIQUE_CARRIER</th>\n",
       "      <th>ARR_DELAY</th>\n",
       "      <th>DISTANCE</th>\n",
       "    </tr>\n",
       "  </thead>\n",
       "  <tbody>\n",
       "    <tr>\n",
       "      <th>0</th>\n",
       "      <td>AA</td>\n",
       "      <td>-18.0</td>\n",
       "      <td>599.0</td>\n",
       "    </tr>\n",
       "    <tr>\n",
       "      <th>1</th>\n",
       "      <td>AA</td>\n",
       "      <td>200.0</td>\n",
       "      <td>599.0</td>\n",
       "    </tr>\n",
       "    <tr>\n",
       "      <th>2</th>\n",
       "      <td>AA</td>\n",
       "      <td>14.0</td>\n",
       "      <td>599.0</td>\n",
       "    </tr>\n",
       "    <tr>\n",
       "      <th>3</th>\n",
       "      <td>AA</td>\n",
       "      <td>1.0</td>\n",
       "      <td>599.0</td>\n",
       "    </tr>\n",
       "    <tr>\n",
       "      <th>4</th>\n",
       "      <td>AA</td>\n",
       "      <td>17.0</td>\n",
       "      <td>599.0</td>\n",
       "    </tr>\n",
       "  </tbody>\n",
       "</table>\n",
       "</div>"
      ],
      "text/plain": [
       "  OP_UNIQUE_CARRIER  ARR_DELAY  DISTANCE\n",
       "0                AA      -18.0     599.0\n",
       "1                AA      200.0     599.0\n",
       "2                AA       14.0     599.0\n",
       "3                AA        1.0     599.0\n",
       "4                AA       17.0     599.0"
      ]
     },
     "execution_count": 6,
     "metadata": {},
     "output_type": "execute_result"
    }
   ],
   "source": [
    "df.head()"
   ]
  },
  {
   "cell_type": "code",
   "execution_count": 13,
   "id": "5fc34d9f",
   "metadata": {},
   "outputs": [],
   "source": [
    "from vega.widget import VegaWidget"
   ]
  },
  {
   "cell_type": "code",
   "execution_count": 16,
   "id": "2576e7a5",
   "metadata": {},
   "outputs": [],
   "source": [
    "spec_no_data = {\n",
    "  \"$schema\": \"https://vega.github.io/schema/vega-lite/v5.json\",\n",
    "  \"data\": {\"name\": \"data\"},\n",
    "  \"encoding\": {\"y\": {\"field\": \"OP_UNIQUE_CARRIER\", \"type\": \"ordinal\", \"title\": \"Company\"}},\n",
    "  \"layer\": [\n",
    "    {\n",
    "      \"mark\": {\"type\": \"point\", \"filled\": True},\n",
    "      \"encoding\": {\n",
    "        \"x\": {\n",
    "          \"aggregate\": \"mean\",\n",
    "          \"field\": \"ARR_DELAY\",\n",
    "          \"type\": \"quantitative\",\n",
    "          \"scale\": {\"zero\": False},\n",
    "          \"title\": \"Delay\"\n",
    "        },\n",
    "        \"color\": {\"value\": \"black\"}\n",
    "      }\n",
    "    },\n",
    "    {\n",
    "      \"mark\": {\"type\": \"errorbar\", \"extent\": \"ci\"},\n",
    "      \"encoding\": {\n",
    "        \"x\": {\"field\": \"ARR_DELAY\", \"type\": \"quantitative\", \"title\": \"Delay\"}\n",
    "      }\n",
    "    }\n",
    "  ]\n",
    "}"
   ]
  },
  {
   "cell_type": "code",
   "execution_count": 17,
   "id": "7205eebf",
   "metadata": {},
   "outputs": [
    {
     "data": {
      "application/vnd.jupyter.widget-view+json": {
       "model_id": "1a30ca8d5f31469b86d02cd2d2277c9a",
       "version_major": 2,
       "version_minor": 0
      },
      "text/plain": [
       "VegaWidget()"
      ]
     },
     "metadata": {},
     "output_type": "display_data"
    },
    {
     "name": "stdout",
     "output_type": "stream",
     "text": [
      "CPU times: user 179 ms, sys: 4.32 ms, total: 183 ms\n",
      "Wall time: 183 ms\n"
     ]
    }
   ],
   "source": [
    "widget = VegaWidget(spec=spec_no_data)\n",
    "display(widget)\n",
    "%time widget.update_dataframe(df)"
   ]
  },
  {
   "cell_type": "code",
   "execution_count": 18,
   "id": "01cf9438",
   "metadata": {},
   "outputs": [
    {
     "data": {
      "application/vnd.jupyter.widget-view+json": {
       "model_id": "9df210e2f110478bb7c4ffac115d331f",
       "version_major": 2,
       "version_minor": 0
      },
      "text/plain": [
       "VegaWidget()"
      ]
     },
     "metadata": {},
     "output_type": "display_data"
    },
    {
     "name": "stdout",
     "output_type": "stream",
     "text": [
      "CPU times: user 39.8 ms, sys: 7.38 ms, total: 47.2 ms\n",
      "Wall time: 46.8 ms\n"
     ]
    }
   ],
   "source": [
    "from vega.dataframes.compressors import LZ4Compressor\n",
    "widget = VegaWidget(spec=spec_no_data)\n",
    "widget.compression = LZ4Compressor(2)\n",
    "display(widget)\n",
    "%time widget.update_dataframe(df)"
   ]
  },
  {
   "cell_type": "code",
   "execution_count": null,
   "id": "82d4ceb9",
   "metadata": {},
   "outputs": [],
   "source": []
  }
 ],
 "metadata": {
  "kernelspec": {
   "display_name": "Python 3",
   "language": "python",
   "name": "python3"
  },
  "language_info": {
   "codemirror_mode": {
    "name": "ipython",
    "version": 3
   },
   "file_extension": ".py",
   "mimetype": "text/x-python",
   "name": "python",
   "nbconvert_exporter": "python",
   "pygments_lexer": "ipython3",
   "version": "3.9.4"
  }
 },
 "nbformat": 4,
 "nbformat_minor": 5
}
